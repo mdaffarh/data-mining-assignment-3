{
 "cells": [
  {
   "cell_type": "markdown",
   "metadata": {
    "cell_id": "771dab45e1074eceb5122e4ce9ffacae",
    "deepnote_app_block_visible": true,
    "deepnote_cell_type": "text-cell-h1",
    "formattedRanges": []
   },
   "source": [
    "# Tugas 3: Data Mining Cup 2013 - Task 1\n"
   ]
  },
  {
   "cell_type": "markdown",
   "metadata": {
    "cell_id": "610ea074fed44fb89cc856585d24900a",
    "deepnote_app_block_visible": true,
    "deepnote_cell_type": "text-cell-h3",
    "formattedRanges": []
   },
   "source": [
    "### Kelompok 9\n"
   ]
  },
  {
   "cell_type": "markdown",
   "metadata": {
    "cell_id": "8fd821c4ff61492998be0468cf11e079",
    "deepnote_app_block_visible": true,
    "deepnote_cell_type": "text-cell-bullet",
    "formattedRanges": [],
    "is_collapsed": false
   },
   "source": [
    "- Ahmad Rayki Pahlevi 2301596\n",
    "- Arya Jagadditha 2312239\n",
    "- Muhammad Daffa Rizmawan Harahap 2310083\n",
    "- Rasendriya Andhika 2305309\n",
    "- Yattaqi Ahmad Faza 2311216\n"
   ]
  },
  {
   "cell_type": "markdown",
   "metadata": {
    "cell_id": "2e8735d91eae44cca14e7653c8956f2e",
    "deepnote_app_block_visible": true,
    "deepnote_cell_type": "text-cell-h3",
    "formattedRanges": []
   },
   "source": [
    "### Pendahuluan\n"
   ]
  },
  {
   "cell_type": "markdown",
   "metadata": {
    "cell_id": "c5657405cdd64d31b9e78c70c2bcef8b",
    "deepnote_app_block_visible": true,
    "deepnote_cell_type": "markdown"
   },
   "source": [
    "Pada tugas ini, kami melakukan analisis terhadap data transaksi dalam konteks _Data Mining Cup 2013_, yang berfokus pada pengembangan model klasifikasi untuk mengidentifikasi pola dari data transaksi. Data yang digunakan terdiri dari dua set: `transact_train.txt` sebagai data pelatihan untuk melatih model, dan `transact_class.txt` sebagai data klasifikasi untuk pengujian model. Setiap file data memiliki format khusus dengan pemisah `|` dan mengandung nilai hilang yang ditandai dengan simbol `?`, yang digantikan dengan nilai `NaN` agar lebih mudah diolah. Dengan menggunakan _library_ Python seperti `pandas`, kami bertujuan untuk mengolah data ini secara efektif, melakukan pra-pemrosesan, dan membangun model yang mampu memberikan klasifikasi yang akurat.\n",
    "\n",
    "---\n"
   ]
  },
  {
   "cell_type": "markdown",
   "metadata": {
    "cell_id": "d7b9de43152f490e9b4cdadaf12dd0f3",
    "deepnote_app_block_visible": true,
    "deepnote_cell_type": "text-cell-h2",
    "formattedRanges": []
   },
   "source": [
    "## Import dan Cleaning Dataset\n"
   ]
  },
  {
   "cell_type": "code",
   "execution_count": 1,
   "metadata": {
    "cell_id": "cb341b26fec441eeab9a4e61abd6c8eb",
    "deepnote_app_block_visible": true,
    "deepnote_cell_type": "code",
    "execution_context_id": "84101a82-a4d1-4891-9ca1-15b33568b21c",
    "execution_millis": 1,
    "execution_start": 1731063169560,
    "source_hash": "b70c008b"
   },
   "outputs": [],
   "source": [
    "# import library\n",
    "import pandas as pd\n",
    "import numpy as np"
   ]
  },
  {
   "cell_type": "code",
   "execution_count": 2,
   "metadata": {
    "cell_id": "5ff56fcf737a4d039b45283c81b8cdca",
    "deepnote_app_block_visible": true,
    "deepnote_cell_type": "code",
    "execution_context_id": "84101a82-a4d1-4891-9ca1-15b33568b21c",
    "execution_millis": 1402,
    "execution_start": 1731063169613,
    "source_hash": "8a600a39"
   },
   "outputs": [],
   "source": [
    "# training data\n",
    "dt = pd.read_csv('transact_train.txt', sep='|', na_values='?')\n",
    "\n",
    "# classification data\n",
    "dc = pd.read_csv('transact_class.txt', sep='|', na_values='?')"
   ]
  },
  {
   "cell_type": "markdown",
   "metadata": {
    "cell_id": "7709e85384824fc68bc6bafcb13aaeda",
    "deepnote_app_block_visible": true,
    "deepnote_cell_type": "markdown"
   },
   "source": [
    "Jadi, di kode pertama, saya membaca file transact_train.txt yang berisi data pelatihan. Data di dalam file ini dipisahkan dengan tanda | (bukan koma), dan saya juga mengganti semua tanda ? yang ada di dalamnya dengan NaN, agar bisa dianggap sebagai data yang hilang.\n",
    "\n",
    "Di kode kedua, saya melakukan hal yang sama, cuma file yang saya baca adalah transact_class.txt, yang berisi data klasifikasi. Jadi intinya, kedua kode ini digunakan untuk membaca file teks dan mengganti tanda ? dengan nilai yang hilang.\n"
   ]
  },
  {
   "cell_type": "code",
   "execution_count": 3,
   "metadata": {
    "cell_id": "94ce53588a174dfa8414da32629cef76",
    "deepnote_app_block_visible": true,
    "deepnote_cell_type": "code",
    "deepnote_table_loading": false,
    "deepnote_table_state": {
     "conditionalFilters": [],
     "filters": [],
     "pageIndex": 0,
     "pageSize": 100,
     "sortBy": [],
     "wrappedTextColumnIds": []
    },
    "execution_context_id": "84101a82-a4d1-4891-9ca1-15b33568b21c",
    "execution_millis": 84,
    "execution_start": 1731063171064,
    "source_hash": "5eda1764"
   },
   "outputs": [
    {
     "data": {
      "application/vnd.deepnote.dataframe.v3+json": {
       "column_count": 24,
       "columns": [
        {
         "dtype": "int64",
         "name": "sessionNo",
         "stats": {
          "histogram": [
           {
            "bin_end": 1.2,
            "bin_start": 1,
            "count": 3
           },
           {
            "bin_end": 1.4,
            "bin_start": 1.2,
            "count": 0
           },
           {
            "bin_end": 1.6,
            "bin_start": 1.4,
            "count": 0
           },
           {
            "bin_end": 1.8,
            "bin_start": 1.6,
            "count": 0
           },
           {
            "bin_end": 2,
            "bin_start": 1.8,
            "count": 0
           },
           {
            "bin_end": 2.2,
            "bin_start": 2,
            "count": 5
           },
           {
            "bin_end": 2.4000000000000004,
            "bin_start": 2.2,
            "count": 0
           },
           {
            "bin_end": 2.6,
            "bin_start": 2.4000000000000004,
            "count": 0
           },
           {
            "bin_end": 2.8,
            "bin_start": 2.6,
            "count": 0
           },
           {
            "bin_end": 3,
            "bin_start": 2.8,
            "count": 2
           }
          ],
          "max": "3",
          "min": "1",
          "nan_count": 0,
          "unique_count": 3
         }
        },
        {
         "dtype": "int64",
         "name": "startHour",
         "stats": {
          "histogram": [
           {
            "bin_end": 5.6,
            "bin_start": 5.5,
            "count": 0
           },
           {
            "bin_end": 5.7,
            "bin_start": 5.6,
            "count": 0
           },
           {
            "bin_end": 5.8,
            "bin_start": 5.7,
            "count": 0
           },
           {
            "bin_end": 5.9,
            "bin_start": 5.8,
            "count": 0
           },
           {
            "bin_end": 6,
            "bin_start": 5.9,
            "count": 0
           },
           {
            "bin_end": 6.1,
            "bin_start": 6,
            "count": 10
           },
           {
            "bin_end": 6.2,
            "bin_start": 6.1,
            "count": 0
           },
           {
            "bin_end": 6.3,
            "bin_start": 6.2,
            "count": 0
           },
           {
            "bin_end": 6.4,
            "bin_start": 6.3,
            "count": 0
           },
           {
            "bin_end": 6.5,
            "bin_start": 6.4,
            "count": 0
           }
          ],
          "max": "6",
          "min": "6",
          "nan_count": 0,
          "unique_count": 1
         }
        },
        {
         "dtype": "int64",
         "name": "startWeekday",
         "stats": {
          "histogram": [
           {
            "bin_end": 4.6,
            "bin_start": 4.5,
            "count": 0
           },
           {
            "bin_end": 4.7,
            "bin_start": 4.6,
            "count": 0
           },
           {
            "bin_end": 4.8,
            "bin_start": 4.7,
            "count": 0
           },
           {
            "bin_end": 4.9,
            "bin_start": 4.8,
            "count": 0
           },
           {
            "bin_end": 5,
            "bin_start": 4.9,
            "count": 0
           },
           {
            "bin_end": 5.1,
            "bin_start": 5,
            "count": 10
           },
           {
            "bin_end": 5.2,
            "bin_start": 5.1,
            "count": 0
           },
           {
            "bin_end": 5.3,
            "bin_start": 5.2,
            "count": 0
           },
           {
            "bin_end": 5.4,
            "bin_start": 5.3,
            "count": 0
           },
           {
            "bin_end": 5.5,
            "bin_start": 5.4,
            "count": 0
           }
          ],
          "max": "5",
          "min": "5",
          "nan_count": 0,
          "unique_count": 1
         }
        },
        {
         "dtype": "float64",
         "name": "duration",
         "stats": {
          "histogram": [
           {
            "bin_end": 29.7018,
            "bin_start": 0,
            "count": 5
           },
           {
            "bin_end": 59.4036,
            "bin_start": 29.7018,
            "count": 1
           },
           {
            "bin_end": 89.1054,
            "bin_start": 59.4036,
            "count": 1
           },
           {
            "bin_end": 118.8072,
            "bin_start": 89.1054,
            "count": 1
           },
           {
            "bin_end": 148.509,
            "bin_start": 118.8072,
            "count": 0
           },
           {
            "bin_end": 178.2108,
            "bin_start": 148.509,
            "count": 0
           },
           {
            "bin_end": 207.9126,
            "bin_start": 178.2108,
            "count": 1
           },
           {
            "bin_end": 237.6144,
            "bin_start": 207.9126,
            "count": 0
           },
           {
            "bin_end": 267.3162,
            "bin_start": 237.6144,
            "count": 0
           },
           {
            "bin_end": 297.018,
            "bin_start": 267.3162,
            "count": 1
           }
          ],
          "max": "297.018",
          "min": "0.0",
          "nan_count": 0,
          "unique_count": 9
         }
        },
        {
         "dtype": "int64",
         "name": "cCount",
         "stats": {
          "histogram": [
           {
            "bin_end": 1.1,
            "bin_start": 0,
            "count": 8
           },
           {
            "bin_end": 2.2,
            "bin_start": 1.1,
            "count": 0
           },
           {
            "bin_end": 3.3000000000000003,
            "bin_start": 2.2,
            "count": 0
           },
           {
            "bin_end": 4.4,
            "bin_start": 3.3000000000000003,
            "count": 0
           },
           {
            "bin_end": 5.5,
            "bin_start": 4.4,
            "count": 0
           },
           {
            "bin_end": 6.6000000000000005,
            "bin_start": 5.5,
            "count": 0
           },
           {
            "bin_end": 7.700000000000001,
            "bin_start": 6.6000000000000005,
            "count": 0
           },
           {
            "bin_end": 8.8,
            "bin_start": 7.700000000000001,
            "count": 0
           },
           {
            "bin_end": 9.9,
            "bin_start": 8.8,
            "count": 1
           },
           {
            "bin_end": 11,
            "bin_start": 9.9,
            "count": 1
           }
          ],
          "max": "11",
          "min": "0",
          "nan_count": 0,
          "unique_count": 4
         }
        },
        {
         "dtype": "float64",
         "name": "cMinPrice",
         "stats": {
          "histogram": [
           {
            "bin_end": 14.99,
            "bin_start": 9.99,
            "count": 1
           },
           {
            "bin_end": 19.990000000000002,
            "bin_start": 14.99,
            "count": 0
           },
           {
            "bin_end": 24.990000000000002,
            "bin_start": 19.990000000000002,
            "count": 0
           },
           {
            "bin_end": 29.990000000000002,
            "bin_start": 24.990000000000002,
            "count": 1
           },
           {
            "bin_end": 34.99,
            "bin_start": 29.990000000000002,
            "count": 0
           },
           {
            "bin_end": 39.99,
            "bin_start": 34.99,
            "count": 0
           },
           {
            "bin_end": 44.99,
            "bin_start": 39.99,
            "count": 0
           },
           {
            "bin_end": 49.99,
            "bin_start": 44.99,
            "count": 0
           },
           {
            "bin_end": 54.99,
            "bin_start": 49.99,
            "count": 0
           },
           {
            "bin_end": 59.99,
            "bin_start": 54.99,
            "count": 3
           }
          ],
          "max": "59.99",
          "min": "9.99",
          "nan_count": 5,
          "unique_count": 3
         }
        },
        {
         "dtype": "float64",
         "name": "cMaxPrice",
         "stats": {
          "histogram": [
           {
            "bin_end": 32.99,
            "bin_start": 29.99,
            "count": 2
           },
           {
            "bin_end": 35.99,
            "bin_start": 32.99,
            "count": 0
           },
           {
            "bin_end": 38.99,
            "bin_start": 35.99,
            "count": 0
           },
           {
            "bin_end": 41.99,
            "bin_start": 38.99,
            "count": 0
           },
           {
            "bin_end": 44.99,
            "bin_start": 41.99,
            "count": 0
           },
           {
            "bin_end": 47.99,
            "bin_start": 44.99,
            "count": 0
           },
           {
            "bin_end": 50.99,
            "bin_start": 47.99,
            "count": 0
           },
           {
            "bin_end": 53.99,
            "bin_start": 50.99,
            "count": 0
           },
           {
            "bin_end": 56.99,
            "bin_start": 53.99,
            "count": 0
           },
           {
            "bin_end": 59.99,
            "bin_start": 56.99,
            "count": 3
           }
          ],
          "max": "59.99",
          "min": "29.99",
          "nan_count": 5,
          "unique_count": 2
         }
        },
        {
         "dtype": "float64",
         "name": "cSumPrice",
         "stats": {
          "histogram": [
           {
            "bin_end": 64.986,
            "bin_start": 59.99,
            "count": 3
           },
           {
            "bin_end": 69.982,
            "bin_start": 64.986,
            "count": 0
           },
           {
            "bin_end": 74.97800000000001,
            "bin_start": 69.982,
            "count": 0
           },
           {
            "bin_end": 79.974,
            "bin_start": 74.97800000000001,
            "count": 0
           },
           {
            "bin_end": 84.97,
            "bin_start": 79.974,
            "count": 0
           },
           {
            "bin_end": 89.96600000000001,
            "bin_start": 84.97,
            "count": 0
           },
           {
            "bin_end": 94.962,
            "bin_start": 89.96600000000001,
            "count": 1
           },
           {
            "bin_end": 99.958,
            "bin_start": 94.962,
            "count": 0
           },
           {
            "bin_end": 104.95400000000001,
            "bin_start": 99.958,
            "count": 0
           },
           {
            "bin_end": 109.95,
            "bin_start": 104.95400000000001,
            "count": 1
           }
          ],
          "max": "109.95",
          "min": "59.99",
          "nan_count": 5,
          "unique_count": 3
         }
        },
        {
         "dtype": "int64",
         "name": "bCount",
         "stats": {
          "histogram": [
           {
            "bin_end": 0.2,
            "bin_start": 0,
            "count": 5
           },
           {
            "bin_end": 0.4,
            "bin_start": 0.2,
            "count": 0
           },
           {
            "bin_end": 0.6000000000000001,
            "bin_start": 0.4,
            "count": 0
           },
           {
            "bin_end": 0.8,
            "bin_start": 0.6000000000000001,
            "count": 0
           },
           {
            "bin_end": 1,
            "bin_start": 0.8,
            "count": 0
           },
           {
            "bin_end": 1.2000000000000002,
            "bin_start": 1,
            "count": 4
           },
           {
            "bin_end": 1.4000000000000001,
            "bin_start": 1.2000000000000002,
            "count": 0
           },
           {
            "bin_end": 1.6,
            "bin_start": 1.4000000000000001,
            "count": 0
           },
           {
            "bin_end": 1.8,
            "bin_start": 1.6,
            "count": 0
           },
           {
            "bin_end": 2,
            "bin_start": 1.8,
            "count": 1
           }
          ],
          "max": "2",
          "min": "0",
          "nan_count": 0,
          "unique_count": 3
         }
        },
        {
         "dtype": "float64",
         "name": "bMinPrice",
         "stats": {
          "histogram": [
           {
            "bin_end": 14.99,
            "bin_start": 9.99,
            "count": 1
           },
           {
            "bin_end": 19.990000000000002,
            "bin_start": 14.99,
            "count": 0
           },
           {
            "bin_end": 24.990000000000002,
            "bin_start": 19.990000000000002,
            "count": 0
           },
           {
            "bin_end": 29.990000000000002,
            "bin_start": 24.990000000000002,
            "count": 1
           },
           {
            "bin_end": 34.99,
            "bin_start": 29.990000000000002,
            "count": 0
           },
           {
            "bin_end": 39.99,
            "bin_start": 34.99,
            "count": 0
           },
           {
            "bin_end": 44.99,
            "bin_start": 39.99,
            "count": 0
           },
           {
            "bin_end": 49.99,
            "bin_start": 44.99,
            "count": 0
           },
           {
            "bin_end": 54.99,
            "bin_start": 49.99,
            "count": 0
           },
           {
            "bin_end": 59.99,
            "bin_start": 54.99,
            "count": 3
           }
          ],
          "max": "59.99",
          "min": "9.99",
          "nan_count": 5,
          "unique_count": 3
         }
        },
        {
         "dtype": "float64",
         "name": "bMaxPrice",
         "stats": {
          "histogram": [
           {
            "bin_end": 32.99,
            "bin_start": 29.99,
            "count": 2
           },
           {
            "bin_end": 35.99,
            "bin_start": 32.99,
            "count": 0
           },
           {
            "bin_end": 38.99,
            "bin_start": 35.99,
            "count": 0
           },
           {
            "bin_end": 41.99,
            "bin_start": 38.99,
            "count": 0
           },
           {
            "bin_end": 44.99,
            "bin_start": 41.99,
            "count": 0
           },
           {
            "bin_end": 47.99,
            "bin_start": 44.99,
            "count": 0
           },
           {
            "bin_end": 50.99,
            "bin_start": 47.99,
            "count": 0
           },
           {
            "bin_end": 53.99,
            "bin_start": 50.99,
            "count": 0
           },
           {
            "bin_end": 56.99,
            "bin_start": 53.99,
            "count": 0
           },
           {
            "bin_end": 59.99,
            "bin_start": 56.99,
            "count": 3
           }
          ],
          "max": "59.99",
          "min": "29.99",
          "nan_count": 5,
          "unique_count": 2
         }
        },
        {
         "dtype": "float64",
         "name": "bSumPrice",
         "stats": {
          "histogram": [
           {
            "bin_end": 32.99,
            "bin_start": 29.99,
            "count": 1
           },
           {
            "bin_end": 35.99,
            "bin_start": 32.99,
            "count": 0
           },
           {
            "bin_end": 38.99,
            "bin_start": 35.99,
            "count": 0
           },
           {
            "bin_end": 41.99,
            "bin_start": 38.99,
            "count": 1
           },
           {
            "bin_end": 44.99,
            "bin_start": 41.99,
            "count": 0
           },
           {
            "bin_end": 47.99,
            "bin_start": 44.99,
            "count": 0
           },
           {
            "bin_end": 50.99,
            "bin_start": 47.99,
            "count": 0
           },
           {
            "bin_end": 53.99,
            "bin_start": 50.99,
            "count": 0
           },
           {
            "bin_end": 56.99,
            "bin_start": 53.99,
            "count": 0
           },
           {
            "bin_end": 59.99,
            "bin_start": 56.99,
            "count": 3
           }
          ],
          "max": "59.99",
          "min": "29.99",
          "nan_count": 5,
          "unique_count": 3
         }
        },
        {
         "dtype": "float64",
         "name": "bStep",
         "stats": {
          "histogram": [
           {
            "bin_end": 2.2,
            "bin_start": 2,
            "count": 2
           },
           {
            "bin_end": 2.4,
            "bin_start": 2.2,
            "count": 0
           },
           {
            "bin_end": 2.6,
            "bin_start": 2.4,
            "count": 0
           },
           {
            "bin_end": 2.8,
            "bin_start": 2.6,
            "count": 0
           },
           {
            "bin_end": 3,
            "bin_start": 2.8,
            "count": 0
           },
           {
            "bin_end": 3.2,
            "bin_start": 3,
            "count": 0
           },
           {
            "bin_end": 3.4000000000000004,
            "bin_start": 3.2,
            "count": 0
           },
           {
            "bin_end": 3.6,
            "bin_start": 3.4000000000000004,
            "count": 0
           },
           {
            "bin_end": 3.8,
            "bin_start": 3.6,
            "count": 0
           },
           {
            "bin_end": 4,
            "bin_start": 3.8,
            "count": 2
           }
          ],
          "max": "4.0",
          "min": "2.0",
          "nan_count": 6,
          "unique_count": 2
         }
        },
        {
         "dtype": "object",
         "name": "onlineStatus",
         "stats": {
          "categories": [
           {
            "count": 7,
            "name": "y"
           },
           {
            "count": 3,
            "name": "Missing"
           }
          ],
          "nan_count": 3,
          "unique_count": 1
         }
        },
        {
         "dtype": "object",
         "name": "availability",
         "stats": {
          "categories": [
           {
            "count": 7,
            "name": "completely orderable"
           },
           {
            "count": 3,
            "name": "Missing"
           }
          ],
          "nan_count": 3,
          "unique_count": 1
         }
        },
        {
         "dtype": "float64",
         "name": "customerNo",
         "stats": {
          "histogram": [
           {
            "bin_end": 1.2,
            "bin_start": 1,
            "count": 3
           },
           {
            "bin_end": 1.4,
            "bin_start": 1.2,
            "count": 0
           },
           {
            "bin_end": 1.6,
            "bin_start": 1.4,
            "count": 0
           },
           {
            "bin_end": 1.8,
            "bin_start": 1.6,
            "count": 0
           },
           {
            "bin_end": 2,
            "bin_start": 1.8,
            "count": 0
           },
           {
            "bin_end": 2.2,
            "bin_start": 2,
            "count": 0
           },
           {
            "bin_end": 2.4000000000000004,
            "bin_start": 2.2,
            "count": 0
           },
           {
            "bin_end": 2.6,
            "bin_start": 2.4000000000000004,
            "count": 0
           },
           {
            "bin_end": 2.8,
            "bin_start": 2.6,
            "count": 0
           },
           {
            "bin_end": 3,
            "bin_start": 2.8,
            "count": 2
           }
          ],
          "max": "3.0",
          "min": "1.0",
          "nan_count": 5,
          "unique_count": 2
         }
        },
        {
         "dtype": "float64",
         "name": "maxVal",
         "stats": {
          "histogram": [
           {
            "bin_end": 720,
            "bin_start": 600,
            "count": 3
           },
           {
            "bin_end": 840,
            "bin_start": 720,
            "count": 0
           },
           {
            "bin_end": 960,
            "bin_start": 840,
            "count": 0
           },
           {
            "bin_end": 1080,
            "bin_start": 960,
            "count": 0
           },
           {
            "bin_end": 1200,
            "bin_start": 1080,
            "count": 0
           },
           {
            "bin_end": 1320,
            "bin_start": 1200,
            "count": 0
           },
           {
            "bin_end": 1440,
            "bin_start": 1320,
            "count": 0
           },
           {
            "bin_end": 1560,
            "bin_start": 1440,
            "count": 0
           },
           {
            "bin_end": 1680,
            "bin_start": 1560,
            "count": 0
           },
           {
            "bin_end": 1800,
            "bin_start": 1680,
            "count": 2
           }
          ],
          "max": "1800.0",
          "min": "600.0",
          "nan_count": 5,
          "unique_count": 2
         }
        },
        {
         "dtype": "float64",
         "name": "customerScore",
         "stats": {
          "histogram": [
           {
            "bin_end": 110.5,
            "bin_start": 70,
            "count": 3
           },
           {
            "bin_end": 151,
            "bin_start": 110.5,
            "count": 0
           },
           {
            "bin_end": 191.5,
            "bin_start": 151,
            "count": 0
           },
           {
            "bin_end": 232,
            "bin_start": 191.5,
            "count": 0
           },
           {
            "bin_end": 272.5,
            "bin_start": 232,
            "count": 0
           },
           {
            "bin_end": 313,
            "bin_start": 272.5,
            "count": 0
           },
           {
            "bin_end": 353.5,
            "bin_start": 313,
            "count": 0
           },
           {
            "bin_end": 394,
            "bin_start": 353.5,
            "count": 0
           },
           {
            "bin_end": 434.5,
            "bin_start": 394,
            "count": 0
           },
           {
            "bin_end": 475,
            "bin_start": 434.5,
            "count": 2
           }
          ],
          "max": "475.0",
          "min": "70.0",
          "nan_count": 5,
          "unique_count": 2
         }
        },
        {
         "dtype": "float64",
         "name": "accountLifetime",
         "stats": {
          "histogram": [
           {
            "bin_end": 49.1,
            "bin_start": 21,
            "count": 3
           },
           {
            "bin_end": 77.2,
            "bin_start": 49.1,
            "count": 0
           },
           {
            "bin_end": 105.30000000000001,
            "bin_start": 77.2,
            "count": 0
           },
           {
            "bin_end": 133.4,
            "bin_start": 105.30000000000001,
            "count": 0
           },
           {
            "bin_end": 161.5,
            "bin_start": 133.4,
            "count": 0
           },
           {
            "bin_end": 189.60000000000002,
            "bin_start": 161.5,
            "count": 0
           },
           {
            "bin_end": 217.70000000000002,
            "bin_start": 189.60000000000002,
            "count": 0
           },
           {
            "bin_end": 245.8,
            "bin_start": 217.70000000000002,
            "count": 0
           },
           {
            "bin_end": 273.9,
            "bin_start": 245.8,
            "count": 0
           },
           {
            "bin_end": 302,
            "bin_start": 273.9,
            "count": 2
           }
          ],
          "max": "302.0",
          "min": "21.0",
          "nan_count": 5,
          "unique_count": 2
         }
        },
        {
         "dtype": "float64",
         "name": "payments",
         "stats": {
          "histogram": [
           {
            "bin_end": 2.1,
            "bin_start": 1,
            "count": 3
           },
           {
            "bin_end": 3.2,
            "bin_start": 2.1,
            "count": 0
           },
           {
            "bin_end": 4.300000000000001,
            "bin_start": 3.2,
            "count": 0
           },
           {
            "bin_end": 5.4,
            "bin_start": 4.300000000000001,
            "count": 0
           },
           {
            "bin_end": 6.5,
            "bin_start": 5.4,
            "count": 0
           },
           {
            "bin_end": 7.6000000000000005,
            "bin_start": 6.5,
            "count": 0
           },
           {
            "bin_end": 8.700000000000001,
            "bin_start": 7.6000000000000005,
            "count": 0
           },
           {
            "bin_end": 9.8,
            "bin_start": 8.700000000000001,
            "count": 0
           },
           {
            "bin_end": 10.9,
            "bin_start": 9.8,
            "count": 0
           },
           {
            "bin_end": 12,
            "bin_start": 10.9,
            "count": 2
           }
          ],
          "max": "12.0",
          "min": "1.0",
          "nan_count": 5,
          "unique_count": 2
         }
        },
        {
         "dtype": "float64",
         "name": "age",
         "stats": {
          "histogram": [
           {
            "bin_end": 43.2,
            "bin_start": 43,
            "count": 3
           },
           {
            "bin_end": 43.4,
            "bin_start": 43.2,
            "count": 0
           },
           {
            "bin_end": 43.6,
            "bin_start": 43.4,
            "count": 0
           },
           {
            "bin_end": 43.8,
            "bin_start": 43.6,
            "count": 0
           },
           {
            "bin_end": 44,
            "bin_start": 43.8,
            "count": 0
           },
           {
            "bin_end": 44.2,
            "bin_start": 44,
            "count": 0
           },
           {
            "bin_end": 44.4,
            "bin_start": 44.2,
            "count": 0
           },
           {
            "bin_end": 44.6,
            "bin_start": 44.4,
            "count": 0
           },
           {
            "bin_end": 44.8,
            "bin_start": 44.6,
            "count": 0
           },
           {
            "bin_end": 45,
            "bin_start": 44.8,
            "count": 2
           }
          ],
          "max": "45.0",
          "min": "43.0",
          "nan_count": 5,
          "unique_count": 2
         }
        },
        {
         "dtype": "float64",
         "name": "address",
         "stats": {
          "histogram": [
           {
            "bin_end": 0.6,
            "bin_start": 0.5,
            "count": 0
           },
           {
            "bin_end": 0.7,
            "bin_start": 0.6,
            "count": 0
           },
           {
            "bin_end": 0.8,
            "bin_start": 0.7,
            "count": 0
           },
           {
            "bin_end": 0.9,
            "bin_start": 0.8,
            "count": 0
           },
           {
            "bin_end": 1,
            "bin_start": 0.9,
            "count": 0
           },
           {
            "bin_end": 1.1,
            "bin_start": 1,
            "count": 5
           },
           {
            "bin_end": 1.2000000000000002,
            "bin_start": 1.1,
            "count": 0
           },
           {
            "bin_end": 1.3,
            "bin_start": 1.2000000000000002,
            "count": 0
           },
           {
            "bin_end": 1.4,
            "bin_start": 1.3,
            "count": 0
           },
           {
            "bin_end": 1.5,
            "bin_start": 1.4,
            "count": 0
           }
          ],
          "max": "1.0",
          "min": "1.0",
          "nan_count": 5,
          "unique_count": 1
         }
        },
        {
         "dtype": "float64",
         "name": "lastOrder",
         "stats": {
          "histogram": [
           {
            "bin_end": 14.8,
            "bin_start": 11,
            "count": 2
           },
           {
            "bin_end": 18.6,
            "bin_start": 14.8,
            "count": 0
           },
           {
            "bin_end": 22.4,
            "bin_start": 18.6,
            "count": 0
           },
           {
            "bin_end": 26.2,
            "bin_start": 22.4,
            "count": 0
           },
           {
            "bin_end": 30,
            "bin_start": 26.2,
            "count": 0
           },
           {
            "bin_end": 33.8,
            "bin_start": 30,
            "count": 0
           },
           {
            "bin_end": 37.599999999999994,
            "bin_start": 33.8,
            "count": 0
           },
           {
            "bin_end": 41.4,
            "bin_start": 37.599999999999994,
            "count": 0
           },
           {
            "bin_end": 45.199999999999996,
            "bin_start": 41.4,
            "count": 0
           },
           {
            "bin_end": 49,
            "bin_start": 45.199999999999996,
            "count": 3
           }
          ],
          "max": "49.0",
          "min": "11.0",
          "nan_count": 5,
          "unique_count": 2
         }
        },
        {
         "dtype": "object",
         "name": "order",
         "stats": {
          "categories": [
           {
            "count": 10,
            "name": "y"
           }
          ],
          "nan_count": 0,
          "unique_count": 1
         }
        },
        {
         "dtype": "int64",
         "name": "_deepnote_index_column"
        }
       ],
       "row_count": 10,
       "rows": [
        {
         "_deepnote_index_column": 0,
         "accountLifetime": 21,
         "address": 1,
         "age": 43,
         "availability": "nan",
         "bCount": 1,
         "bMaxPrice": 59.99,
         "bMinPrice": 59.99,
         "bStep": "nan",
         "bSumPrice": 59.99,
         "cCount": 1,
         "cMaxPrice": 59.99,
         "cMinPrice": 59.99,
         "cSumPrice": 59.99,
         "customerNo": 1,
         "customerScore": 70,
         "duration": 0,
         "lastOrder": 49,
         "maxVal": 600,
         "onlineStatus": "nan",
         "order": "y",
         "payments": 1,
         "sessionNo": 1,
         "startHour": 6,
         "startWeekday": 5
        },
        {
         "_deepnote_index_column": 1,
         "accountLifetime": 21,
         "address": 1,
         "age": 43,
         "availability": "completely orderable",
         "bCount": 1,
         "bMaxPrice": 59.99,
         "bMinPrice": 59.99,
         "bStep": 2,
         "bSumPrice": 59.99,
         "cCount": 1,
         "cMaxPrice": 59.99,
         "cMinPrice": 59.99,
         "cSumPrice": 59.99,
         "customerNo": 1,
         "customerScore": 70,
         "duration": 11.94,
         "lastOrder": 49,
         "maxVal": 600,
         "onlineStatus": "y",
         "order": "y",
         "payments": 1,
         "sessionNo": 1,
         "startHour": 6,
         "startWeekday": 5
        },
        {
         "_deepnote_index_column": 2,
         "accountLifetime": 21,
         "address": 1,
         "age": 43,
         "availability": "completely orderable",
         "bCount": 1,
         "bMaxPrice": 59.99,
         "bMinPrice": 59.99,
         "bStep": "nan",
         "bSumPrice": 59.99,
         "cCount": 1,
         "cMaxPrice": 59.99,
         "cMinPrice": 59.99,
         "cSumPrice": 59.99,
         "customerNo": 1,
         "customerScore": 70,
         "duration": 39.887,
         "lastOrder": 49,
         "maxVal": 600,
         "onlineStatus": "y",
         "order": "y",
         "payments": 1,
         "sessionNo": 1,
         "startHour": 6,
         "startWeekday": 5
        },
        {
         "_deepnote_index_column": 3,
         "accountLifetime": "nan",
         "address": "nan",
         "age": "nan",
         "availability": "completely orderable",
         "bCount": 0,
         "bMaxPrice": "nan",
         "bMinPrice": "nan",
         "bStep": 2,
         "bSumPrice": "nan",
         "cCount": 0,
         "cMaxPrice": "nan",
         "cMinPrice": "nan",
         "cSumPrice": "nan",
         "customerNo": "nan",
         "customerScore": "nan",
         "duration": 0,
         "lastOrder": "nan",
         "maxVal": "nan",
         "onlineStatus": "y",
         "order": "y",
         "payments": "nan",
         "sessionNo": 2,
         "startHour": 6,
         "startWeekday": 5
        },
        {
         "_deepnote_index_column": 4,
         "accountLifetime": "nan",
         "address": "nan",
         "age": "nan",
         "availability": "completely orderable",
         "bCount": 0,
         "bMaxPrice": "nan",
         "bMinPrice": "nan",
         "bStep": "nan",
         "bSumPrice": "nan",
         "cCount": 0,
         "cMaxPrice": "nan",
         "cMinPrice": "nan",
         "cSumPrice": "nan",
         "customerNo": "nan",
         "customerScore": "nan",
         "duration": 15.633,
         "lastOrder": "nan",
         "maxVal": "nan",
         "onlineStatus": "y",
         "order": "y",
         "payments": "nan",
         "sessionNo": 2,
         "startHour": 6,
         "startWeekday": 5
        },
        {
         "_deepnote_index_column": 5,
         "accountLifetime": "nan",
         "address": "nan",
         "age": "nan",
         "availability": "completely orderable",
         "bCount": 0,
         "bMaxPrice": "nan",
         "bMinPrice": "nan",
         "bStep": 4,
         "bSumPrice": "nan",
         "cCount": 0,
         "cMaxPrice": "nan",
         "cMinPrice": "nan",
         "cSumPrice": "nan",
         "customerNo": "nan",
         "customerScore": "nan",
         "duration": 26.235,
         "lastOrder": "nan",
         "maxVal": "nan",
         "onlineStatus": "y",
         "order": "y",
         "payments": "nan",
         "sessionNo": 2,
         "startHour": 6,
         "startWeekday": 5
        },
        {
         "_deepnote_index_column": 6,
         "accountLifetime": "nan",
         "address": "nan",
         "age": "nan",
         "availability": "completely orderable",
         "bCount": 0,
         "bMaxPrice": "nan",
         "bMinPrice": "nan",
         "bStep": 4,
         "bSumPrice": "nan",
         "cCount": 0,
         "cMaxPrice": "nan",
         "cMinPrice": "nan",
         "cSumPrice": "nan",
         "customerNo": "nan",
         "customerScore": "nan",
         "duration": 71.2,
         "lastOrder": "nan",
         "maxVal": "nan",
         "onlineStatus": "y",
         "order": "y",
         "payments": "nan",
         "sessionNo": 2,
         "startHour": 6,
         "startWeekday": 5
        },
        {
         "_deepnote_index_column": 7,
         "accountLifetime": "nan",
         "address": "nan",
         "age": "nan",
         "availability": "completely orderable",
         "bCount": 0,
         "bMaxPrice": "nan",
         "bMinPrice": "nan",
         "bStep": "nan",
         "bSumPrice": "nan",
         "cCount": 0,
         "cMaxPrice": "nan",
         "cMinPrice": "nan",
         "cSumPrice": "nan",
         "customerNo": "nan",
         "customerScore": "nan",
         "duration": 94.469,
         "lastOrder": "nan",
         "maxVal": "nan",
         "onlineStatus": "y",
         "order": "y",
         "payments": "nan",
         "sessionNo": 2,
         "startHour": 6,
         "startWeekday": 5
        },
        {
         "_deepnote_index_column": 8,
         "accountLifetime": 302,
         "address": 1,
         "age": 45,
         "availability": "nan",
         "bCount": 1,
         "bMaxPrice": 29.99,
         "bMinPrice": 29.99,
         "bStep": "nan",
         "bSumPrice": 29.99,
         "cCount": 9,
         "cMaxPrice": 29.99,
         "cMinPrice": 29.99,
         "cSumPrice": 89.97,
         "customerNo": 3,
         "customerScore": 475,
         "duration": 181.477,
         "lastOrder": 11,
         "maxVal": 1800,
         "onlineStatus": "nan",
         "order": "y",
         "payments": 12,
         "sessionNo": 3,
         "startHour": 6,
         "startWeekday": 5
        },
        {
         "_deepnote_index_column": 9,
         "accountLifetime": 302,
         "address": 1,
         "age": 45,
         "availability": "nan",
         "bCount": 2,
         "bMaxPrice": 29.99,
         "bMinPrice": 9.99,
         "bStep": "nan",
         "bSumPrice": 39.98,
         "cCount": 11,
         "cMaxPrice": 29.99,
         "cMinPrice": 9.99,
         "cSumPrice": 109.95,
         "customerNo": 3,
         "customerScore": 475,
         "duration": 297.018,
         "lastOrder": 11,
         "maxVal": 1800,
         "onlineStatus": "nan",
         "order": "y",
         "payments": 12,
         "sessionNo": 3,
         "startHour": 6,
         "startWeekday": 5
        }
       ]
      },
      "text/html": [
       "<div>\n",
       "<style scoped>\n",
       "    .dataframe tbody tr th:only-of-type {\n",
       "        vertical-align: middle;\n",
       "    }\n",
       "\n",
       "    .dataframe tbody tr th {\n",
       "        vertical-align: top;\n",
       "    }\n",
       "\n",
       "    .dataframe thead th {\n",
       "        text-align: right;\n",
       "    }\n",
       "</style>\n",
       "<table border=\"1\" class=\"dataframe\">\n",
       "  <thead>\n",
       "    <tr style=\"text-align: right;\">\n",
       "      <th></th>\n",
       "      <th>sessionNo</th>\n",
       "      <th>startHour</th>\n",
       "      <th>startWeekday</th>\n",
       "      <th>duration</th>\n",
       "      <th>cCount</th>\n",
       "      <th>cMinPrice</th>\n",
       "      <th>cMaxPrice</th>\n",
       "      <th>cSumPrice</th>\n",
       "      <th>bCount</th>\n",
       "      <th>bMinPrice</th>\n",
       "      <th>...</th>\n",
       "      <th>availability</th>\n",
       "      <th>customerNo</th>\n",
       "      <th>maxVal</th>\n",
       "      <th>customerScore</th>\n",
       "      <th>accountLifetime</th>\n",
       "      <th>payments</th>\n",
       "      <th>age</th>\n",
       "      <th>address</th>\n",
       "      <th>lastOrder</th>\n",
       "      <th>order</th>\n",
       "    </tr>\n",
       "  </thead>\n",
       "  <tbody>\n",
       "    <tr>\n",
       "      <th>0</th>\n",
       "      <td>1</td>\n",
       "      <td>6</td>\n",
       "      <td>5</td>\n",
       "      <td>0.000</td>\n",
       "      <td>1</td>\n",
       "      <td>59.99</td>\n",
       "      <td>59.99</td>\n",
       "      <td>59.99</td>\n",
       "      <td>1</td>\n",
       "      <td>59.99</td>\n",
       "      <td>...</td>\n",
       "      <td>NaN</td>\n",
       "      <td>1.0</td>\n",
       "      <td>600.0</td>\n",
       "      <td>70.0</td>\n",
       "      <td>21.0</td>\n",
       "      <td>1.0</td>\n",
       "      <td>43.0</td>\n",
       "      <td>1.0</td>\n",
       "      <td>49.0</td>\n",
       "      <td>y</td>\n",
       "    </tr>\n",
       "    <tr>\n",
       "      <th>1</th>\n",
       "      <td>1</td>\n",
       "      <td>6</td>\n",
       "      <td>5</td>\n",
       "      <td>11.940</td>\n",
       "      <td>1</td>\n",
       "      <td>59.99</td>\n",
       "      <td>59.99</td>\n",
       "      <td>59.99</td>\n",
       "      <td>1</td>\n",
       "      <td>59.99</td>\n",
       "      <td>...</td>\n",
       "      <td>completely orderable</td>\n",
       "      <td>1.0</td>\n",
       "      <td>600.0</td>\n",
       "      <td>70.0</td>\n",
       "      <td>21.0</td>\n",
       "      <td>1.0</td>\n",
       "      <td>43.0</td>\n",
       "      <td>1.0</td>\n",
       "      <td>49.0</td>\n",
       "      <td>y</td>\n",
       "    </tr>\n",
       "    <tr>\n",
       "      <th>2</th>\n",
       "      <td>1</td>\n",
       "      <td>6</td>\n",
       "      <td>5</td>\n",
       "      <td>39.887</td>\n",
       "      <td>1</td>\n",
       "      <td>59.99</td>\n",
       "      <td>59.99</td>\n",
       "      <td>59.99</td>\n",
       "      <td>1</td>\n",
       "      <td>59.99</td>\n",
       "      <td>...</td>\n",
       "      <td>completely orderable</td>\n",
       "      <td>1.0</td>\n",
       "      <td>600.0</td>\n",
       "      <td>70.0</td>\n",
       "      <td>21.0</td>\n",
       "      <td>1.0</td>\n",
       "      <td>43.0</td>\n",
       "      <td>1.0</td>\n",
       "      <td>49.0</td>\n",
       "      <td>y</td>\n",
       "    </tr>\n",
       "    <tr>\n",
       "      <th>3</th>\n",
       "      <td>2</td>\n",
       "      <td>6</td>\n",
       "      <td>5</td>\n",
       "      <td>0.000</td>\n",
       "      <td>0</td>\n",
       "      <td>NaN</td>\n",
       "      <td>NaN</td>\n",
       "      <td>NaN</td>\n",
       "      <td>0</td>\n",
       "      <td>NaN</td>\n",
       "      <td>...</td>\n",
       "      <td>completely orderable</td>\n",
       "      <td>NaN</td>\n",
       "      <td>NaN</td>\n",
       "      <td>NaN</td>\n",
       "      <td>NaN</td>\n",
       "      <td>NaN</td>\n",
       "      <td>NaN</td>\n",
       "      <td>NaN</td>\n",
       "      <td>NaN</td>\n",
       "      <td>y</td>\n",
       "    </tr>\n",
       "    <tr>\n",
       "      <th>4</th>\n",
       "      <td>2</td>\n",
       "      <td>6</td>\n",
       "      <td>5</td>\n",
       "      <td>15.633</td>\n",
       "      <td>0</td>\n",
       "      <td>NaN</td>\n",
       "      <td>NaN</td>\n",
       "      <td>NaN</td>\n",
       "      <td>0</td>\n",
       "      <td>NaN</td>\n",
       "      <td>...</td>\n",
       "      <td>completely orderable</td>\n",
       "      <td>NaN</td>\n",
       "      <td>NaN</td>\n",
       "      <td>NaN</td>\n",
       "      <td>NaN</td>\n",
       "      <td>NaN</td>\n",
       "      <td>NaN</td>\n",
       "      <td>NaN</td>\n",
       "      <td>NaN</td>\n",
       "      <td>y</td>\n",
       "    </tr>\n",
       "    <tr>\n",
       "      <th>5</th>\n",
       "      <td>2</td>\n",
       "      <td>6</td>\n",
       "      <td>5</td>\n",
       "      <td>26.235</td>\n",
       "      <td>0</td>\n",
       "      <td>NaN</td>\n",
       "      <td>NaN</td>\n",
       "      <td>NaN</td>\n",
       "      <td>0</td>\n",
       "      <td>NaN</td>\n",
       "      <td>...</td>\n",
       "      <td>completely orderable</td>\n",
       "      <td>NaN</td>\n",
       "      <td>NaN</td>\n",
       "      <td>NaN</td>\n",
       "      <td>NaN</td>\n",
       "      <td>NaN</td>\n",
       "      <td>NaN</td>\n",
       "      <td>NaN</td>\n",
       "      <td>NaN</td>\n",
       "      <td>y</td>\n",
       "    </tr>\n",
       "    <tr>\n",
       "      <th>6</th>\n",
       "      <td>2</td>\n",
       "      <td>6</td>\n",
       "      <td>5</td>\n",
       "      <td>71.200</td>\n",
       "      <td>0</td>\n",
       "      <td>NaN</td>\n",
       "      <td>NaN</td>\n",
       "      <td>NaN</td>\n",
       "      <td>0</td>\n",
       "      <td>NaN</td>\n",
       "      <td>...</td>\n",
       "      <td>completely orderable</td>\n",
       "      <td>NaN</td>\n",
       "      <td>NaN</td>\n",
       "      <td>NaN</td>\n",
       "      <td>NaN</td>\n",
       "      <td>NaN</td>\n",
       "      <td>NaN</td>\n",
       "      <td>NaN</td>\n",
       "      <td>NaN</td>\n",
       "      <td>y</td>\n",
       "    </tr>\n",
       "    <tr>\n",
       "      <th>7</th>\n",
       "      <td>2</td>\n",
       "      <td>6</td>\n",
       "      <td>5</td>\n",
       "      <td>94.469</td>\n",
       "      <td>0</td>\n",
       "      <td>NaN</td>\n",
       "      <td>NaN</td>\n",
       "      <td>NaN</td>\n",
       "      <td>0</td>\n",
       "      <td>NaN</td>\n",
       "      <td>...</td>\n",
       "      <td>completely orderable</td>\n",
       "      <td>NaN</td>\n",
       "      <td>NaN</td>\n",
       "      <td>NaN</td>\n",
       "      <td>NaN</td>\n",
       "      <td>NaN</td>\n",
       "      <td>NaN</td>\n",
       "      <td>NaN</td>\n",
       "      <td>NaN</td>\n",
       "      <td>y</td>\n",
       "    </tr>\n",
       "    <tr>\n",
       "      <th>8</th>\n",
       "      <td>3</td>\n",
       "      <td>6</td>\n",
       "      <td>5</td>\n",
       "      <td>181.477</td>\n",
       "      <td>9</td>\n",
       "      <td>29.99</td>\n",
       "      <td>29.99</td>\n",
       "      <td>89.97</td>\n",
       "      <td>1</td>\n",
       "      <td>29.99</td>\n",
       "      <td>...</td>\n",
       "      <td>NaN</td>\n",
       "      <td>3.0</td>\n",
       "      <td>1800.0</td>\n",
       "      <td>475.0</td>\n",
       "      <td>302.0</td>\n",
       "      <td>12.0</td>\n",
       "      <td>45.0</td>\n",
       "      <td>1.0</td>\n",
       "      <td>11.0</td>\n",
       "      <td>y</td>\n",
       "    </tr>\n",
       "    <tr>\n",
       "      <th>9</th>\n",
       "      <td>3</td>\n",
       "      <td>6</td>\n",
       "      <td>5</td>\n",
       "      <td>297.018</td>\n",
       "      <td>11</td>\n",
       "      <td>9.99</td>\n",
       "      <td>29.99</td>\n",
       "      <td>109.95</td>\n",
       "      <td>2</td>\n",
       "      <td>9.99</td>\n",
       "      <td>...</td>\n",
       "      <td>NaN</td>\n",
       "      <td>3.0</td>\n",
       "      <td>1800.0</td>\n",
       "      <td>475.0</td>\n",
       "      <td>302.0</td>\n",
       "      <td>12.0</td>\n",
       "      <td>45.0</td>\n",
       "      <td>1.0</td>\n",
       "      <td>11.0</td>\n",
       "      <td>y</td>\n",
       "    </tr>\n",
       "  </tbody>\n",
       "</table>\n",
       "<p>10 rows × 24 columns</p>\n",
       "</div>"
      ],
      "text/plain": [
       "   sessionNo  startHour  startWeekday  duration  cCount  cMinPrice  cMaxPrice  \\\n",
       "0          1          6             5     0.000       1      59.99      59.99   \n",
       "1          1          6             5    11.940       1      59.99      59.99   \n",
       "2          1          6             5    39.887       1      59.99      59.99   \n",
       "3          2          6             5     0.000       0        NaN        NaN   \n",
       "4          2          6             5    15.633       0        NaN        NaN   \n",
       "5          2          6             5    26.235       0        NaN        NaN   \n",
       "6          2          6             5    71.200       0        NaN        NaN   \n",
       "7          2          6             5    94.469       0        NaN        NaN   \n",
       "8          3          6             5   181.477       9      29.99      29.99   \n",
       "9          3          6             5   297.018      11       9.99      29.99   \n",
       "\n",
       "   cSumPrice  bCount  bMinPrice  ...          availability  customerNo  \\\n",
       "0      59.99       1      59.99  ...                   NaN         1.0   \n",
       "1      59.99       1      59.99  ...  completely orderable         1.0   \n",
       "2      59.99       1      59.99  ...  completely orderable         1.0   \n",
       "3        NaN       0        NaN  ...  completely orderable         NaN   \n",
       "4        NaN       0        NaN  ...  completely orderable         NaN   \n",
       "5        NaN       0        NaN  ...  completely orderable         NaN   \n",
       "6        NaN       0        NaN  ...  completely orderable         NaN   \n",
       "7        NaN       0        NaN  ...  completely orderable         NaN   \n",
       "8      89.97       1      29.99  ...                   NaN         3.0   \n",
       "9     109.95       2       9.99  ...                   NaN         3.0   \n",
       "\n",
       "   maxVal customerScore accountLifetime  payments   age  address  lastOrder  \\\n",
       "0   600.0          70.0            21.0       1.0  43.0      1.0       49.0   \n",
       "1   600.0          70.0            21.0       1.0  43.0      1.0       49.0   \n",
       "2   600.0          70.0            21.0       1.0  43.0      1.0       49.0   \n",
       "3     NaN           NaN             NaN       NaN   NaN      NaN        NaN   \n",
       "4     NaN           NaN             NaN       NaN   NaN      NaN        NaN   \n",
       "5     NaN           NaN             NaN       NaN   NaN      NaN        NaN   \n",
       "6     NaN           NaN             NaN       NaN   NaN      NaN        NaN   \n",
       "7     NaN           NaN             NaN       NaN   NaN      NaN        NaN   \n",
       "8  1800.0         475.0           302.0      12.0  45.0      1.0       11.0   \n",
       "9  1800.0         475.0           302.0      12.0  45.0      1.0       11.0   \n",
       "\n",
       "   order  \n",
       "0      y  \n",
       "1      y  \n",
       "2      y  \n",
       "3      y  \n",
       "4      y  \n",
       "5      y  \n",
       "6      y  \n",
       "7      y  \n",
       "8      y  \n",
       "9      y  \n",
       "\n",
       "[10 rows x 24 columns]"
      ]
     },
     "execution_count": 3,
     "metadata": {},
     "output_type": "execute_result"
    }
   ],
   "source": [
    "dt.head(10)"
   ]
  },
  {
   "cell_type": "code",
   "execution_count": 4,
   "metadata": {
    "cell_id": "4d2a8e8f8c1446369b3614ce21a714f1",
    "deepnote_app_block_visible": true,
    "deepnote_cell_type": "code",
    "execution_context_id": "84101a82-a4d1-4891-9ca1-15b33568b21c",
    "execution_millis": 45,
    "execution_start": 1731063171197,
    "source_hash": "d831bd9d"
   },
   "outputs": [
    {
     "name": "stdout",
     "output_type": "stream",
     "text": [
      "<class 'pandas.core.frame.DataFrame'>\n",
      "RangeIndex: 429013 entries, 0 to 429012\n",
      "Data columns (total 24 columns):\n",
      " #   Column           Non-Null Count   Dtype  \n",
      "---  ------           --------------   -----  \n",
      " 0   sessionNo        429013 non-null  int64  \n",
      " 1   startHour        429013 non-null  int64  \n",
      " 2   startWeekday     429013 non-null  int64  \n",
      " 3   duration         429013 non-null  float64\n",
      " 4   cCount           429013 non-null  int64  \n",
      " 5   cMinPrice        426248 non-null  float64\n",
      " 6   cMaxPrice        426248 non-null  float64\n",
      " 7   cSumPrice        426248 non-null  float64\n",
      " 8   bCount           429013 non-null  int64  \n",
      " 9   bMinPrice        423883 non-null  float64\n",
      " 10  bMaxPrice        423883 non-null  float64\n",
      " 11  bSumPrice        423883 non-null  float64\n",
      " 12  bStep            237680 non-null  float64\n",
      " 13  onlineStatus     268634 non-null  object \n",
      " 14  availability     263758 non-null  object \n",
      " 15  customerNo       277915 non-null  float64\n",
      " 16  maxVal           275273 non-null  float64\n",
      " 17  customerScore    275273 non-null  float64\n",
      " 18  accountLifetime  275273 non-null  float64\n",
      " 19  payments         277915 non-null  float64\n",
      " 20  age              277617 non-null  float64\n",
      " 21  address          277915 non-null  float64\n",
      " 22  lastOrder        277915 non-null  float64\n",
      " 23  order            429013 non-null  object \n",
      "dtypes: float64(16), int64(5), object(3)\n",
      "memory usage: 78.6+ MB\n"
     ]
    }
   ],
   "source": [
    "dt.info()"
   ]
  },
  {
   "cell_type": "code",
   "execution_count": 5,
   "metadata": {
    "cell_id": "59dd2564d85d4ebf85299106a0cfd08f",
    "deepnote_app_block_visible": true,
    "deepnote_cell_type": "code",
    "execution_context_id": "84101a82-a4d1-4891-9ca1-15b33568b21c",
    "execution_millis": 5,
    "execution_start": 1731063171341,
    "source_hash": "6c36ad1e"
   },
   "outputs": [
    {
     "data": {
      "application/vnd.deepnote.dataframe.v3+json": {
       "column_count": 23,
       "columns": [
        {
         "dtype": "int64",
         "name": "sessionNo",
         "stats": {
          "histogram": [
           {
            "bin_end": 0.6,
            "bin_start": 0.5,
            "count": 0
           },
           {
            "bin_end": 0.7,
            "bin_start": 0.6,
            "count": 0
           },
           {
            "bin_end": 0.8,
            "bin_start": 0.7,
            "count": 0
           },
           {
            "bin_end": 0.9,
            "bin_start": 0.8,
            "count": 0
           },
           {
            "bin_end": 1,
            "bin_start": 0.9,
            "count": 0
           },
           {
            "bin_end": 1.1,
            "bin_start": 1,
            "count": 5
           },
           {
            "bin_end": 1.2000000000000002,
            "bin_start": 1.1,
            "count": 0
           },
           {
            "bin_end": 1.3,
            "bin_start": 1.2000000000000002,
            "count": 0
           },
           {
            "bin_end": 1.4,
            "bin_start": 1.3,
            "count": 0
           },
           {
            "bin_end": 1.5,
            "bin_start": 1.4,
            "count": 0
           }
          ],
          "max": "1",
          "min": "1",
          "nan_count": 0,
          "unique_count": 1
         }
        },
        {
         "dtype": "int64",
         "name": "startHour",
         "stats": {
          "histogram": [
           {
            "bin_end": 17.6,
            "bin_start": 17.5,
            "count": 0
           },
           {
            "bin_end": 17.7,
            "bin_start": 17.6,
            "count": 0
           },
           {
            "bin_end": 17.8,
            "bin_start": 17.7,
            "count": 0
           },
           {
            "bin_end": 17.9,
            "bin_start": 17.8,
            "count": 0
           },
           {
            "bin_end": 18,
            "bin_start": 17.9,
            "count": 0
           },
           {
            "bin_end": 18.1,
            "bin_start": 18,
            "count": 5
           },
           {
            "bin_end": 18.2,
            "bin_start": 18.1,
            "count": 0
           },
           {
            "bin_end": 18.3,
            "bin_start": 18.2,
            "count": 0
           },
           {
            "bin_end": 18.4,
            "bin_start": 18.3,
            "count": 0
           },
           {
            "bin_end": 18.5,
            "bin_start": 18.4,
            "count": 0
           }
          ],
          "max": "18",
          "min": "18",
          "nan_count": 0,
          "unique_count": 1
         }
        },
        {
         "dtype": "int64",
         "name": "startWeekday",
         "stats": {
          "histogram": [
           {
            "bin_end": 6.6,
            "bin_start": 6.5,
            "count": 0
           },
           {
            "bin_end": 6.7,
            "bin_start": 6.6,
            "count": 0
           },
           {
            "bin_end": 6.8,
            "bin_start": 6.7,
            "count": 0
           },
           {
            "bin_end": 6.9,
            "bin_start": 6.8,
            "count": 0
           },
           {
            "bin_end": 7,
            "bin_start": 6.9,
            "count": 0
           },
           {
            "bin_end": 7.1,
            "bin_start": 7,
            "count": 5
           },
           {
            "bin_end": 7.2,
            "bin_start": 7.1,
            "count": 0
           },
           {
            "bin_end": 7.3,
            "bin_start": 7.2,
            "count": 0
           },
           {
            "bin_end": 7.4,
            "bin_start": 7.3,
            "count": 0
           },
           {
            "bin_end": 7.5,
            "bin_start": 7.4,
            "count": 0
           }
          ],
          "max": "7",
          "min": "7",
          "nan_count": 0,
          "unique_count": 1
         }
        },
        {
         "dtype": "float64",
         "name": "duration",
         "stats": {
          "histogram": [
           {
            "bin_end": 169.15460000000002,
            "bin_start": 136.833,
            "count": 1
           },
           {
            "bin_end": 201.4762,
            "bin_start": 169.15460000000002,
            "count": 1
           },
           {
            "bin_end": 233.7978,
            "bin_start": 201.4762,
            "count": 0
           },
           {
            "bin_end": 266.11940000000004,
            "bin_start": 233.7978,
            "count": 0
           },
           {
            "bin_end": 298.44100000000003,
            "bin_start": 266.11940000000004,
            "count": 0
           },
           {
            "bin_end": 330.7626,
            "bin_start": 298.44100000000003,
            "count": 0
           },
           {
            "bin_end": 363.0842,
            "bin_start": 330.7626,
            "count": 1
           },
           {
            "bin_end": 395.4058,
            "bin_start": 363.0842,
            "count": 0
           },
           {
            "bin_end": 427.7274,
            "bin_start": 395.4058,
            "count": 1
           },
           {
            "bin_end": 460.049,
            "bin_start": 427.7274,
            "count": 1
           }
          ],
          "max": "460.049",
          "min": "136.833",
          "nan_count": 0,
          "unique_count": 5
         }
        },
        {
         "dtype": "int64",
         "name": "cCount",
         "stats": {
          "histogram": [
           {
            "bin_end": 3.7,
            "bin_start": 3,
            "count": 2
           },
           {
            "bin_end": 4.4,
            "bin_start": 3.7,
            "count": 0
           },
           {
            "bin_end": 5.1,
            "bin_start": 4.4,
            "count": 0
           },
           {
            "bin_end": 5.8,
            "bin_start": 5.1,
            "count": 0
           },
           {
            "bin_end": 6.5,
            "bin_start": 5.8,
            "count": 1
           },
           {
            "bin_end": 7.199999999999999,
            "bin_start": 6.5,
            "count": 0
           },
           {
            "bin_end": 7.8999999999999995,
            "bin_start": 7.199999999999999,
            "count": 0
           },
           {
            "bin_end": 8.6,
            "bin_start": 7.8999999999999995,
            "count": 1
           },
           {
            "bin_end": 9.3,
            "bin_start": 8.6,
            "count": 0
           },
           {
            "bin_end": 10,
            "bin_start": 9.3,
            "count": 1
           }
          ],
          "max": "10",
          "min": "3",
          "nan_count": 0,
          "unique_count": 4
         }
        },
        {
         "dtype": "float64",
         "name": "cMinPrice",
         "stats": {
          "histogram": [
           {
            "bin_end": 19.29,
            "bin_start": 16.99,
            "count": 3
           },
           {
            "bin_end": 21.59,
            "bin_start": 19.29,
            "count": 0
           },
           {
            "bin_end": 23.89,
            "bin_start": 21.59,
            "count": 0
           },
           {
            "bin_end": 26.189999999999998,
            "bin_start": 23.89,
            "count": 0
           },
           {
            "bin_end": 28.490000000000002,
            "bin_start": 26.189999999999998,
            "count": 0
           },
           {
            "bin_end": 30.79,
            "bin_start": 28.490000000000002,
            "count": 0
           },
           {
            "bin_end": 33.09,
            "bin_start": 30.79,
            "count": 0
           },
           {
            "bin_end": 35.39,
            "bin_start": 33.09,
            "count": 0
           },
           {
            "bin_end": 37.69,
            "bin_start": 35.39,
            "count": 0
           },
           {
            "bin_end": 39.99,
            "bin_start": 37.69,
            "count": 2
           }
          ],
          "max": "39.99",
          "min": "16.99",
          "nan_count": 0,
          "unique_count": 2
         }
        },
        {
         "dtype": "float64",
         "name": "cMaxPrice",
         "stats": {
          "histogram": [
           {
            "bin_end": 39.59,
            "bin_start": 39.49,
            "count": 0
           },
           {
            "bin_end": 39.690000000000005,
            "bin_start": 39.59,
            "count": 0
           },
           {
            "bin_end": 39.79,
            "bin_start": 39.690000000000005,
            "count": 0
           },
           {
            "bin_end": 39.89,
            "bin_start": 39.79,
            "count": 0
           },
           {
            "bin_end": 39.99,
            "bin_start": 39.89,
            "count": 0
           },
           {
            "bin_end": 40.09,
            "bin_start": 39.99,
            "count": 5
           },
           {
            "bin_end": 40.190000000000005,
            "bin_start": 40.09,
            "count": 0
           },
           {
            "bin_end": 40.29,
            "bin_start": 40.190000000000005,
            "count": 0
           },
           {
            "bin_end": 40.39,
            "bin_start": 40.29,
            "count": 0
           },
           {
            "bin_end": 40.49,
            "bin_start": 40.39,
            "count": 0
           }
          ],
          "max": "39.99",
          "min": "39.99",
          "nan_count": 0,
          "unique_count": 1
         }
        },
        {
         "dtype": "float64",
         "name": "cSumPrice",
         "stats": {
          "histogram": [
           {
            "bin_end": 90.974,
            "bin_start": 79.98,
            "count": 2
           },
           {
            "bin_end": 101.968,
            "bin_start": 90.974,
            "count": 0
           },
           {
            "bin_end": 112.96199999999999,
            "bin_start": 101.968,
            "count": 0
           },
           {
            "bin_end": 123.95599999999999,
            "bin_start": 112.96199999999999,
            "count": 1
           },
           {
            "bin_end": 134.95,
            "bin_start": 123.95599999999999,
            "count": 0
           },
           {
            "bin_end": 145.944,
            "bin_start": 134.95,
            "count": 0
           },
           {
            "bin_end": 156.938,
            "bin_start": 145.944,
            "count": 1
           },
           {
            "bin_end": 167.932,
            "bin_start": 156.938,
            "count": 0
           },
           {
            "bin_end": 178.926,
            "bin_start": 167.932,
            "count": 0
           },
           {
            "bin_end": 189.92,
            "bin_start": 178.926,
            "count": 1
           }
          ],
          "max": "189.92",
          "min": "79.98",
          "nan_count": 0,
          "unique_count": 4
         }
        },
        {
         "dtype": "int64",
         "name": "bCount",
         "stats": {
          "histogram": [
           {
            "bin_end": 1.3,
            "bin_start": 1,
            "count": 2
           },
           {
            "bin_end": 1.6,
            "bin_start": 1.3,
            "count": 0
           },
           {
            "bin_end": 1.9,
            "bin_start": 1.6,
            "count": 0
           },
           {
            "bin_end": 2.2,
            "bin_start": 1.9,
            "count": 1
           },
           {
            "bin_end": 2.5,
            "bin_start": 2.2,
            "count": 0
           },
           {
            "bin_end": 2.8,
            "bin_start": 2.5,
            "count": 0
           },
           {
            "bin_end": 3.1,
            "bin_start": 2.8,
            "count": 1
           },
           {
            "bin_end": 3.4,
            "bin_start": 3.1,
            "count": 0
           },
           {
            "bin_end": 3.6999999999999997,
            "bin_start": 3.4,
            "count": 0
           },
           {
            "bin_end": 4,
            "bin_start": 3.6999999999999997,
            "count": 1
           }
          ],
          "max": "4",
          "min": "1",
          "nan_count": 0,
          "unique_count": 4
         }
        },
        {
         "dtype": "float64",
         "name": "bMinPrice",
         "stats": {
          "histogram": [
           {
            "bin_end": 19.29,
            "bin_start": 16.99,
            "count": 3
           },
           {
            "bin_end": 21.59,
            "bin_start": 19.29,
            "count": 0
           },
           {
            "bin_end": 23.89,
            "bin_start": 21.59,
            "count": 0
           },
           {
            "bin_end": 26.189999999999998,
            "bin_start": 23.89,
            "count": 0
           },
           {
            "bin_end": 28.490000000000002,
            "bin_start": 26.189999999999998,
            "count": 0
           },
           {
            "bin_end": 30.79,
            "bin_start": 28.490000000000002,
            "count": 0
           },
           {
            "bin_end": 33.09,
            "bin_start": 30.79,
            "count": 0
           },
           {
            "bin_end": 35.39,
            "bin_start": 33.09,
            "count": 0
           },
           {
            "bin_end": 37.69,
            "bin_start": 35.39,
            "count": 0
           },
           {
            "bin_end": 39.99,
            "bin_start": 37.69,
            "count": 2
           }
          ],
          "max": "39.99",
          "min": "16.99",
          "nan_count": 0,
          "unique_count": 2
         }
        },
        {
         "dtype": "float64",
         "name": "bMaxPrice",
         "stats": {
          "histogram": [
           {
            "bin_end": 39.59,
            "bin_start": 39.49,
            "count": 0
           },
           {
            "bin_end": 39.690000000000005,
            "bin_start": 39.59,
            "count": 0
           },
           {
            "bin_end": 39.79,
            "bin_start": 39.690000000000005,
            "count": 0
           },
           {
            "bin_end": 39.89,
            "bin_start": 39.79,
            "count": 0
           },
           {
            "bin_end": 39.99,
            "bin_start": 39.89,
            "count": 0
           },
           {
            "bin_end": 40.09,
            "bin_start": 39.99,
            "count": 5
           },
           {
            "bin_end": 40.190000000000005,
            "bin_start": 40.09,
            "count": 0
           },
           {
            "bin_end": 40.29,
            "bin_start": 40.190000000000005,
            "count": 0
           },
           {
            "bin_end": 40.39,
            "bin_start": 40.29,
            "count": 0
           },
           {
            "bin_end": 40.49,
            "bin_start": 40.39,
            "count": 0
           }
          ],
          "max": "39.99",
          "min": "39.99",
          "nan_count": 0,
          "unique_count": 1
         }
        },
        {
         "dtype": "float64",
         "name": "bSumPrice",
         "stats": {
          "histogram": [
           {
            "bin_end": 45.487,
            "bin_start": 39.99,
            "count": 2
           },
           {
            "bin_end": 50.984,
            "bin_start": 45.487,
            "count": 0
           },
           {
            "bin_end": 56.480999999999995,
            "bin_start": 50.984,
            "count": 0
           },
           {
            "bin_end": 61.977999999999994,
            "bin_start": 56.480999999999995,
            "count": 1
           },
           {
            "bin_end": 67.475,
            "bin_start": 61.977999999999994,
            "count": 0
           },
           {
            "bin_end": 72.972,
            "bin_start": 67.475,
            "count": 0
           },
           {
            "bin_end": 78.469,
            "bin_start": 72.972,
            "count": 1
           },
           {
            "bin_end": 83.966,
            "bin_start": 78.469,
            "count": 0
           },
           {
            "bin_end": 89.463,
            "bin_start": 83.966,
            "count": 0
           },
           {
            "bin_end": 94.96,
            "bin_start": 89.463,
            "count": 1
           }
          ],
          "max": "94.96",
          "min": "39.99",
          "nan_count": 0,
          "unique_count": 4
         }
        },
        {
         "dtype": "float64",
         "name": "bStep",
         "stats": {
          "histogram": [
           {
            "bin_end": 1.6,
            "bin_start": 1.5,
            "count": 0
           },
           {
            "bin_end": 1.7,
            "bin_start": 1.6,
            "count": 0
           },
           {
            "bin_end": 1.8,
            "bin_start": 1.7,
            "count": 0
           },
           {
            "bin_end": 1.9,
            "bin_start": 1.8,
            "count": 0
           },
           {
            "bin_end": 2,
            "bin_start": 1.9,
            "count": 0
           },
           {
            "bin_end": 2.1,
            "bin_start": 2,
            "count": 1
           },
           {
            "bin_end": 2.2,
            "bin_start": 2.1,
            "count": 0
           },
           {
            "bin_end": 2.3,
            "bin_start": 2.2,
            "count": 0
           },
           {
            "bin_end": 2.4,
            "bin_start": 2.3,
            "count": 0
           },
           {
            "bin_end": 2.5,
            "bin_start": 2.4,
            "count": 0
           }
          ],
          "max": "2.0",
          "min": "2.0",
          "nan_count": 4,
          "unique_count": 1
         }
        },
        {
         "dtype": "object",
         "name": "onlineStatus",
         "stats": {
          "categories": [
           {
            "count": 2,
            "name": "y"
           },
           {
            "count": 3,
            "name": "Missing"
           }
          ],
          "nan_count": 3,
          "unique_count": 1
         }
        },
        {
         "dtype": "object",
         "name": "availability",
         "stats": {
          "categories": [
           {
            "count": 2,
            "name": "completely orderable"
           },
           {
            "count": 3,
            "name": "Missing"
           }
          ],
          "nan_count": 3,
          "unique_count": 1
         }
        },
        {
         "dtype": "float64",
         "name": "customerNo",
         "stats": {
          "histogram": [
           {
            "bin_end": 25038.6,
            "bin_start": 25038.5,
            "count": 0
           },
           {
            "bin_end": 25038.7,
            "bin_start": 25038.6,
            "count": 0
           },
           {
            "bin_end": 25038.8,
            "bin_start": 25038.7,
            "count": 0
           },
           {
            "bin_end": 25038.9,
            "bin_start": 25038.8,
            "count": 0
           },
           {
            "bin_end": 25039,
            "bin_start": 25038.9,
            "count": 0
           },
           {
            "bin_end": 25039.1,
            "bin_start": 25039,
            "count": 5
           },
           {
            "bin_end": 25039.2,
            "bin_start": 25039.1,
            "count": 0
           },
           {
            "bin_end": 25039.3,
            "bin_start": 25039.2,
            "count": 0
           },
           {
            "bin_end": 25039.4,
            "bin_start": 25039.3,
            "count": 0
           },
           {
            "bin_end": 25039.5,
            "bin_start": 25039.4,
            "count": 0
           }
          ],
          "max": "25039.0",
          "min": "25039.0",
          "nan_count": 0,
          "unique_count": 1
         }
        },
        {
         "dtype": "float64",
         "name": "maxVal",
         "stats": {
          "histogram": [
           {
            "bin_end": 1299.6,
            "bin_start": 1299.5,
            "count": 0
           },
           {
            "bin_end": 1299.7,
            "bin_start": 1299.6,
            "count": 0
           },
           {
            "bin_end": 1299.8,
            "bin_start": 1299.7,
            "count": 0
           },
           {
            "bin_end": 1299.9,
            "bin_start": 1299.8,
            "count": 0
           },
           {
            "bin_end": 1300,
            "bin_start": 1299.9,
            "count": 0
           },
           {
            "bin_end": 1300.1,
            "bin_start": 1300,
            "count": 5
           },
           {
            "bin_end": 1300.2,
            "bin_start": 1300.1,
            "count": 0
           },
           {
            "bin_end": 1300.3,
            "bin_start": 1300.2,
            "count": 0
           },
           {
            "bin_end": 1300.4,
            "bin_start": 1300.3,
            "count": 0
           },
           {
            "bin_end": 1300.5,
            "bin_start": 1300.4,
            "count": 0
           }
          ],
          "max": "1300.0",
          "min": "1300.0",
          "nan_count": 0,
          "unique_count": 1
         }
        },
        {
         "dtype": "float64",
         "name": "customerScore",
         "stats": {
          "histogram": [
           {
            "bin_end": 488.6,
            "bin_start": 488.5,
            "count": 0
           },
           {
            "bin_end": 488.7,
            "bin_start": 488.6,
            "count": 0
           },
           {
            "bin_end": 488.8,
            "bin_start": 488.7,
            "count": 0
           },
           {
            "bin_end": 488.9,
            "bin_start": 488.8,
            "count": 0
           },
           {
            "bin_end": 489,
            "bin_start": 488.9,
            "count": 0
           },
           {
            "bin_end": 489.1,
            "bin_start": 489,
            "count": 5
           },
           {
            "bin_end": 489.2,
            "bin_start": 489.1,
            "count": 0
           },
           {
            "bin_end": 489.3,
            "bin_start": 489.2,
            "count": 0
           },
           {
            "bin_end": 489.4,
            "bin_start": 489.3,
            "count": 0
           },
           {
            "bin_end": 489.5,
            "bin_start": 489.4,
            "count": 0
           }
          ],
          "max": "489.0",
          "min": "489.0",
          "nan_count": 0,
          "unique_count": 1
         }
        },
        {
         "dtype": "float64",
         "name": "accountLifetime",
         "stats": {
          "histogram": [
           {
            "bin_end": 187.6,
            "bin_start": 187.5,
            "count": 0
           },
           {
            "bin_end": 187.7,
            "bin_start": 187.6,
            "count": 0
           },
           {
            "bin_end": 187.8,
            "bin_start": 187.7,
            "count": 0
           },
           {
            "bin_end": 187.9,
            "bin_start": 187.8,
            "count": 0
           },
           {
            "bin_end": 188,
            "bin_start": 187.9,
            "count": 0
           },
           {
            "bin_end": 188.1,
            "bin_start": 188,
            "count": 5
           },
           {
            "bin_end": 188.2,
            "bin_start": 188.1,
            "count": 0
           },
           {
            "bin_end": 188.3,
            "bin_start": 188.2,
            "count": 0
           },
           {
            "bin_end": 188.4,
            "bin_start": 188.3,
            "count": 0
           },
           {
            "bin_end": 188.5,
            "bin_start": 188.4,
            "count": 0
           }
          ],
          "max": "188.0",
          "min": "188.0",
          "nan_count": 0,
          "unique_count": 1
         }
        },
        {
         "dtype": "float64",
         "name": "payments",
         "stats": {
          "histogram": [
           {
            "bin_end": 4.6,
            "bin_start": 4.5,
            "count": 0
           },
           {
            "bin_end": 4.7,
            "bin_start": 4.6,
            "count": 0
           },
           {
            "bin_end": 4.8,
            "bin_start": 4.7,
            "count": 0
           },
           {
            "bin_end": 4.9,
            "bin_start": 4.8,
            "count": 0
           },
           {
            "bin_end": 5,
            "bin_start": 4.9,
            "count": 0
           },
           {
            "bin_end": 5.1,
            "bin_start": 5,
            "count": 5
           },
           {
            "bin_end": 5.2,
            "bin_start": 5.1,
            "count": 0
           },
           {
            "bin_end": 5.3,
            "bin_start": 5.2,
            "count": 0
           },
           {
            "bin_end": 5.4,
            "bin_start": 5.3,
            "count": 0
           },
           {
            "bin_end": 5.5,
            "bin_start": 5.4,
            "count": 0
           }
          ],
          "max": "5.0",
          "min": "5.0",
          "nan_count": 0,
          "unique_count": 1
         }
        },
        {
         "dtype": "float64",
         "name": "age",
         "stats": {
          "histogram": [
           {
            "bin_end": 48.6,
            "bin_start": 48.5,
            "count": 0
           },
           {
            "bin_end": 48.7,
            "bin_start": 48.6,
            "count": 0
           },
           {
            "bin_end": 48.8,
            "bin_start": 48.7,
            "count": 0
           },
           {
            "bin_end": 48.9,
            "bin_start": 48.8,
            "count": 0
           },
           {
            "bin_end": 49,
            "bin_start": 48.9,
            "count": 0
           },
           {
            "bin_end": 49.1,
            "bin_start": 49,
            "count": 5
           },
           {
            "bin_end": 49.2,
            "bin_start": 49.1,
            "count": 0
           },
           {
            "bin_end": 49.3,
            "bin_start": 49.2,
            "count": 0
           },
           {
            "bin_end": 49.4,
            "bin_start": 49.3,
            "count": 0
           },
           {
            "bin_end": 49.5,
            "bin_start": 49.4,
            "count": 0
           }
          ],
          "max": "49.0",
          "min": "49.0",
          "nan_count": 0,
          "unique_count": 1
         }
        },
        {
         "dtype": "float64",
         "name": "address",
         "stats": {
          "histogram": [
           {
            "bin_end": 0.6,
            "bin_start": 0.5,
            "count": 0
           },
           {
            "bin_end": 0.7,
            "bin_start": 0.6,
            "count": 0
           },
           {
            "bin_end": 0.8,
            "bin_start": 0.7,
            "count": 0
           },
           {
            "bin_end": 0.9,
            "bin_start": 0.8,
            "count": 0
           },
           {
            "bin_end": 1,
            "bin_start": 0.9,
            "count": 0
           },
           {
            "bin_end": 1.1,
            "bin_start": 1,
            "count": 5
           },
           {
            "bin_end": 1.2000000000000002,
            "bin_start": 1.1,
            "count": 0
           },
           {
            "bin_end": 1.3,
            "bin_start": 1.2000000000000002,
            "count": 0
           },
           {
            "bin_end": 1.4,
            "bin_start": 1.3,
            "count": 0
           },
           {
            "bin_end": 1.5,
            "bin_start": 1.4,
            "count": 0
           }
          ],
          "max": "1.0",
          "min": "1.0",
          "nan_count": 0,
          "unique_count": 1
         }
        },
        {
         "dtype": "float64",
         "name": "lastOrder",
         "stats": {
          "histogram": [
           {
            "bin_end": 64.6,
            "bin_start": 64.5,
            "count": 0
           },
           {
            "bin_end": 64.7,
            "bin_start": 64.6,
            "count": 0
           },
           {
            "bin_end": 64.8,
            "bin_start": 64.7,
            "count": 0
           },
           {
            "bin_end": 64.9,
            "bin_start": 64.8,
            "count": 0
           },
           {
            "bin_end": 65,
            "bin_start": 64.9,
            "count": 0
           },
           {
            "bin_end": 65.1,
            "bin_start": 65,
            "count": 5
           },
           {
            "bin_end": 65.2,
            "bin_start": 65.1,
            "count": 0
           },
           {
            "bin_end": 65.3,
            "bin_start": 65.2,
            "count": 0
           },
           {
            "bin_end": 65.4,
            "bin_start": 65.3,
            "count": 0
           },
           {
            "bin_end": 65.5,
            "bin_start": 65.4,
            "count": 0
           }
          ],
          "max": "65.0",
          "min": "65.0",
          "nan_count": 0,
          "unique_count": 1
         }
        },
        {
         "dtype": "int64",
         "name": "_deepnote_index_column"
        }
       ],
       "row_count": 5,
       "rows": [
        {
         "_deepnote_index_column": 0,
         "accountLifetime": 188,
         "address": 1,
         "age": 49,
         "availability": "completely orderable",
         "bCount": 1,
         "bMaxPrice": 39.99,
         "bMinPrice": 39.99,
         "bStep": 2,
         "bSumPrice": 39.99,
         "cCount": 3,
         "cMaxPrice": 39.99,
         "cMinPrice": 39.99,
         "cSumPrice": 79.98,
         "customerNo": 25039,
         "customerScore": 489,
         "duration": 136.833,
         "lastOrder": 65,
         "maxVal": 1300,
         "onlineStatus": "y",
         "payments": 5,
         "sessionNo": 1,
         "startHour": 18,
         "startWeekday": 7
        },
        {
         "_deepnote_index_column": 1,
         "accountLifetime": 188,
         "address": 1,
         "age": 49,
         "availability": "completely orderable",
         "bCount": 1,
         "bMaxPrice": 39.99,
         "bMinPrice": 39.99,
         "bStep": "nan",
         "bSumPrice": 39.99,
         "cCount": 3,
         "cMaxPrice": 39.99,
         "cMinPrice": 39.99,
         "cSumPrice": 79.98,
         "customerNo": 25039,
         "customerScore": 489,
         "duration": 189.984,
         "lastOrder": 65,
         "maxVal": 1300,
         "onlineStatus": "y",
         "payments": 5,
         "sessionNo": 1,
         "startHour": 18,
         "startWeekday": 7
        },
        {
         "_deepnote_index_column": 2,
         "accountLifetime": 188,
         "address": 1,
         "age": 49,
         "availability": "nan",
         "bCount": 2,
         "bMaxPrice": 39.99,
         "bMinPrice": 16.99,
         "bStep": "nan",
         "bSumPrice": 56.98,
         "cCount": 6,
         "cMaxPrice": 39.99,
         "cMinPrice": 16.99,
         "cSumPrice": 113.96,
         "customerNo": 25039,
         "customerScore": 489,
         "duration": 342.894,
         "lastOrder": 65,
         "maxVal": 1300,
         "onlineStatus": "nan",
         "payments": 5,
         "sessionNo": 1,
         "startHour": 18,
         "startWeekday": 7
        },
        {
         "_deepnote_index_column": 3,
         "accountLifetime": 188,
         "address": 1,
         "age": 49,
         "availability": "nan",
         "bCount": 3,
         "bMaxPrice": 39.99,
         "bMinPrice": 16.99,
         "bStep": "nan",
         "bSumPrice": 74.97,
         "cCount": 8,
         "cMaxPrice": 39.99,
         "cMinPrice": 16.99,
         "cSumPrice": 149.94,
         "customerNo": 25039,
         "customerScore": 489,
         "duration": 411.051,
         "lastOrder": 65,
         "maxVal": 1300,
         "onlineStatus": "nan",
         "payments": 5,
         "sessionNo": 1,
         "startHour": 18,
         "startWeekday": 7
        },
        {
         "_deepnote_index_column": 4,
         "accountLifetime": 188,
         "address": 1,
         "age": 49,
         "availability": "nan",
         "bCount": 4,
         "bMaxPrice": 39.99,
         "bMinPrice": 16.99,
         "bStep": "nan",
         "bSumPrice": 94.96,
         "cCount": 10,
         "cMaxPrice": 39.99,
         "cMinPrice": 16.99,
         "cSumPrice": 189.92,
         "customerNo": 25039,
         "customerScore": 489,
         "duration": 460.049,
         "lastOrder": 65,
         "maxVal": 1300,
         "onlineStatus": "nan",
         "payments": 5,
         "sessionNo": 1,
         "startHour": 18,
         "startWeekday": 7
        }
       ]
      },
      "text/html": [
       "<div>\n",
       "<style scoped>\n",
       "    .dataframe tbody tr th:only-of-type {\n",
       "        vertical-align: middle;\n",
       "    }\n",
       "\n",
       "    .dataframe tbody tr th {\n",
       "        vertical-align: top;\n",
       "    }\n",
       "\n",
       "    .dataframe thead th {\n",
       "        text-align: right;\n",
       "    }\n",
       "</style>\n",
       "<table border=\"1\" class=\"dataframe\">\n",
       "  <thead>\n",
       "    <tr style=\"text-align: right;\">\n",
       "      <th></th>\n",
       "      <th>sessionNo</th>\n",
       "      <th>startHour</th>\n",
       "      <th>startWeekday</th>\n",
       "      <th>duration</th>\n",
       "      <th>cCount</th>\n",
       "      <th>cMinPrice</th>\n",
       "      <th>cMaxPrice</th>\n",
       "      <th>cSumPrice</th>\n",
       "      <th>bCount</th>\n",
       "      <th>bMinPrice</th>\n",
       "      <th>...</th>\n",
       "      <th>onlineStatus</th>\n",
       "      <th>availability</th>\n",
       "      <th>customerNo</th>\n",
       "      <th>maxVal</th>\n",
       "      <th>customerScore</th>\n",
       "      <th>accountLifetime</th>\n",
       "      <th>payments</th>\n",
       "      <th>age</th>\n",
       "      <th>address</th>\n",
       "      <th>lastOrder</th>\n",
       "    </tr>\n",
       "  </thead>\n",
       "  <tbody>\n",
       "    <tr>\n",
       "      <th>0</th>\n",
       "      <td>1</td>\n",
       "      <td>18</td>\n",
       "      <td>7</td>\n",
       "      <td>136.833</td>\n",
       "      <td>3</td>\n",
       "      <td>39.99</td>\n",
       "      <td>39.99</td>\n",
       "      <td>79.98</td>\n",
       "      <td>1</td>\n",
       "      <td>39.99</td>\n",
       "      <td>...</td>\n",
       "      <td>y</td>\n",
       "      <td>completely orderable</td>\n",
       "      <td>25039.0</td>\n",
       "      <td>1300.0</td>\n",
       "      <td>489.0</td>\n",
       "      <td>188.0</td>\n",
       "      <td>5.0</td>\n",
       "      <td>49.0</td>\n",
       "      <td>1.0</td>\n",
       "      <td>65.0</td>\n",
       "    </tr>\n",
       "    <tr>\n",
       "      <th>1</th>\n",
       "      <td>1</td>\n",
       "      <td>18</td>\n",
       "      <td>7</td>\n",
       "      <td>189.984</td>\n",
       "      <td>3</td>\n",
       "      <td>39.99</td>\n",
       "      <td>39.99</td>\n",
       "      <td>79.98</td>\n",
       "      <td>1</td>\n",
       "      <td>39.99</td>\n",
       "      <td>...</td>\n",
       "      <td>y</td>\n",
       "      <td>completely orderable</td>\n",
       "      <td>25039.0</td>\n",
       "      <td>1300.0</td>\n",
       "      <td>489.0</td>\n",
       "      <td>188.0</td>\n",
       "      <td>5.0</td>\n",
       "      <td>49.0</td>\n",
       "      <td>1.0</td>\n",
       "      <td>65.0</td>\n",
       "    </tr>\n",
       "    <tr>\n",
       "      <th>2</th>\n",
       "      <td>1</td>\n",
       "      <td>18</td>\n",
       "      <td>7</td>\n",
       "      <td>342.894</td>\n",
       "      <td>6</td>\n",
       "      <td>16.99</td>\n",
       "      <td>39.99</td>\n",
       "      <td>113.96</td>\n",
       "      <td>2</td>\n",
       "      <td>16.99</td>\n",
       "      <td>...</td>\n",
       "      <td>NaN</td>\n",
       "      <td>NaN</td>\n",
       "      <td>25039.0</td>\n",
       "      <td>1300.0</td>\n",
       "      <td>489.0</td>\n",
       "      <td>188.0</td>\n",
       "      <td>5.0</td>\n",
       "      <td>49.0</td>\n",
       "      <td>1.0</td>\n",
       "      <td>65.0</td>\n",
       "    </tr>\n",
       "    <tr>\n",
       "      <th>3</th>\n",
       "      <td>1</td>\n",
       "      <td>18</td>\n",
       "      <td>7</td>\n",
       "      <td>411.051</td>\n",
       "      <td>8</td>\n",
       "      <td>16.99</td>\n",
       "      <td>39.99</td>\n",
       "      <td>149.94</td>\n",
       "      <td>3</td>\n",
       "      <td>16.99</td>\n",
       "      <td>...</td>\n",
       "      <td>NaN</td>\n",
       "      <td>NaN</td>\n",
       "      <td>25039.0</td>\n",
       "      <td>1300.0</td>\n",
       "      <td>489.0</td>\n",
       "      <td>188.0</td>\n",
       "      <td>5.0</td>\n",
       "      <td>49.0</td>\n",
       "      <td>1.0</td>\n",
       "      <td>65.0</td>\n",
       "    </tr>\n",
       "    <tr>\n",
       "      <th>4</th>\n",
       "      <td>1</td>\n",
       "      <td>18</td>\n",
       "      <td>7</td>\n",
       "      <td>460.049</td>\n",
       "      <td>10</td>\n",
       "      <td>16.99</td>\n",
       "      <td>39.99</td>\n",
       "      <td>189.92</td>\n",
       "      <td>4</td>\n",
       "      <td>16.99</td>\n",
       "      <td>...</td>\n",
       "      <td>NaN</td>\n",
       "      <td>NaN</td>\n",
       "      <td>25039.0</td>\n",
       "      <td>1300.0</td>\n",
       "      <td>489.0</td>\n",
       "      <td>188.0</td>\n",
       "      <td>5.0</td>\n",
       "      <td>49.0</td>\n",
       "      <td>1.0</td>\n",
       "      <td>65.0</td>\n",
       "    </tr>\n",
       "  </tbody>\n",
       "</table>\n",
       "<p>5 rows × 23 columns</p>\n",
       "</div>"
      ],
      "text/plain": [
       "   sessionNo  startHour  startWeekday  duration  cCount  cMinPrice  cMaxPrice  \\\n",
       "0          1         18             7   136.833       3      39.99      39.99   \n",
       "1          1         18             7   189.984       3      39.99      39.99   \n",
       "2          1         18             7   342.894       6      16.99      39.99   \n",
       "3          1         18             7   411.051       8      16.99      39.99   \n",
       "4          1         18             7   460.049      10      16.99      39.99   \n",
       "\n",
       "   cSumPrice  bCount  bMinPrice  ...  onlineStatus          availability  \\\n",
       "0      79.98       1      39.99  ...             y  completely orderable   \n",
       "1      79.98       1      39.99  ...             y  completely orderable   \n",
       "2     113.96       2      16.99  ...           NaN                   NaN   \n",
       "3     149.94       3      16.99  ...           NaN                   NaN   \n",
       "4     189.92       4      16.99  ...           NaN                   NaN   \n",
       "\n",
       "   customerNo  maxVal customerScore  accountLifetime  payments   age  address  \\\n",
       "0     25039.0  1300.0         489.0            188.0       5.0  49.0      1.0   \n",
       "1     25039.0  1300.0         489.0            188.0       5.0  49.0      1.0   \n",
       "2     25039.0  1300.0         489.0            188.0       5.0  49.0      1.0   \n",
       "3     25039.0  1300.0         489.0            188.0       5.0  49.0      1.0   \n",
       "4     25039.0  1300.0         489.0            188.0       5.0  49.0      1.0   \n",
       "\n",
       "   lastOrder  \n",
       "0       65.0  \n",
       "1       65.0  \n",
       "2       65.0  \n",
       "3       65.0  \n",
       "4       65.0  \n",
       "\n",
       "[5 rows x 23 columns]"
      ]
     },
     "execution_count": 5,
     "metadata": {},
     "output_type": "execute_result"
    }
   ],
   "source": [
    "dc.head()"
   ]
  },
  {
   "cell_type": "code",
   "execution_count": 6,
   "metadata": {
    "cell_id": "4c5fc8e974d84e72babd2243a995bce8",
    "deepnote_app_block_visible": true,
    "deepnote_cell_type": "code",
    "execution_context_id": "84101a82-a4d1-4891-9ca1-15b33568b21c",
    "execution_millis": 28,
    "execution_start": 1731063171388,
    "source_hash": "81a5ff78"
   },
   "outputs": [
    {
     "name": "stdout",
     "output_type": "stream",
     "text": [
      "<class 'pandas.core.frame.DataFrame'>\n",
      "RangeIndex: 45068 entries, 0 to 45067\n",
      "Data columns (total 23 columns):\n",
      " #   Column           Non-Null Count  Dtype  \n",
      "---  ------           --------------  -----  \n",
      " 0   sessionNo        45068 non-null  int64  \n",
      " 1   startHour        45068 non-null  int64  \n",
      " 2   startWeekday     45068 non-null  int64  \n",
      " 3   duration         45068 non-null  float64\n",
      " 4   cCount           45068 non-null  int64  \n",
      " 5   cMinPrice        44742 non-null  float64\n",
      " 6   cMaxPrice        44742 non-null  float64\n",
      " 7   cSumPrice        44742 non-null  float64\n",
      " 8   bCount           45068 non-null  int64  \n",
      " 9   bMinPrice        44479 non-null  float64\n",
      " 10  bMaxPrice        44479 non-null  float64\n",
      " 11  bSumPrice        44479 non-null  float64\n",
      " 12  bStep            24302 non-null  float64\n",
      " 13  onlineStatus     27713 non-null  object \n",
      " 14  availability     27311 non-null  object \n",
      " 15  customerNo       27804 non-null  float64\n",
      " 16  maxVal           27616 non-null  float64\n",
      " 17  customerScore    27616 non-null  float64\n",
      " 18  accountLifetime  27616 non-null  float64\n",
      " 19  payments         27804 non-null  float64\n",
      " 20  age              27786 non-null  float64\n",
      " 21  address          27804 non-null  float64\n",
      " 22  lastOrder        27804 non-null  float64\n",
      "dtypes: float64(16), int64(5), object(2)\n",
      "memory usage: 7.9+ MB\n"
     ]
    }
   ],
   "source": [
    "dc.info()"
   ]
  },
  {
   "cell_type": "code",
   "execution_count": 7,
   "metadata": {
    "cell_id": "c54ae43f267d4397a58c378088e37787",
    "deepnote_app_block_visible": true,
    "deepnote_cell_type": "code",
    "execution_context_id": "84101a82-a4d1-4891-9ca1-15b33568b21c",
    "execution_millis": 0,
    "execution_start": 1731063171461,
    "source_hash": "1d7944c7"
   },
   "outputs": [],
   "source": [
    "# pembuangan atribut dan instance\n",
    "dt = dt.drop(['age', 'address', 'customerNo', 'customerScore', 'maxVal'], axis=1)\n",
    "dc = dc.drop(['age', 'address', 'customerNo', 'customerScore', 'maxVal'], axis=1)"
   ]
  },
  {
   "cell_type": "markdown",
   "metadata": {
    "cell_id": "69514e0e93894adbab07d06db2faa273",
    "deepnote_app_block_visible": true,
    "deepnote_cell_type": "markdown"
   },
   "source": [
    "Jadi, di kode ini, kami menghapus beberapa kolom dari data. Kolom yang kami buang adalah `'age'`, `'address'`, `'customerNo'`, `'customerScore'`, dan `'maxVal'`. Dengan kode ini, kami menghapus kolom-kolom yang kami anggap tidak diperlukan dari data pelatihan.\n"
   ]
  },
  {
   "cell_type": "code",
   "execution_count": 8,
   "metadata": {
    "cell_id": "78aefef57d0c4d8ebf970f83ba54ae39",
    "deepnote_app_block_visible": true,
    "deepnote_cell_type": "code",
    "deepnote_table_loading": false,
    "deepnote_table_state": {
     "conditionalFilters": [],
     "filters": [],
     "pageIndex": 0,
     "pageSize": 50,
     "sortBy": [],
     "wrappedTextColumnIds": []
    },
    "execution_context_id": "84101a82-a4d1-4891-9ca1-15b33568b21c",
    "execution_millis": 1,
    "execution_start": 1731063171557,
    "source_hash": "2d4d998a"
   },
   "outputs": [
    {
     "data": {
      "application/vnd.deepnote.dataframe.v3+json": {
       "column_count": 19,
       "columns": [
        {
         "dtype": "int64",
         "name": "sessionNo",
         "stats": {
          "histogram": [
           {
            "bin_end": 1.2,
            "bin_start": 1,
            "count": 3
           },
           {
            "bin_end": 1.4,
            "bin_start": 1.2,
            "count": 0
           },
           {
            "bin_end": 1.6,
            "bin_start": 1.4,
            "count": 0
           },
           {
            "bin_end": 1.8,
            "bin_start": 1.6,
            "count": 0
           },
           {
            "bin_end": 2,
            "bin_start": 1.8,
            "count": 0
           },
           {
            "bin_end": 2.2,
            "bin_start": 2,
            "count": 5
           },
           {
            "bin_end": 2.4000000000000004,
            "bin_start": 2.2,
            "count": 0
           },
           {
            "bin_end": 2.6,
            "bin_start": 2.4000000000000004,
            "count": 0
           },
           {
            "bin_end": 2.8,
            "bin_start": 2.6,
            "count": 0
           },
           {
            "bin_end": 3,
            "bin_start": 2.8,
            "count": 2
           }
          ],
          "max": "3",
          "min": "1",
          "nan_count": 0,
          "unique_count": 3
         }
        },
        {
         "dtype": "int64",
         "name": "startHour",
         "stats": {
          "histogram": [
           {
            "bin_end": 5.6,
            "bin_start": 5.5,
            "count": 0
           },
           {
            "bin_end": 5.7,
            "bin_start": 5.6,
            "count": 0
           },
           {
            "bin_end": 5.8,
            "bin_start": 5.7,
            "count": 0
           },
           {
            "bin_end": 5.9,
            "bin_start": 5.8,
            "count": 0
           },
           {
            "bin_end": 6,
            "bin_start": 5.9,
            "count": 0
           },
           {
            "bin_end": 6.1,
            "bin_start": 6,
            "count": 10
           },
           {
            "bin_end": 6.2,
            "bin_start": 6.1,
            "count": 0
           },
           {
            "bin_end": 6.3,
            "bin_start": 6.2,
            "count": 0
           },
           {
            "bin_end": 6.4,
            "bin_start": 6.3,
            "count": 0
           },
           {
            "bin_end": 6.5,
            "bin_start": 6.4,
            "count": 0
           }
          ],
          "max": "6",
          "min": "6",
          "nan_count": 0,
          "unique_count": 1
         }
        },
        {
         "dtype": "int64",
         "name": "startWeekday",
         "stats": {
          "histogram": [
           {
            "bin_end": 4.6,
            "bin_start": 4.5,
            "count": 0
           },
           {
            "bin_end": 4.7,
            "bin_start": 4.6,
            "count": 0
           },
           {
            "bin_end": 4.8,
            "bin_start": 4.7,
            "count": 0
           },
           {
            "bin_end": 4.9,
            "bin_start": 4.8,
            "count": 0
           },
           {
            "bin_end": 5,
            "bin_start": 4.9,
            "count": 0
           },
           {
            "bin_end": 5.1,
            "bin_start": 5,
            "count": 10
           },
           {
            "bin_end": 5.2,
            "bin_start": 5.1,
            "count": 0
           },
           {
            "bin_end": 5.3,
            "bin_start": 5.2,
            "count": 0
           },
           {
            "bin_end": 5.4,
            "bin_start": 5.3,
            "count": 0
           },
           {
            "bin_end": 5.5,
            "bin_start": 5.4,
            "count": 0
           }
          ],
          "max": "5",
          "min": "5",
          "nan_count": 0,
          "unique_count": 1
         }
        },
        {
         "dtype": "float64",
         "name": "duration",
         "stats": {
          "histogram": [
           {
            "bin_end": 29.7018,
            "bin_start": 0,
            "count": 5
           },
           {
            "bin_end": 59.4036,
            "bin_start": 29.7018,
            "count": 1
           },
           {
            "bin_end": 89.1054,
            "bin_start": 59.4036,
            "count": 1
           },
           {
            "bin_end": 118.8072,
            "bin_start": 89.1054,
            "count": 1
           },
           {
            "bin_end": 148.509,
            "bin_start": 118.8072,
            "count": 0
           },
           {
            "bin_end": 178.2108,
            "bin_start": 148.509,
            "count": 0
           },
           {
            "bin_end": 207.9126,
            "bin_start": 178.2108,
            "count": 1
           },
           {
            "bin_end": 237.6144,
            "bin_start": 207.9126,
            "count": 0
           },
           {
            "bin_end": 267.3162,
            "bin_start": 237.6144,
            "count": 0
           },
           {
            "bin_end": 297.018,
            "bin_start": 267.3162,
            "count": 1
           }
          ],
          "max": "297.018",
          "min": "0.0",
          "nan_count": 0,
          "unique_count": 9
         }
        },
        {
         "dtype": "int64",
         "name": "cCount",
         "stats": {
          "histogram": [
           {
            "bin_end": 1.1,
            "bin_start": 0,
            "count": 8
           },
           {
            "bin_end": 2.2,
            "bin_start": 1.1,
            "count": 0
           },
           {
            "bin_end": 3.3000000000000003,
            "bin_start": 2.2,
            "count": 0
           },
           {
            "bin_end": 4.4,
            "bin_start": 3.3000000000000003,
            "count": 0
           },
           {
            "bin_end": 5.5,
            "bin_start": 4.4,
            "count": 0
           },
           {
            "bin_end": 6.6000000000000005,
            "bin_start": 5.5,
            "count": 0
           },
           {
            "bin_end": 7.700000000000001,
            "bin_start": 6.6000000000000005,
            "count": 0
           },
           {
            "bin_end": 8.8,
            "bin_start": 7.700000000000001,
            "count": 0
           },
           {
            "bin_end": 9.9,
            "bin_start": 8.8,
            "count": 1
           },
           {
            "bin_end": 11,
            "bin_start": 9.9,
            "count": 1
           }
          ],
          "max": "11",
          "min": "0",
          "nan_count": 0,
          "unique_count": 4
         }
        },
        {
         "dtype": "float64",
         "name": "cMinPrice",
         "stats": {
          "histogram": [
           {
            "bin_end": 14.99,
            "bin_start": 9.99,
            "count": 1
           },
           {
            "bin_end": 19.990000000000002,
            "bin_start": 14.99,
            "count": 0
           },
           {
            "bin_end": 24.990000000000002,
            "bin_start": 19.990000000000002,
            "count": 0
           },
           {
            "bin_end": 29.990000000000002,
            "bin_start": 24.990000000000002,
            "count": 1
           },
           {
            "bin_end": 34.99,
            "bin_start": 29.990000000000002,
            "count": 0
           },
           {
            "bin_end": 39.99,
            "bin_start": 34.99,
            "count": 0
           },
           {
            "bin_end": 44.99,
            "bin_start": 39.99,
            "count": 0
           },
           {
            "bin_end": 49.99,
            "bin_start": 44.99,
            "count": 0
           },
           {
            "bin_end": 54.99,
            "bin_start": 49.99,
            "count": 0
           },
           {
            "bin_end": 59.99,
            "bin_start": 54.99,
            "count": 3
           }
          ],
          "max": "59.99",
          "min": "9.99",
          "nan_count": 5,
          "unique_count": 3
         }
        },
        {
         "dtype": "float64",
         "name": "cMaxPrice",
         "stats": {
          "histogram": [
           {
            "bin_end": 32.99,
            "bin_start": 29.99,
            "count": 2
           },
           {
            "bin_end": 35.99,
            "bin_start": 32.99,
            "count": 0
           },
           {
            "bin_end": 38.99,
            "bin_start": 35.99,
            "count": 0
           },
           {
            "bin_end": 41.99,
            "bin_start": 38.99,
            "count": 0
           },
           {
            "bin_end": 44.99,
            "bin_start": 41.99,
            "count": 0
           },
           {
            "bin_end": 47.99,
            "bin_start": 44.99,
            "count": 0
           },
           {
            "bin_end": 50.99,
            "bin_start": 47.99,
            "count": 0
           },
           {
            "bin_end": 53.99,
            "bin_start": 50.99,
            "count": 0
           },
           {
            "bin_end": 56.99,
            "bin_start": 53.99,
            "count": 0
           },
           {
            "bin_end": 59.99,
            "bin_start": 56.99,
            "count": 3
           }
          ],
          "max": "59.99",
          "min": "29.99",
          "nan_count": 5,
          "unique_count": 2
         }
        },
        {
         "dtype": "float64",
         "name": "cSumPrice",
         "stats": {
          "histogram": [
           {
            "bin_end": 64.986,
            "bin_start": 59.99,
            "count": 3
           },
           {
            "bin_end": 69.982,
            "bin_start": 64.986,
            "count": 0
           },
           {
            "bin_end": 74.97800000000001,
            "bin_start": 69.982,
            "count": 0
           },
           {
            "bin_end": 79.974,
            "bin_start": 74.97800000000001,
            "count": 0
           },
           {
            "bin_end": 84.97,
            "bin_start": 79.974,
            "count": 0
           },
           {
            "bin_end": 89.96600000000001,
            "bin_start": 84.97,
            "count": 0
           },
           {
            "bin_end": 94.962,
            "bin_start": 89.96600000000001,
            "count": 1
           },
           {
            "bin_end": 99.958,
            "bin_start": 94.962,
            "count": 0
           },
           {
            "bin_end": 104.95400000000001,
            "bin_start": 99.958,
            "count": 0
           },
           {
            "bin_end": 109.95,
            "bin_start": 104.95400000000001,
            "count": 1
           }
          ],
          "max": "109.95",
          "min": "59.99",
          "nan_count": 5,
          "unique_count": 3
         }
        },
        {
         "dtype": "int64",
         "name": "bCount",
         "stats": {
          "histogram": [
           {
            "bin_end": 0.2,
            "bin_start": 0,
            "count": 5
           },
           {
            "bin_end": 0.4,
            "bin_start": 0.2,
            "count": 0
           },
           {
            "bin_end": 0.6000000000000001,
            "bin_start": 0.4,
            "count": 0
           },
           {
            "bin_end": 0.8,
            "bin_start": 0.6000000000000001,
            "count": 0
           },
           {
            "bin_end": 1,
            "bin_start": 0.8,
            "count": 0
           },
           {
            "bin_end": 1.2000000000000002,
            "bin_start": 1,
            "count": 4
           },
           {
            "bin_end": 1.4000000000000001,
            "bin_start": 1.2000000000000002,
            "count": 0
           },
           {
            "bin_end": 1.6,
            "bin_start": 1.4000000000000001,
            "count": 0
           },
           {
            "bin_end": 1.8,
            "bin_start": 1.6,
            "count": 0
           },
           {
            "bin_end": 2,
            "bin_start": 1.8,
            "count": 1
           }
          ],
          "max": "2",
          "min": "0",
          "nan_count": 0,
          "unique_count": 3
         }
        },
        {
         "dtype": "float64",
         "name": "bMinPrice",
         "stats": {
          "histogram": [
           {
            "bin_end": 14.99,
            "bin_start": 9.99,
            "count": 1
           },
           {
            "bin_end": 19.990000000000002,
            "bin_start": 14.99,
            "count": 0
           },
           {
            "bin_end": 24.990000000000002,
            "bin_start": 19.990000000000002,
            "count": 0
           },
           {
            "bin_end": 29.990000000000002,
            "bin_start": 24.990000000000002,
            "count": 1
           },
           {
            "bin_end": 34.99,
            "bin_start": 29.990000000000002,
            "count": 0
           },
           {
            "bin_end": 39.99,
            "bin_start": 34.99,
            "count": 0
           },
           {
            "bin_end": 44.99,
            "bin_start": 39.99,
            "count": 0
           },
           {
            "bin_end": 49.99,
            "bin_start": 44.99,
            "count": 0
           },
           {
            "bin_end": 54.99,
            "bin_start": 49.99,
            "count": 0
           },
           {
            "bin_end": 59.99,
            "bin_start": 54.99,
            "count": 3
           }
          ],
          "max": "59.99",
          "min": "9.99",
          "nan_count": 5,
          "unique_count": 3
         }
        },
        {
         "dtype": "float64",
         "name": "bMaxPrice",
         "stats": {
          "histogram": [
           {
            "bin_end": 32.99,
            "bin_start": 29.99,
            "count": 2
           },
           {
            "bin_end": 35.99,
            "bin_start": 32.99,
            "count": 0
           },
           {
            "bin_end": 38.99,
            "bin_start": 35.99,
            "count": 0
           },
           {
            "bin_end": 41.99,
            "bin_start": 38.99,
            "count": 0
           },
           {
            "bin_end": 44.99,
            "bin_start": 41.99,
            "count": 0
           },
           {
            "bin_end": 47.99,
            "bin_start": 44.99,
            "count": 0
           },
           {
            "bin_end": 50.99,
            "bin_start": 47.99,
            "count": 0
           },
           {
            "bin_end": 53.99,
            "bin_start": 50.99,
            "count": 0
           },
           {
            "bin_end": 56.99,
            "bin_start": 53.99,
            "count": 0
           },
           {
            "bin_end": 59.99,
            "bin_start": 56.99,
            "count": 3
           }
          ],
          "max": "59.99",
          "min": "29.99",
          "nan_count": 5,
          "unique_count": 2
         }
        },
        {
         "dtype": "float64",
         "name": "bSumPrice",
         "stats": {
          "histogram": [
           {
            "bin_end": 32.99,
            "bin_start": 29.99,
            "count": 1
           },
           {
            "bin_end": 35.99,
            "bin_start": 32.99,
            "count": 0
           },
           {
            "bin_end": 38.99,
            "bin_start": 35.99,
            "count": 0
           },
           {
            "bin_end": 41.99,
            "bin_start": 38.99,
            "count": 1
           },
           {
            "bin_end": 44.99,
            "bin_start": 41.99,
            "count": 0
           },
           {
            "bin_end": 47.99,
            "bin_start": 44.99,
            "count": 0
           },
           {
            "bin_end": 50.99,
            "bin_start": 47.99,
            "count": 0
           },
           {
            "bin_end": 53.99,
            "bin_start": 50.99,
            "count": 0
           },
           {
            "bin_end": 56.99,
            "bin_start": 53.99,
            "count": 0
           },
           {
            "bin_end": 59.99,
            "bin_start": 56.99,
            "count": 3
           }
          ],
          "max": "59.99",
          "min": "29.99",
          "nan_count": 5,
          "unique_count": 3
         }
        },
        {
         "dtype": "float64",
         "name": "bStep",
         "stats": {
          "histogram": [
           {
            "bin_end": 2.2,
            "bin_start": 2,
            "count": 2
           },
           {
            "bin_end": 2.4,
            "bin_start": 2.2,
            "count": 0
           },
           {
            "bin_end": 2.6,
            "bin_start": 2.4,
            "count": 0
           },
           {
            "bin_end": 2.8,
            "bin_start": 2.6,
            "count": 0
           },
           {
            "bin_end": 3,
            "bin_start": 2.8,
            "count": 0
           },
           {
            "bin_end": 3.2,
            "bin_start": 3,
            "count": 0
           },
           {
            "bin_end": 3.4000000000000004,
            "bin_start": 3.2,
            "count": 0
           },
           {
            "bin_end": 3.6,
            "bin_start": 3.4000000000000004,
            "count": 0
           },
           {
            "bin_end": 3.8,
            "bin_start": 3.6,
            "count": 0
           },
           {
            "bin_end": 4,
            "bin_start": 3.8,
            "count": 2
           }
          ],
          "max": "4.0",
          "min": "2.0",
          "nan_count": 6,
          "unique_count": 2
         }
        },
        {
         "dtype": "object",
         "name": "onlineStatus",
         "stats": {
          "categories": [
           {
            "count": 7,
            "name": "y"
           },
           {
            "count": 3,
            "name": "Missing"
           }
          ],
          "nan_count": 3,
          "unique_count": 1
         }
        },
        {
         "dtype": "object",
         "name": "availability",
         "stats": {
          "categories": [
           {
            "count": 7,
            "name": "completely orderable"
           },
           {
            "count": 3,
            "name": "Missing"
           }
          ],
          "nan_count": 3,
          "unique_count": 1
         }
        },
        {
         "dtype": "float64",
         "name": "accountLifetime",
         "stats": {
          "histogram": [
           {
            "bin_end": 49.1,
            "bin_start": 21,
            "count": 3
           },
           {
            "bin_end": 77.2,
            "bin_start": 49.1,
            "count": 0
           },
           {
            "bin_end": 105.30000000000001,
            "bin_start": 77.2,
            "count": 0
           },
           {
            "bin_end": 133.4,
            "bin_start": 105.30000000000001,
            "count": 0
           },
           {
            "bin_end": 161.5,
            "bin_start": 133.4,
            "count": 0
           },
           {
            "bin_end": 189.60000000000002,
            "bin_start": 161.5,
            "count": 0
           },
           {
            "bin_end": 217.70000000000002,
            "bin_start": 189.60000000000002,
            "count": 0
           },
           {
            "bin_end": 245.8,
            "bin_start": 217.70000000000002,
            "count": 0
           },
           {
            "bin_end": 273.9,
            "bin_start": 245.8,
            "count": 0
           },
           {
            "bin_end": 302,
            "bin_start": 273.9,
            "count": 2
           }
          ],
          "max": "302.0",
          "min": "21.0",
          "nan_count": 5,
          "unique_count": 2
         }
        },
        {
         "dtype": "float64",
         "name": "payments",
         "stats": {
          "histogram": [
           {
            "bin_end": 2.1,
            "bin_start": 1,
            "count": 3
           },
           {
            "bin_end": 3.2,
            "bin_start": 2.1,
            "count": 0
           },
           {
            "bin_end": 4.300000000000001,
            "bin_start": 3.2,
            "count": 0
           },
           {
            "bin_end": 5.4,
            "bin_start": 4.300000000000001,
            "count": 0
           },
           {
            "bin_end": 6.5,
            "bin_start": 5.4,
            "count": 0
           },
           {
            "bin_end": 7.6000000000000005,
            "bin_start": 6.5,
            "count": 0
           },
           {
            "bin_end": 8.700000000000001,
            "bin_start": 7.6000000000000005,
            "count": 0
           },
           {
            "bin_end": 9.8,
            "bin_start": 8.700000000000001,
            "count": 0
           },
           {
            "bin_end": 10.9,
            "bin_start": 9.8,
            "count": 0
           },
           {
            "bin_end": 12,
            "bin_start": 10.9,
            "count": 2
           }
          ],
          "max": "12.0",
          "min": "1.0",
          "nan_count": 5,
          "unique_count": 2
         }
        },
        {
         "dtype": "float64",
         "name": "lastOrder",
         "stats": {
          "histogram": [
           {
            "bin_end": 14.8,
            "bin_start": 11,
            "count": 2
           },
           {
            "bin_end": 18.6,
            "bin_start": 14.8,
            "count": 0
           },
           {
            "bin_end": 22.4,
            "bin_start": 18.6,
            "count": 0
           },
           {
            "bin_end": 26.2,
            "bin_start": 22.4,
            "count": 0
           },
           {
            "bin_end": 30,
            "bin_start": 26.2,
            "count": 0
           },
           {
            "bin_end": 33.8,
            "bin_start": 30,
            "count": 0
           },
           {
            "bin_end": 37.599999999999994,
            "bin_start": 33.8,
            "count": 0
           },
           {
            "bin_end": 41.4,
            "bin_start": 37.599999999999994,
            "count": 0
           },
           {
            "bin_end": 45.199999999999996,
            "bin_start": 41.4,
            "count": 0
           },
           {
            "bin_end": 49,
            "bin_start": 45.199999999999996,
            "count": 3
           }
          ],
          "max": "49.0",
          "min": "11.0",
          "nan_count": 5,
          "unique_count": 2
         }
        },
        {
         "dtype": "object",
         "name": "order",
         "stats": {
          "categories": [
           {
            "count": 10,
            "name": "y"
           }
          ],
          "nan_count": 0,
          "unique_count": 1
         }
        },
        {
         "dtype": "int64",
         "name": "_deepnote_index_column"
        }
       ],
       "row_count": 10,
       "rows": [
        {
         "_deepnote_index_column": 0,
         "accountLifetime": 21,
         "availability": "nan",
         "bCount": 1,
         "bMaxPrice": 59.99,
         "bMinPrice": 59.99,
         "bStep": "nan",
         "bSumPrice": 59.99,
         "cCount": 1,
         "cMaxPrice": 59.99,
         "cMinPrice": 59.99,
         "cSumPrice": 59.99,
         "duration": 0,
         "lastOrder": 49,
         "onlineStatus": "nan",
         "order": "y",
         "payments": 1,
         "sessionNo": 1,
         "startHour": 6,
         "startWeekday": 5
        },
        {
         "_deepnote_index_column": 1,
         "accountLifetime": 21,
         "availability": "completely orderable",
         "bCount": 1,
         "bMaxPrice": 59.99,
         "bMinPrice": 59.99,
         "bStep": 2,
         "bSumPrice": 59.99,
         "cCount": 1,
         "cMaxPrice": 59.99,
         "cMinPrice": 59.99,
         "cSumPrice": 59.99,
         "duration": 11.94,
         "lastOrder": 49,
         "onlineStatus": "y",
         "order": "y",
         "payments": 1,
         "sessionNo": 1,
         "startHour": 6,
         "startWeekday": 5
        },
        {
         "_deepnote_index_column": 2,
         "accountLifetime": 21,
         "availability": "completely orderable",
         "bCount": 1,
         "bMaxPrice": 59.99,
         "bMinPrice": 59.99,
         "bStep": "nan",
         "bSumPrice": 59.99,
         "cCount": 1,
         "cMaxPrice": 59.99,
         "cMinPrice": 59.99,
         "cSumPrice": 59.99,
         "duration": 39.887,
         "lastOrder": 49,
         "onlineStatus": "y",
         "order": "y",
         "payments": 1,
         "sessionNo": 1,
         "startHour": 6,
         "startWeekday": 5
        },
        {
         "_deepnote_index_column": 3,
         "accountLifetime": "nan",
         "availability": "completely orderable",
         "bCount": 0,
         "bMaxPrice": "nan",
         "bMinPrice": "nan",
         "bStep": 2,
         "bSumPrice": "nan",
         "cCount": 0,
         "cMaxPrice": "nan",
         "cMinPrice": "nan",
         "cSumPrice": "nan",
         "duration": 0,
         "lastOrder": "nan",
         "onlineStatus": "y",
         "order": "y",
         "payments": "nan",
         "sessionNo": 2,
         "startHour": 6,
         "startWeekday": 5
        },
        {
         "_deepnote_index_column": 4,
         "accountLifetime": "nan",
         "availability": "completely orderable",
         "bCount": 0,
         "bMaxPrice": "nan",
         "bMinPrice": "nan",
         "bStep": "nan",
         "bSumPrice": "nan",
         "cCount": 0,
         "cMaxPrice": "nan",
         "cMinPrice": "nan",
         "cSumPrice": "nan",
         "duration": 15.633,
         "lastOrder": "nan",
         "onlineStatus": "y",
         "order": "y",
         "payments": "nan",
         "sessionNo": 2,
         "startHour": 6,
         "startWeekday": 5
        },
        {
         "_deepnote_index_column": 5,
         "accountLifetime": "nan",
         "availability": "completely orderable",
         "bCount": 0,
         "bMaxPrice": "nan",
         "bMinPrice": "nan",
         "bStep": 4,
         "bSumPrice": "nan",
         "cCount": 0,
         "cMaxPrice": "nan",
         "cMinPrice": "nan",
         "cSumPrice": "nan",
         "duration": 26.235,
         "lastOrder": "nan",
         "onlineStatus": "y",
         "order": "y",
         "payments": "nan",
         "sessionNo": 2,
         "startHour": 6,
         "startWeekday": 5
        },
        {
         "_deepnote_index_column": 6,
         "accountLifetime": "nan",
         "availability": "completely orderable",
         "bCount": 0,
         "bMaxPrice": "nan",
         "bMinPrice": "nan",
         "bStep": 4,
         "bSumPrice": "nan",
         "cCount": 0,
         "cMaxPrice": "nan",
         "cMinPrice": "nan",
         "cSumPrice": "nan",
         "duration": 71.2,
         "lastOrder": "nan",
         "onlineStatus": "y",
         "order": "y",
         "payments": "nan",
         "sessionNo": 2,
         "startHour": 6,
         "startWeekday": 5
        },
        {
         "_deepnote_index_column": 7,
         "accountLifetime": "nan",
         "availability": "completely orderable",
         "bCount": 0,
         "bMaxPrice": "nan",
         "bMinPrice": "nan",
         "bStep": "nan",
         "bSumPrice": "nan",
         "cCount": 0,
         "cMaxPrice": "nan",
         "cMinPrice": "nan",
         "cSumPrice": "nan",
         "duration": 94.469,
         "lastOrder": "nan",
         "onlineStatus": "y",
         "order": "y",
         "payments": "nan",
         "sessionNo": 2,
         "startHour": 6,
         "startWeekday": 5
        },
        {
         "_deepnote_index_column": 8,
         "accountLifetime": 302,
         "availability": "nan",
         "bCount": 1,
         "bMaxPrice": 29.99,
         "bMinPrice": 29.99,
         "bStep": "nan",
         "bSumPrice": 29.99,
         "cCount": 9,
         "cMaxPrice": 29.99,
         "cMinPrice": 29.99,
         "cSumPrice": 89.97,
         "duration": 181.477,
         "lastOrder": 11,
         "onlineStatus": "nan",
         "order": "y",
         "payments": 12,
         "sessionNo": 3,
         "startHour": 6,
         "startWeekday": 5
        },
        {
         "_deepnote_index_column": 9,
         "accountLifetime": 302,
         "availability": "nan",
         "bCount": 2,
         "bMaxPrice": 29.99,
         "bMinPrice": 9.99,
         "bStep": "nan",
         "bSumPrice": 39.98,
         "cCount": 11,
         "cMaxPrice": 29.99,
         "cMinPrice": 9.99,
         "cSumPrice": 109.95,
         "duration": 297.018,
         "lastOrder": 11,
         "onlineStatus": "nan",
         "order": "y",
         "payments": 12,
         "sessionNo": 3,
         "startHour": 6,
         "startWeekday": 5
        }
       ]
      },
      "text/html": [
       "<div>\n",
       "<style scoped>\n",
       "    .dataframe tbody tr th:only-of-type {\n",
       "        vertical-align: middle;\n",
       "    }\n",
       "\n",
       "    .dataframe tbody tr th {\n",
       "        vertical-align: top;\n",
       "    }\n",
       "\n",
       "    .dataframe thead th {\n",
       "        text-align: right;\n",
       "    }\n",
       "</style>\n",
       "<table border=\"1\" class=\"dataframe\">\n",
       "  <thead>\n",
       "    <tr style=\"text-align: right;\">\n",
       "      <th></th>\n",
       "      <th>sessionNo</th>\n",
       "      <th>startHour</th>\n",
       "      <th>startWeekday</th>\n",
       "      <th>duration</th>\n",
       "      <th>cCount</th>\n",
       "      <th>cMinPrice</th>\n",
       "      <th>cMaxPrice</th>\n",
       "      <th>cSumPrice</th>\n",
       "      <th>bCount</th>\n",
       "      <th>bMinPrice</th>\n",
       "      <th>bMaxPrice</th>\n",
       "      <th>bSumPrice</th>\n",
       "      <th>bStep</th>\n",
       "      <th>onlineStatus</th>\n",
       "      <th>availability</th>\n",
       "      <th>accountLifetime</th>\n",
       "      <th>payments</th>\n",
       "      <th>lastOrder</th>\n",
       "      <th>order</th>\n",
       "    </tr>\n",
       "  </thead>\n",
       "  <tbody>\n",
       "    <tr>\n",
       "      <th>0</th>\n",
       "      <td>1</td>\n",
       "      <td>6</td>\n",
       "      <td>5</td>\n",
       "      <td>0.000</td>\n",
       "      <td>1</td>\n",
       "      <td>59.99</td>\n",
       "      <td>59.99</td>\n",
       "      <td>59.99</td>\n",
       "      <td>1</td>\n",
       "      <td>59.99</td>\n",
       "      <td>59.99</td>\n",
       "      <td>59.99</td>\n",
       "      <td>NaN</td>\n",
       "      <td>NaN</td>\n",
       "      <td>NaN</td>\n",
       "      <td>21.0</td>\n",
       "      <td>1.0</td>\n",
       "      <td>49.0</td>\n",
       "      <td>y</td>\n",
       "    </tr>\n",
       "    <tr>\n",
       "      <th>1</th>\n",
       "      <td>1</td>\n",
       "      <td>6</td>\n",
       "      <td>5</td>\n",
       "      <td>11.940</td>\n",
       "      <td>1</td>\n",
       "      <td>59.99</td>\n",
       "      <td>59.99</td>\n",
       "      <td>59.99</td>\n",
       "      <td>1</td>\n",
       "      <td>59.99</td>\n",
       "      <td>59.99</td>\n",
       "      <td>59.99</td>\n",
       "      <td>2.0</td>\n",
       "      <td>y</td>\n",
       "      <td>completely orderable</td>\n",
       "      <td>21.0</td>\n",
       "      <td>1.0</td>\n",
       "      <td>49.0</td>\n",
       "      <td>y</td>\n",
       "    </tr>\n",
       "    <tr>\n",
       "      <th>2</th>\n",
       "      <td>1</td>\n",
       "      <td>6</td>\n",
       "      <td>5</td>\n",
       "      <td>39.887</td>\n",
       "      <td>1</td>\n",
       "      <td>59.99</td>\n",
       "      <td>59.99</td>\n",
       "      <td>59.99</td>\n",
       "      <td>1</td>\n",
       "      <td>59.99</td>\n",
       "      <td>59.99</td>\n",
       "      <td>59.99</td>\n",
       "      <td>NaN</td>\n",
       "      <td>y</td>\n",
       "      <td>completely orderable</td>\n",
       "      <td>21.0</td>\n",
       "      <td>1.0</td>\n",
       "      <td>49.0</td>\n",
       "      <td>y</td>\n",
       "    </tr>\n",
       "    <tr>\n",
       "      <th>3</th>\n",
       "      <td>2</td>\n",
       "      <td>6</td>\n",
       "      <td>5</td>\n",
       "      <td>0.000</td>\n",
       "      <td>0</td>\n",
       "      <td>NaN</td>\n",
       "      <td>NaN</td>\n",
       "      <td>NaN</td>\n",
       "      <td>0</td>\n",
       "      <td>NaN</td>\n",
       "      <td>NaN</td>\n",
       "      <td>NaN</td>\n",
       "      <td>2.0</td>\n",
       "      <td>y</td>\n",
       "      <td>completely orderable</td>\n",
       "      <td>NaN</td>\n",
       "      <td>NaN</td>\n",
       "      <td>NaN</td>\n",
       "      <td>y</td>\n",
       "    </tr>\n",
       "    <tr>\n",
       "      <th>4</th>\n",
       "      <td>2</td>\n",
       "      <td>6</td>\n",
       "      <td>5</td>\n",
       "      <td>15.633</td>\n",
       "      <td>0</td>\n",
       "      <td>NaN</td>\n",
       "      <td>NaN</td>\n",
       "      <td>NaN</td>\n",
       "      <td>0</td>\n",
       "      <td>NaN</td>\n",
       "      <td>NaN</td>\n",
       "      <td>NaN</td>\n",
       "      <td>NaN</td>\n",
       "      <td>y</td>\n",
       "      <td>completely orderable</td>\n",
       "      <td>NaN</td>\n",
       "      <td>NaN</td>\n",
       "      <td>NaN</td>\n",
       "      <td>y</td>\n",
       "    </tr>\n",
       "    <tr>\n",
       "      <th>5</th>\n",
       "      <td>2</td>\n",
       "      <td>6</td>\n",
       "      <td>5</td>\n",
       "      <td>26.235</td>\n",
       "      <td>0</td>\n",
       "      <td>NaN</td>\n",
       "      <td>NaN</td>\n",
       "      <td>NaN</td>\n",
       "      <td>0</td>\n",
       "      <td>NaN</td>\n",
       "      <td>NaN</td>\n",
       "      <td>NaN</td>\n",
       "      <td>4.0</td>\n",
       "      <td>y</td>\n",
       "      <td>completely orderable</td>\n",
       "      <td>NaN</td>\n",
       "      <td>NaN</td>\n",
       "      <td>NaN</td>\n",
       "      <td>y</td>\n",
       "    </tr>\n",
       "    <tr>\n",
       "      <th>6</th>\n",
       "      <td>2</td>\n",
       "      <td>6</td>\n",
       "      <td>5</td>\n",
       "      <td>71.200</td>\n",
       "      <td>0</td>\n",
       "      <td>NaN</td>\n",
       "      <td>NaN</td>\n",
       "      <td>NaN</td>\n",
       "      <td>0</td>\n",
       "      <td>NaN</td>\n",
       "      <td>NaN</td>\n",
       "      <td>NaN</td>\n",
       "      <td>4.0</td>\n",
       "      <td>y</td>\n",
       "      <td>completely orderable</td>\n",
       "      <td>NaN</td>\n",
       "      <td>NaN</td>\n",
       "      <td>NaN</td>\n",
       "      <td>y</td>\n",
       "    </tr>\n",
       "    <tr>\n",
       "      <th>7</th>\n",
       "      <td>2</td>\n",
       "      <td>6</td>\n",
       "      <td>5</td>\n",
       "      <td>94.469</td>\n",
       "      <td>0</td>\n",
       "      <td>NaN</td>\n",
       "      <td>NaN</td>\n",
       "      <td>NaN</td>\n",
       "      <td>0</td>\n",
       "      <td>NaN</td>\n",
       "      <td>NaN</td>\n",
       "      <td>NaN</td>\n",
       "      <td>NaN</td>\n",
       "      <td>y</td>\n",
       "      <td>completely orderable</td>\n",
       "      <td>NaN</td>\n",
       "      <td>NaN</td>\n",
       "      <td>NaN</td>\n",
       "      <td>y</td>\n",
       "    </tr>\n",
       "    <tr>\n",
       "      <th>8</th>\n",
       "      <td>3</td>\n",
       "      <td>6</td>\n",
       "      <td>5</td>\n",
       "      <td>181.477</td>\n",
       "      <td>9</td>\n",
       "      <td>29.99</td>\n",
       "      <td>29.99</td>\n",
       "      <td>89.97</td>\n",
       "      <td>1</td>\n",
       "      <td>29.99</td>\n",
       "      <td>29.99</td>\n",
       "      <td>29.99</td>\n",
       "      <td>NaN</td>\n",
       "      <td>NaN</td>\n",
       "      <td>NaN</td>\n",
       "      <td>302.0</td>\n",
       "      <td>12.0</td>\n",
       "      <td>11.0</td>\n",
       "      <td>y</td>\n",
       "    </tr>\n",
       "    <tr>\n",
       "      <th>9</th>\n",
       "      <td>3</td>\n",
       "      <td>6</td>\n",
       "      <td>5</td>\n",
       "      <td>297.018</td>\n",
       "      <td>11</td>\n",
       "      <td>9.99</td>\n",
       "      <td>29.99</td>\n",
       "      <td>109.95</td>\n",
       "      <td>2</td>\n",
       "      <td>9.99</td>\n",
       "      <td>29.99</td>\n",
       "      <td>39.98</td>\n",
       "      <td>NaN</td>\n",
       "      <td>NaN</td>\n",
       "      <td>NaN</td>\n",
       "      <td>302.0</td>\n",
       "      <td>12.0</td>\n",
       "      <td>11.0</td>\n",
       "      <td>y</td>\n",
       "    </tr>\n",
       "  </tbody>\n",
       "</table>\n",
       "</div>"
      ],
      "text/plain": [
       "   sessionNo  startHour  startWeekday  duration  cCount  cMinPrice  cMaxPrice  \\\n",
       "0          1          6             5     0.000       1      59.99      59.99   \n",
       "1          1          6             5    11.940       1      59.99      59.99   \n",
       "2          1          6             5    39.887       1      59.99      59.99   \n",
       "3          2          6             5     0.000       0        NaN        NaN   \n",
       "4          2          6             5    15.633       0        NaN        NaN   \n",
       "5          2          6             5    26.235       0        NaN        NaN   \n",
       "6          2          6             5    71.200       0        NaN        NaN   \n",
       "7          2          6             5    94.469       0        NaN        NaN   \n",
       "8          3          6             5   181.477       9      29.99      29.99   \n",
       "9          3          6             5   297.018      11       9.99      29.99   \n",
       "\n",
       "   cSumPrice  bCount  bMinPrice  bMaxPrice  bSumPrice  bStep onlineStatus  \\\n",
       "0      59.99       1      59.99      59.99      59.99    NaN          NaN   \n",
       "1      59.99       1      59.99      59.99      59.99    2.0            y   \n",
       "2      59.99       1      59.99      59.99      59.99    NaN            y   \n",
       "3        NaN       0        NaN        NaN        NaN    2.0            y   \n",
       "4        NaN       0        NaN        NaN        NaN    NaN            y   \n",
       "5        NaN       0        NaN        NaN        NaN    4.0            y   \n",
       "6        NaN       0        NaN        NaN        NaN    4.0            y   \n",
       "7        NaN       0        NaN        NaN        NaN    NaN            y   \n",
       "8      89.97       1      29.99      29.99      29.99    NaN          NaN   \n",
       "9     109.95       2       9.99      29.99      39.98    NaN          NaN   \n",
       "\n",
       "           availability  accountLifetime  payments  lastOrder order  \n",
       "0                   NaN             21.0       1.0       49.0     y  \n",
       "1  completely orderable             21.0       1.0       49.0     y  \n",
       "2  completely orderable             21.0       1.0       49.0     y  \n",
       "3  completely orderable              NaN       NaN        NaN     y  \n",
       "4  completely orderable              NaN       NaN        NaN     y  \n",
       "5  completely orderable              NaN       NaN        NaN     y  \n",
       "6  completely orderable              NaN       NaN        NaN     y  \n",
       "7  completely orderable              NaN       NaN        NaN     y  \n",
       "8                   NaN            302.0      12.0       11.0     y  \n",
       "9                   NaN            302.0      12.0       11.0     y  "
      ]
     },
     "execution_count": 8,
     "metadata": {},
     "output_type": "execute_result"
    }
   ],
   "source": [
    "dt.head(10)"
   ]
  },
  {
   "cell_type": "markdown",
   "metadata": {
    "cell_id": "a31d17723d5f4000b63ad43b7d15c218",
    "deepnote_app_block_visible": true,
    "deepnote_cell_type": "text-cell-h3",
    "formattedRanges": []
   },
   "source": [
    "### Penanganan Data Kosong\n"
   ]
  },
  {
   "cell_type": "code",
   "execution_count": 9,
   "metadata": {
    "cell_id": "3464dad01aec46e4b7d658db058f2549",
    "deepnote_app_block_visible": true,
    "deepnote_cell_type": "code",
    "execution_context_id": "84101a82-a4d1-4891-9ca1-15b33568b21c",
    "execution_millis": 0,
    "execution_start": 1731063171657,
    "source_hash": "a5b2fa0e"
   },
   "outputs": [],
   "source": [
    "def handle_missing_data(df):\n",
    "    # Penanganan data kosong menjadi Mean\n",
    "    df['cSumPrice'].fillna(df['cSumPrice'].mean(), inplace=True)\n",
    "    df['bSumPrice'].fillna(df['bSumPrice'].mean(), inplace=True)\n",
    "\n",
    "    # Penanganan data kosong menjadi Median\n",
    "    df['cMinPrice'].fillna(df['cMinPrice'].median(), inplace=True)\n",
    "    df['cMaxPrice'].fillna(df['cMaxPrice'].median(), inplace=True)\n",
    "    df['bMinPrice'].fillna(df['bMinPrice'].median(), inplace=True)\n",
    "    df['bMaxPrice'].fillna(df['bMaxPrice'].median(), inplace=True)\n",
    "    df['accountLifetime'].fillna(df['accountLifetime'].median(), inplace=True)\n",
    "    df['payments'].fillna(df['payments'].median(), inplace=True)\n",
    "    df['lastOrder'].fillna(df['lastOrder'].median(), inplace=True)\n",
    "\n",
    "    # Menangani data NaN di kolom 'onlineStatus' dengan pengisian acak\n",
    "    df['bStep'] = df['bStep'].apply(lambda x: np.random.choice([1, 2, 3, 4, 5]) if pd.isna(x) else x)\n",
    "    \n",
    "    # Menangani data NaN di kolom 'onlineStatus' dengan pengisian acak antara \"y\" dan \"n\"\n",
    "    df['onlineStatus'] = df['onlineStatus'].apply(lambda x: np.random.choice(['y', 'n']) if pd.isna(x) else x)\n",
    "\n",
    "    # Menangani data NaN di kolom 'availability' dengan pengisian acak dari beberapa opsi yang relevan\n",
    "    df['availability'] = df['availability'].apply(lambda x: np.random.choice(['completely orderable', 'completely not orderable', \n",
    "                                                                                 'mainly orderable', 'mixed', \n",
    "                                                                                 'mainly not orderable', 'completely not determinable',\n",
    "                                                                                 'mainly not determinable']) if pd.isna(x) else x)\n",
    "\n",
    "    return df"
   ]
  },
  {
   "cell_type": "code",
   "execution_count": 10,
   "metadata": {
    "cell_id": "c22feef6e7ce425a911b56b447eb6e8f",
    "deepnote_cell_type": "code",
    "deepnote_table_loading": false,
    "deepnote_table_state": {
     "conditionalFilters": [],
     "filters": [],
     "pageIndex": 0,
     "pageSize": 50,
     "sortBy": [],
     "wrappedTextColumnIds": []
    },
    "execution_context_id": "84101a82-a4d1-4891-9ca1-15b33568b21c",
    "execution_millis": 12826,
    "execution_start": 1731063171705,
    "source_hash": "f23bae9b"
   },
   "outputs": [],
   "source": [
    "dt = handle_missing_data(dt)\n",
    "dc = handle_missing_data(dc)"
   ]
  },
  {
   "cell_type": "markdown",
   "metadata": {
    "cell_id": "5f3de4e3f714493a9c16f69078d70cb3",
    "deepnote_app_block_visible": true,
    "deepnote_cell_type": "markdown"
   },
   "source": [
    "Di kode ini, kami menangani data yang hilang (missing data) dengan cara mengisinya menggunakan berbagai metode, tergantung jenis kolomnya:\n",
    "\n",
    "1. **Mengisi dengan Mean (Rata-rata)**:\n",
    "\n",
    "   - Untuk kolom `'cSumPrice'` dan `'bSumPrice'`, kami mengisi data yang hilang dengan rata-rata (mean) dari nilai-nilai yang ada di kolom tersebut.\n",
    "\n",
    "2. **Mengisi dengan Median (Nilai Tengah)**:\n",
    "\n",
    "   - Untuk kolom-kolom seperti `'cMinPrice'`, `'cMaxPrice'`, `'bMinPrice'`, `'bMaxPrice'`, `'accountLifetime'`, `'payments'`, dan `'lastOrder'`, kami mengisi nilai yang hilang dengan median, yaitu nilai tengah dari kolom tersebut.\n",
    "\n",
    "3. **Mengisi dengan Random Choice**:\n",
    "   - Kolom `'bStep'`,`'onlineStatus'`, dan `'availability'` diisi dengan random choice, yaitu dipilih secara random dari data yang ada pada kolom tersebut.\n",
    "\n",
    "Jadi, secara keseluruhan, kode ini digunakan untuk mengisi nilai kosong di berbagai kolom dengan cara yang paling sesuai, agar data menjadi lengkap dan bisa digunakan untuk analisis lebih lanjut.\n"
   ]
  },
  {
   "cell_type": "code",
   "execution_count": 11,
   "metadata": {
    "cell_id": "90d9de807f9245378d58585ab999e39e",
    "deepnote_app_block_visible": true,
    "deepnote_cell_type": "code",
    "execution_context_id": "84101a82-a4d1-4891-9ca1-15b33568b21c",
    "execution_millis": 60,
    "execution_start": 1731063184581,
    "source_hash": "c2393784"
   },
   "outputs": [
    {
     "data": {
      "application/vnd.deepnote.dataframe.v3+json": {
       "column_count": 19,
       "columns": [
        {
         "dtype": "int64",
         "name": "sessionNo",
         "stats": {
          "histogram": [
           {
            "bin_end": 1.2,
            "bin_start": 1,
            "count": 3
           },
           {
            "bin_end": 1.4,
            "bin_start": 1.2,
            "count": 0
           },
           {
            "bin_end": 1.6,
            "bin_start": 1.4,
            "count": 0
           },
           {
            "bin_end": 1.8,
            "bin_start": 1.6,
            "count": 0
           },
           {
            "bin_end": 2,
            "bin_start": 1.8,
            "count": 0
           },
           {
            "bin_end": 2.2,
            "bin_start": 2,
            "count": 5
           },
           {
            "bin_end": 2.4000000000000004,
            "bin_start": 2.2,
            "count": 0
           },
           {
            "bin_end": 2.6,
            "bin_start": 2.4000000000000004,
            "count": 0
           },
           {
            "bin_end": 2.8,
            "bin_start": 2.6,
            "count": 0
           },
           {
            "bin_end": 3,
            "bin_start": 2.8,
            "count": 2
           }
          ],
          "max": "3",
          "min": "1",
          "nan_count": 0,
          "unique_count": 3
         }
        },
        {
         "dtype": "int64",
         "name": "startHour",
         "stats": {
          "histogram": [
           {
            "bin_end": 5.6,
            "bin_start": 5.5,
            "count": 0
           },
           {
            "bin_end": 5.7,
            "bin_start": 5.6,
            "count": 0
           },
           {
            "bin_end": 5.8,
            "bin_start": 5.7,
            "count": 0
           },
           {
            "bin_end": 5.9,
            "bin_start": 5.8,
            "count": 0
           },
           {
            "bin_end": 6,
            "bin_start": 5.9,
            "count": 0
           },
           {
            "bin_end": 6.1,
            "bin_start": 6,
            "count": 10
           },
           {
            "bin_end": 6.2,
            "bin_start": 6.1,
            "count": 0
           },
           {
            "bin_end": 6.3,
            "bin_start": 6.2,
            "count": 0
           },
           {
            "bin_end": 6.4,
            "bin_start": 6.3,
            "count": 0
           },
           {
            "bin_end": 6.5,
            "bin_start": 6.4,
            "count": 0
           }
          ],
          "max": "6",
          "min": "6",
          "nan_count": 0,
          "unique_count": 1
         }
        },
        {
         "dtype": "int64",
         "name": "startWeekday",
         "stats": {
          "histogram": [
           {
            "bin_end": 4.6,
            "bin_start": 4.5,
            "count": 0
           },
           {
            "bin_end": 4.7,
            "bin_start": 4.6,
            "count": 0
           },
           {
            "bin_end": 4.8,
            "bin_start": 4.7,
            "count": 0
           },
           {
            "bin_end": 4.9,
            "bin_start": 4.8,
            "count": 0
           },
           {
            "bin_end": 5,
            "bin_start": 4.9,
            "count": 0
           },
           {
            "bin_end": 5.1,
            "bin_start": 5,
            "count": 10
           },
           {
            "bin_end": 5.2,
            "bin_start": 5.1,
            "count": 0
           },
           {
            "bin_end": 5.3,
            "bin_start": 5.2,
            "count": 0
           },
           {
            "bin_end": 5.4,
            "bin_start": 5.3,
            "count": 0
           },
           {
            "bin_end": 5.5,
            "bin_start": 5.4,
            "count": 0
           }
          ],
          "max": "5",
          "min": "5",
          "nan_count": 0,
          "unique_count": 1
         }
        },
        {
         "dtype": "float64",
         "name": "duration",
         "stats": {
          "histogram": [
           {
            "bin_end": 29.7018,
            "bin_start": 0,
            "count": 5
           },
           {
            "bin_end": 59.4036,
            "bin_start": 29.7018,
            "count": 1
           },
           {
            "bin_end": 89.1054,
            "bin_start": 59.4036,
            "count": 1
           },
           {
            "bin_end": 118.8072,
            "bin_start": 89.1054,
            "count": 1
           },
           {
            "bin_end": 148.509,
            "bin_start": 118.8072,
            "count": 0
           },
           {
            "bin_end": 178.2108,
            "bin_start": 148.509,
            "count": 0
           },
           {
            "bin_end": 207.9126,
            "bin_start": 178.2108,
            "count": 1
           },
           {
            "bin_end": 237.6144,
            "bin_start": 207.9126,
            "count": 0
           },
           {
            "bin_end": 267.3162,
            "bin_start": 237.6144,
            "count": 0
           },
           {
            "bin_end": 297.018,
            "bin_start": 267.3162,
            "count": 1
           }
          ],
          "max": "297.018",
          "min": "0.0",
          "nan_count": 0,
          "unique_count": 9
         }
        },
        {
         "dtype": "int64",
         "name": "cCount",
         "stats": {
          "histogram": [
           {
            "bin_end": 1.1,
            "bin_start": 0,
            "count": 8
           },
           {
            "bin_end": 2.2,
            "bin_start": 1.1,
            "count": 0
           },
           {
            "bin_end": 3.3000000000000003,
            "bin_start": 2.2,
            "count": 0
           },
           {
            "bin_end": 4.4,
            "bin_start": 3.3000000000000003,
            "count": 0
           },
           {
            "bin_end": 5.5,
            "bin_start": 4.4,
            "count": 0
           },
           {
            "bin_end": 6.6000000000000005,
            "bin_start": 5.5,
            "count": 0
           },
           {
            "bin_end": 7.700000000000001,
            "bin_start": 6.6000000000000005,
            "count": 0
           },
           {
            "bin_end": 8.8,
            "bin_start": 7.700000000000001,
            "count": 0
           },
           {
            "bin_end": 9.9,
            "bin_start": 8.8,
            "count": 1
           },
           {
            "bin_end": 11,
            "bin_start": 9.9,
            "count": 1
           }
          ],
          "max": "11",
          "min": "0",
          "nan_count": 0,
          "unique_count": 4
         }
        },
        {
         "dtype": "float64",
         "name": "cMinPrice",
         "stats": {
          "histogram": [
           {
            "bin_end": 14.99,
            "bin_start": 9.99,
            "count": 6
           },
           {
            "bin_end": 19.990000000000002,
            "bin_start": 14.99,
            "count": 0
           },
           {
            "bin_end": 24.990000000000002,
            "bin_start": 19.990000000000002,
            "count": 0
           },
           {
            "bin_end": 29.990000000000002,
            "bin_start": 24.990000000000002,
            "count": 1
           },
           {
            "bin_end": 34.99,
            "bin_start": 29.990000000000002,
            "count": 0
           },
           {
            "bin_end": 39.99,
            "bin_start": 34.99,
            "count": 0
           },
           {
            "bin_end": 44.99,
            "bin_start": 39.99,
            "count": 0
           },
           {
            "bin_end": 49.99,
            "bin_start": 44.99,
            "count": 0
           },
           {
            "bin_end": 54.99,
            "bin_start": 49.99,
            "count": 0
           },
           {
            "bin_end": 59.99,
            "bin_start": 54.99,
            "count": 3
           }
          ],
          "max": "59.99",
          "min": "9.99",
          "nan_count": 0,
          "unique_count": 4
         }
        },
        {
         "dtype": "float64",
         "name": "cMaxPrice",
         "stats": {
          "histogram": [
           {
            "bin_end": 32.99,
            "bin_start": 29.99,
            "count": 2
           },
           {
            "bin_end": 35.99,
            "bin_start": 32.99,
            "count": 0
           },
           {
            "bin_end": 38.99,
            "bin_start": 35.99,
            "count": 0
           },
           {
            "bin_end": 41.99,
            "bin_start": 38.99,
            "count": 0
           },
           {
            "bin_end": 44.99,
            "bin_start": 41.99,
            "count": 0
           },
           {
            "bin_end": 47.99,
            "bin_start": 44.99,
            "count": 0
           },
           {
            "bin_end": 50.99,
            "bin_start": 47.99,
            "count": 5
           },
           {
            "bin_end": 53.99,
            "bin_start": 50.99,
            "count": 0
           },
           {
            "bin_end": 56.99,
            "bin_start": 53.99,
            "count": 0
           },
           {
            "bin_end": 59.99,
            "bin_start": 56.99,
            "count": 3
           }
          ],
          "max": "59.99",
          "min": "29.99",
          "nan_count": 0,
          "unique_count": 3
         }
        },
        {
         "dtype": "float64",
         "name": "cSumPrice",
         "stats": {
          "histogram": [
           {
            "bin_end": 172.9158208718868,
            "bin_start": 59.99,
            "count": 5
           },
           {
            "bin_end": 285.8416417437736,
            "bin_start": 172.9158208718868,
            "count": 0
           },
           {
            "bin_end": 398.7674626156604,
            "bin_start": 285.8416417437736,
            "count": 0
           },
           {
            "bin_end": 511.6932834875472,
            "bin_start": 398.7674626156604,
            "count": 0
           },
           {
            "bin_end": 624.619104359434,
            "bin_start": 511.6932834875472,
            "count": 0
           },
           {
            "bin_end": 737.5449252313208,
            "bin_start": 624.619104359434,
            "count": 0
           },
           {
            "bin_end": 850.4707461032076,
            "bin_start": 737.5449252313208,
            "count": 0
           },
           {
            "bin_end": 963.3965669750944,
            "bin_start": 850.4707461032076,
            "count": 0
           },
           {
            "bin_end": 1076.3223878469812,
            "bin_start": 963.3965669750944,
            "count": 0
           },
           {
            "bin_end": 1189.248208718868,
            "bin_start": 1076.3223878469812,
            "count": 5
           }
          ],
          "max": "1189.248208718868",
          "min": "59.99",
          "nan_count": 0,
          "unique_count": 4
         }
        },
        {
         "dtype": "int64",
         "name": "bCount",
         "stats": {
          "histogram": [
           {
            "bin_end": 0.2,
            "bin_start": 0,
            "count": 5
           },
           {
            "bin_end": 0.4,
            "bin_start": 0.2,
            "count": 0
           },
           {
            "bin_end": 0.6000000000000001,
            "bin_start": 0.4,
            "count": 0
           },
           {
            "bin_end": 0.8,
            "bin_start": 0.6000000000000001,
            "count": 0
           },
           {
            "bin_end": 1,
            "bin_start": 0.8,
            "count": 0
           },
           {
            "bin_end": 1.2000000000000002,
            "bin_start": 1,
            "count": 4
           },
           {
            "bin_end": 1.4000000000000001,
            "bin_start": 1.2000000000000002,
            "count": 0
           },
           {
            "bin_end": 1.6,
            "bin_start": 1.4000000000000001,
            "count": 0
           },
           {
            "bin_end": 1.8,
            "bin_start": 1.6,
            "count": 0
           },
           {
            "bin_end": 2,
            "bin_start": 1.8,
            "count": 1
           }
          ],
          "max": "2",
          "min": "0",
          "nan_count": 0,
          "unique_count": 3
         }
        },
        {
         "dtype": "float64",
         "name": "bMinPrice",
         "stats": {
          "histogram": [
           {
            "bin_end": 14.99,
            "bin_start": 9.99,
            "count": 1
           },
           {
            "bin_end": 19.990000000000002,
            "bin_start": 14.99,
            "count": 5
           },
           {
            "bin_end": 24.990000000000002,
            "bin_start": 19.990000000000002,
            "count": 0
           },
           {
            "bin_end": 29.990000000000002,
            "bin_start": 24.990000000000002,
            "count": 1
           },
           {
            "bin_end": 34.99,
            "bin_start": 29.990000000000002,
            "count": 0
           },
           {
            "bin_end": 39.99,
            "bin_start": 34.99,
            "count": 0
           },
           {
            "bin_end": 44.99,
            "bin_start": 39.99,
            "count": 0
           },
           {
            "bin_end": 49.99,
            "bin_start": 44.99,
            "count": 0
           },
           {
            "bin_end": 54.99,
            "bin_start": 49.99,
            "count": 0
           },
           {
            "bin_end": 59.99,
            "bin_start": 54.99,
            "count": 3
           }
          ],
          "max": "59.99",
          "min": "9.99",
          "nan_count": 0,
          "unique_count": 4
         }
        },
        {
         "dtype": "float64",
         "name": "bMaxPrice",
         "stats": {
          "histogram": [
           {
            "bin_end": 32.99,
            "bin_start": 29.99,
            "count": 2
           },
           {
            "bin_end": 35.99,
            "bin_start": 32.99,
            "count": 0
           },
           {
            "bin_end": 38.99,
            "bin_start": 35.99,
            "count": 0
           },
           {
            "bin_end": 41.99,
            "bin_start": 38.99,
            "count": 5
           },
           {
            "bin_end": 44.99,
            "bin_start": 41.99,
            "count": 0
           },
           {
            "bin_end": 47.99,
            "bin_start": 44.99,
            "count": 0
           },
           {
            "bin_end": 50.99,
            "bin_start": 47.99,
            "count": 0
           },
           {
            "bin_end": 53.99,
            "bin_start": 50.99,
            "count": 0
           },
           {
            "bin_end": 56.99,
            "bin_start": 53.99,
            "count": 0
           },
           {
            "bin_end": 59.99,
            "bin_start": 56.99,
            "count": 3
           }
          ],
          "max": "59.99",
          "min": "29.99",
          "nan_count": 0,
          "unique_count": 3
         }
        },
        {
         "dtype": "float64",
         "name": "bSumPrice",
         "stats": {
          "histogram": [
           {
            "bin_end": 48.31708094686506,
            "bin_start": 29.99,
            "count": 2
           },
           {
            "bin_end": 66.64416189373011,
            "bin_start": 48.31708094686506,
            "count": 3
           },
           {
            "bin_end": 84.97124284059518,
            "bin_start": 66.64416189373011,
            "count": 0
           },
           {
            "bin_end": 103.29832378746023,
            "bin_start": 84.97124284059518,
            "count": 0
           },
           {
            "bin_end": 121.6254047343253,
            "bin_start": 103.29832378746023,
            "count": 0
           },
           {
            "bin_end": 139.95248568119035,
            "bin_start": 121.6254047343253,
            "count": 0
           },
           {
            "bin_end": 158.27956662805542,
            "bin_start": 139.95248568119035,
            "count": 0
           },
           {
            "bin_end": 176.6066475749205,
            "bin_start": 158.27956662805542,
            "count": 0
           },
           {
            "bin_end": 194.93372852178555,
            "bin_start": 176.6066475749205,
            "count": 0
           },
           {
            "bin_end": 213.2608094686506,
            "bin_start": 194.93372852178555,
            "count": 5
           }
          ],
          "max": "213.2608094686506",
          "min": "29.99",
          "nan_count": 0,
          "unique_count": 4
         }
        },
        {
         "dtype": "float64",
         "name": "bStep",
         "stats": {
          "histogram": [
           {
            "bin_end": 1.4,
            "bin_start": 1,
            "count": 1
           },
           {
            "bin_end": 1.8,
            "bin_start": 1.4,
            "count": 0
           },
           {
            "bin_end": 2.2,
            "bin_start": 1.8,
            "count": 5
           },
           {
            "bin_end": 2.6,
            "bin_start": 2.2,
            "count": 0
           },
           {
            "bin_end": 3,
            "bin_start": 2.6,
            "count": 0
           },
           {
            "bin_end": 3.4000000000000004,
            "bin_start": 3,
            "count": 0
           },
           {
            "bin_end": 3.8000000000000003,
            "bin_start": 3.4000000000000004,
            "count": 0
           },
           {
            "bin_end": 4.2,
            "bin_start": 3.8000000000000003,
            "count": 3
           },
           {
            "bin_end": 4.6,
            "bin_start": 4.2,
            "count": 0
           },
           {
            "bin_end": 5,
            "bin_start": 4.6,
            "count": 1
           }
          ],
          "max": "5.0",
          "min": "1.0",
          "nan_count": 0,
          "unique_count": 4
         }
        },
        {
         "dtype": "object",
         "name": "onlineStatus",
         "stats": {
          "categories": [
           {
            "count": 8,
            "name": "y"
           },
           {
            "count": 2,
            "name": "n"
           }
          ],
          "nan_count": 0,
          "unique_count": 2
         }
        },
        {
         "dtype": "object",
         "name": "availability",
         "stats": {
          "categories": [
           {
            "count": 7,
            "name": "completely orderable"
           },
           {
            "count": 1,
            "name": "mixed"
           },
           {
            "count": 2,
            "name": "2 others"
           }
          ],
          "nan_count": 0,
          "unique_count": 4
         }
        },
        {
         "dtype": "float64",
         "name": "accountLifetime",
         "stats": {
          "histogram": [
           {
            "bin_end": 49.1,
            "bin_start": 21,
            "count": 3
           },
           {
            "bin_end": 77.2,
            "bin_start": 49.1,
            "count": 0
           },
           {
            "bin_end": 105.30000000000001,
            "bin_start": 77.2,
            "count": 0
           },
           {
            "bin_end": 133.4,
            "bin_start": 105.30000000000001,
            "count": 5
           },
           {
            "bin_end": 161.5,
            "bin_start": 133.4,
            "count": 0
           },
           {
            "bin_end": 189.60000000000002,
            "bin_start": 161.5,
            "count": 0
           },
           {
            "bin_end": 217.70000000000002,
            "bin_start": 189.60000000000002,
            "count": 0
           },
           {
            "bin_end": 245.8,
            "bin_start": 217.70000000000002,
            "count": 0
           },
           {
            "bin_end": 273.9,
            "bin_start": 245.8,
            "count": 0
           },
           {
            "bin_end": 302,
            "bin_start": 273.9,
            "count": 2
           }
          ],
          "max": "302.0",
          "min": "21.0",
          "nan_count": 0,
          "unique_count": 3
         }
        },
        {
         "dtype": "float64",
         "name": "payments",
         "stats": {
          "histogram": [
           {
            "bin_end": 2.1,
            "bin_start": 1,
            "count": 3
           },
           {
            "bin_end": 3.2,
            "bin_start": 2.1,
            "count": 0
           },
           {
            "bin_end": 4.300000000000001,
            "bin_start": 3.2,
            "count": 0
           },
           {
            "bin_end": 5.4,
            "bin_start": 4.300000000000001,
            "count": 0
           },
           {
            "bin_end": 6.5,
            "bin_start": 5.4,
            "count": 0
           },
           {
            "bin_end": 7.6000000000000005,
            "bin_start": 6.5,
            "count": 0
           },
           {
            "bin_end": 8.700000000000001,
            "bin_start": 7.6000000000000005,
            "count": 5
           },
           {
            "bin_end": 9.8,
            "bin_start": 8.700000000000001,
            "count": 0
           },
           {
            "bin_end": 10.9,
            "bin_start": 9.8,
            "count": 0
           },
           {
            "bin_end": 12,
            "bin_start": 10.9,
            "count": 2
           }
          ],
          "max": "12.0",
          "min": "1.0",
          "nan_count": 0,
          "unique_count": 3
         }
        },
        {
         "dtype": "float64",
         "name": "lastOrder",
         "stats": {
          "histogram": [
           {
            "bin_end": 14.8,
            "bin_start": 11,
            "count": 2
           },
           {
            "bin_end": 18.6,
            "bin_start": 14.8,
            "count": 0
           },
           {
            "bin_end": 22.4,
            "bin_start": 18.6,
            "count": 0
           },
           {
            "bin_end": 26.2,
            "bin_start": 22.4,
            "count": 0
           },
           {
            "bin_end": 30,
            "bin_start": 26.2,
            "count": 0
           },
           {
            "bin_end": 33.8,
            "bin_start": 30,
            "count": 0
           },
           {
            "bin_end": 37.599999999999994,
            "bin_start": 33.8,
            "count": 5
           },
           {
            "bin_end": 41.4,
            "bin_start": 37.599999999999994,
            "count": 0
           },
           {
            "bin_end": 45.199999999999996,
            "bin_start": 41.4,
            "count": 0
           },
           {
            "bin_end": 49,
            "bin_start": 45.199999999999996,
            "count": 3
           }
          ],
          "max": "49.0",
          "min": "11.0",
          "nan_count": 0,
          "unique_count": 3
         }
        },
        {
         "dtype": "object",
         "name": "order",
         "stats": {
          "categories": [
           {
            "count": 10,
            "name": "y"
           }
          ],
          "nan_count": 0,
          "unique_count": 1
         }
        },
        {
         "dtype": "int64",
         "name": "_deepnote_index_column"
        }
       ],
       "row_count": 10,
       "rows": [
        {
         "_deepnote_index_column": 0,
         "accountLifetime": 21,
         "availability": "mixed",
         "bCount": 1,
         "bMaxPrice": 59.99,
         "bMinPrice": 59.99,
         "bStep": 2,
         "bSumPrice": 59.99,
         "cCount": 1,
         "cMaxPrice": 59.99,
         "cMinPrice": 59.99,
         "cSumPrice": 59.99,
         "duration": 0,
         "lastOrder": 49,
         "onlineStatus": "n",
         "order": "y",
         "payments": 1,
         "sessionNo": 1,
         "startHour": 6,
         "startWeekday": 5
        },
        {
         "_deepnote_index_column": 1,
         "accountLifetime": 21,
         "availability": "completely orderable",
         "bCount": 1,
         "bMaxPrice": 59.99,
         "bMinPrice": 59.99,
         "bStep": 2,
         "bSumPrice": 59.99,
         "cCount": 1,
         "cMaxPrice": 59.99,
         "cMinPrice": 59.99,
         "cSumPrice": 59.99,
         "duration": 11.94,
         "lastOrder": 49,
         "onlineStatus": "y",
         "order": "y",
         "payments": 1,
         "sessionNo": 1,
         "startHour": 6,
         "startWeekday": 5
        },
        {
         "_deepnote_index_column": 2,
         "accountLifetime": 21,
         "availability": "completely orderable",
         "bCount": 1,
         "bMaxPrice": 59.99,
         "bMinPrice": 59.99,
         "bStep": 5,
         "bSumPrice": 59.99,
         "cCount": 1,
         "cMaxPrice": 59.99,
         "cMinPrice": 59.99,
         "cSumPrice": 59.99,
         "duration": 39.887,
         "lastOrder": 49,
         "onlineStatus": "y",
         "order": "y",
         "payments": 1,
         "sessionNo": 1,
         "startHour": 6,
         "startWeekday": 5
        },
        {
         "_deepnote_index_column": 3,
         "accountLifetime": 109,
         "availability": "completely orderable",
         "bCount": 0,
         "bMaxPrice": 39.99,
         "bMinPrice": 14.99,
         "bStep": 2,
         "bSumPrice": 213.2608094686506,
         "cCount": 0,
         "cMaxPrice": 49.99,
         "cMinPrice": 12,
         "cSumPrice": 1189.248208718868,
         "duration": 0,
         "lastOrder": 34,
         "onlineStatus": "y",
         "order": "y",
         "payments": 8,
         "sessionNo": 2,
         "startHour": 6,
         "startWeekday": 5
        },
        {
         "_deepnote_index_column": 4,
         "accountLifetime": 109,
         "availability": "completely orderable",
         "bCount": 0,
         "bMaxPrice": 39.99,
         "bMinPrice": 14.99,
         "bStep": 2,
         "bSumPrice": 213.2608094686506,
         "cCount": 0,
         "cMaxPrice": 49.99,
         "cMinPrice": 12,
         "cSumPrice": 1189.248208718868,
         "duration": 15.633,
         "lastOrder": 34,
         "onlineStatus": "y",
         "order": "y",
         "payments": 8,
         "sessionNo": 2,
         "startHour": 6,
         "startWeekday": 5
        },
        {
         "_deepnote_index_column": 5,
         "accountLifetime": 109,
         "availability": "completely orderable",
         "bCount": 0,
         "bMaxPrice": 39.99,
         "bMinPrice": 14.99,
         "bStep": 4,
         "bSumPrice": 213.2608094686506,
         "cCount": 0,
         "cMaxPrice": 49.99,
         "cMinPrice": 12,
         "cSumPrice": 1189.248208718868,
         "duration": 26.235,
         "lastOrder": 34,
         "onlineStatus": "y",
         "order": "y",
         "payments": 8,
         "sessionNo": 2,
         "startHour": 6,
         "startWeekday": 5
        },
        {
         "_deepnote_index_column": 6,
         "accountLifetime": 109,
         "availability": "completely orderable",
         "bCount": 0,
         "bMaxPrice": 39.99,
         "bMinPrice": 14.99,
         "bStep": 4,
         "bSumPrice": 213.2608094686506,
         "cCount": 0,
         "cMaxPrice": 49.99,
         "cMinPrice": 12,
         "cSumPrice": 1189.248208718868,
         "duration": 71.2,
         "lastOrder": 34,
         "onlineStatus": "y",
         "order": "y",
         "payments": 8,
         "sessionNo": 2,
         "startHour": 6,
         "startWeekday": 5
        },
        {
         "_deepnote_index_column": 7,
         "accountLifetime": 109,
         "availability": "completely orderable",
         "bCount": 0,
         "bMaxPrice": 39.99,
         "bMinPrice": 14.99,
         "bStep": 4,
         "bSumPrice": 213.2608094686506,
         "cCount": 0,
         "cMaxPrice": 49.99,
         "cMinPrice": 12,
         "cSumPrice": 1189.248208718868,
         "duration": 94.469,
         "lastOrder": 34,
         "onlineStatus": "y",
         "order": "y",
         "payments": 8,
         "sessionNo": 2,
         "startHour": 6,
         "startWeekday": 5
        },
        {
         "_deepnote_index_column": 8,
         "accountLifetime": 302,
         "availability": "mainly orderable",
         "bCount": 1,
         "bMaxPrice": 29.99,
         "bMinPrice": 29.99,
         "bStep": 2,
         "bSumPrice": 29.99,
         "cCount": 9,
         "cMaxPrice": 29.99,
         "cMinPrice": 29.99,
         "cSumPrice": 89.97,
         "duration": 181.477,
         "lastOrder": 11,
         "onlineStatus": "n",
         "order": "y",
         "payments": 12,
         "sessionNo": 3,
         "startHour": 6,
         "startWeekday": 5
        },
        {
         "_deepnote_index_column": 9,
         "accountLifetime": 302,
         "availability": "mainly not orderable",
         "bCount": 2,
         "bMaxPrice": 29.99,
         "bMinPrice": 9.99,
         "bStep": 1,
         "bSumPrice": 39.98,
         "cCount": 11,
         "cMaxPrice": 29.99,
         "cMinPrice": 9.99,
         "cSumPrice": 109.95,
         "duration": 297.018,
         "lastOrder": 11,
         "onlineStatus": "y",
         "order": "y",
         "payments": 12,
         "sessionNo": 3,
         "startHour": 6,
         "startWeekday": 5
        }
       ]
      },
      "text/html": [
       "<div>\n",
       "<style scoped>\n",
       "    .dataframe tbody tr th:only-of-type {\n",
       "        vertical-align: middle;\n",
       "    }\n",
       "\n",
       "    .dataframe tbody tr th {\n",
       "        vertical-align: top;\n",
       "    }\n",
       "\n",
       "    .dataframe thead th {\n",
       "        text-align: right;\n",
       "    }\n",
       "</style>\n",
       "<table border=\"1\" class=\"dataframe\">\n",
       "  <thead>\n",
       "    <tr style=\"text-align: right;\">\n",
       "      <th></th>\n",
       "      <th>sessionNo</th>\n",
       "      <th>startHour</th>\n",
       "      <th>startWeekday</th>\n",
       "      <th>duration</th>\n",
       "      <th>cCount</th>\n",
       "      <th>cMinPrice</th>\n",
       "      <th>cMaxPrice</th>\n",
       "      <th>cSumPrice</th>\n",
       "      <th>bCount</th>\n",
       "      <th>bMinPrice</th>\n",
       "      <th>bMaxPrice</th>\n",
       "      <th>bSumPrice</th>\n",
       "      <th>bStep</th>\n",
       "      <th>onlineStatus</th>\n",
       "      <th>availability</th>\n",
       "      <th>accountLifetime</th>\n",
       "      <th>payments</th>\n",
       "      <th>lastOrder</th>\n",
       "      <th>order</th>\n",
       "    </tr>\n",
       "  </thead>\n",
       "  <tbody>\n",
       "    <tr>\n",
       "      <th>0</th>\n",
       "      <td>1</td>\n",
       "      <td>6</td>\n",
       "      <td>5</td>\n",
       "      <td>0.000</td>\n",
       "      <td>1</td>\n",
       "      <td>59.99</td>\n",
       "      <td>59.99</td>\n",
       "      <td>59.990000</td>\n",
       "      <td>1</td>\n",
       "      <td>59.99</td>\n",
       "      <td>59.99</td>\n",
       "      <td>59.990000</td>\n",
       "      <td>2.0</td>\n",
       "      <td>n</td>\n",
       "      <td>mixed</td>\n",
       "      <td>21.0</td>\n",
       "      <td>1.0</td>\n",
       "      <td>49.0</td>\n",
       "      <td>y</td>\n",
       "    </tr>\n",
       "    <tr>\n",
       "      <th>1</th>\n",
       "      <td>1</td>\n",
       "      <td>6</td>\n",
       "      <td>5</td>\n",
       "      <td>11.940</td>\n",
       "      <td>1</td>\n",
       "      <td>59.99</td>\n",
       "      <td>59.99</td>\n",
       "      <td>59.990000</td>\n",
       "      <td>1</td>\n",
       "      <td>59.99</td>\n",
       "      <td>59.99</td>\n",
       "      <td>59.990000</td>\n",
       "      <td>2.0</td>\n",
       "      <td>y</td>\n",
       "      <td>completely orderable</td>\n",
       "      <td>21.0</td>\n",
       "      <td>1.0</td>\n",
       "      <td>49.0</td>\n",
       "      <td>y</td>\n",
       "    </tr>\n",
       "    <tr>\n",
       "      <th>2</th>\n",
       "      <td>1</td>\n",
       "      <td>6</td>\n",
       "      <td>5</td>\n",
       "      <td>39.887</td>\n",
       "      <td>1</td>\n",
       "      <td>59.99</td>\n",
       "      <td>59.99</td>\n",
       "      <td>59.990000</td>\n",
       "      <td>1</td>\n",
       "      <td>59.99</td>\n",
       "      <td>59.99</td>\n",
       "      <td>59.990000</td>\n",
       "      <td>5.0</td>\n",
       "      <td>y</td>\n",
       "      <td>completely orderable</td>\n",
       "      <td>21.0</td>\n",
       "      <td>1.0</td>\n",
       "      <td>49.0</td>\n",
       "      <td>y</td>\n",
       "    </tr>\n",
       "    <tr>\n",
       "      <th>3</th>\n",
       "      <td>2</td>\n",
       "      <td>6</td>\n",
       "      <td>5</td>\n",
       "      <td>0.000</td>\n",
       "      <td>0</td>\n",
       "      <td>12.00</td>\n",
       "      <td>49.99</td>\n",
       "      <td>1189.248209</td>\n",
       "      <td>0</td>\n",
       "      <td>14.99</td>\n",
       "      <td>39.99</td>\n",
       "      <td>213.260809</td>\n",
       "      <td>2.0</td>\n",
       "      <td>y</td>\n",
       "      <td>completely orderable</td>\n",
       "      <td>109.0</td>\n",
       "      <td>8.0</td>\n",
       "      <td>34.0</td>\n",
       "      <td>y</td>\n",
       "    </tr>\n",
       "    <tr>\n",
       "      <th>4</th>\n",
       "      <td>2</td>\n",
       "      <td>6</td>\n",
       "      <td>5</td>\n",
       "      <td>15.633</td>\n",
       "      <td>0</td>\n",
       "      <td>12.00</td>\n",
       "      <td>49.99</td>\n",
       "      <td>1189.248209</td>\n",
       "      <td>0</td>\n",
       "      <td>14.99</td>\n",
       "      <td>39.99</td>\n",
       "      <td>213.260809</td>\n",
       "      <td>2.0</td>\n",
       "      <td>y</td>\n",
       "      <td>completely orderable</td>\n",
       "      <td>109.0</td>\n",
       "      <td>8.0</td>\n",
       "      <td>34.0</td>\n",
       "      <td>y</td>\n",
       "    </tr>\n",
       "    <tr>\n",
       "      <th>5</th>\n",
       "      <td>2</td>\n",
       "      <td>6</td>\n",
       "      <td>5</td>\n",
       "      <td>26.235</td>\n",
       "      <td>0</td>\n",
       "      <td>12.00</td>\n",
       "      <td>49.99</td>\n",
       "      <td>1189.248209</td>\n",
       "      <td>0</td>\n",
       "      <td>14.99</td>\n",
       "      <td>39.99</td>\n",
       "      <td>213.260809</td>\n",
       "      <td>4.0</td>\n",
       "      <td>y</td>\n",
       "      <td>completely orderable</td>\n",
       "      <td>109.0</td>\n",
       "      <td>8.0</td>\n",
       "      <td>34.0</td>\n",
       "      <td>y</td>\n",
       "    </tr>\n",
       "    <tr>\n",
       "      <th>6</th>\n",
       "      <td>2</td>\n",
       "      <td>6</td>\n",
       "      <td>5</td>\n",
       "      <td>71.200</td>\n",
       "      <td>0</td>\n",
       "      <td>12.00</td>\n",
       "      <td>49.99</td>\n",
       "      <td>1189.248209</td>\n",
       "      <td>0</td>\n",
       "      <td>14.99</td>\n",
       "      <td>39.99</td>\n",
       "      <td>213.260809</td>\n",
       "      <td>4.0</td>\n",
       "      <td>y</td>\n",
       "      <td>completely orderable</td>\n",
       "      <td>109.0</td>\n",
       "      <td>8.0</td>\n",
       "      <td>34.0</td>\n",
       "      <td>y</td>\n",
       "    </tr>\n",
       "    <tr>\n",
       "      <th>7</th>\n",
       "      <td>2</td>\n",
       "      <td>6</td>\n",
       "      <td>5</td>\n",
       "      <td>94.469</td>\n",
       "      <td>0</td>\n",
       "      <td>12.00</td>\n",
       "      <td>49.99</td>\n",
       "      <td>1189.248209</td>\n",
       "      <td>0</td>\n",
       "      <td>14.99</td>\n",
       "      <td>39.99</td>\n",
       "      <td>213.260809</td>\n",
       "      <td>4.0</td>\n",
       "      <td>y</td>\n",
       "      <td>completely orderable</td>\n",
       "      <td>109.0</td>\n",
       "      <td>8.0</td>\n",
       "      <td>34.0</td>\n",
       "      <td>y</td>\n",
       "    </tr>\n",
       "    <tr>\n",
       "      <th>8</th>\n",
       "      <td>3</td>\n",
       "      <td>6</td>\n",
       "      <td>5</td>\n",
       "      <td>181.477</td>\n",
       "      <td>9</td>\n",
       "      <td>29.99</td>\n",
       "      <td>29.99</td>\n",
       "      <td>89.970000</td>\n",
       "      <td>1</td>\n",
       "      <td>29.99</td>\n",
       "      <td>29.99</td>\n",
       "      <td>29.990000</td>\n",
       "      <td>2.0</td>\n",
       "      <td>n</td>\n",
       "      <td>mainly orderable</td>\n",
       "      <td>302.0</td>\n",
       "      <td>12.0</td>\n",
       "      <td>11.0</td>\n",
       "      <td>y</td>\n",
       "    </tr>\n",
       "    <tr>\n",
       "      <th>9</th>\n",
       "      <td>3</td>\n",
       "      <td>6</td>\n",
       "      <td>5</td>\n",
       "      <td>297.018</td>\n",
       "      <td>11</td>\n",
       "      <td>9.99</td>\n",
       "      <td>29.99</td>\n",
       "      <td>109.950000</td>\n",
       "      <td>2</td>\n",
       "      <td>9.99</td>\n",
       "      <td>29.99</td>\n",
       "      <td>39.980000</td>\n",
       "      <td>1.0</td>\n",
       "      <td>y</td>\n",
       "      <td>mainly not orderable</td>\n",
       "      <td>302.0</td>\n",
       "      <td>12.0</td>\n",
       "      <td>11.0</td>\n",
       "      <td>y</td>\n",
       "    </tr>\n",
       "  </tbody>\n",
       "</table>\n",
       "</div>"
      ],
      "text/plain": [
       "   sessionNo  startHour  startWeekday  duration  cCount  cMinPrice  cMaxPrice  \\\n",
       "0          1          6             5     0.000       1      59.99      59.99   \n",
       "1          1          6             5    11.940       1      59.99      59.99   \n",
       "2          1          6             5    39.887       1      59.99      59.99   \n",
       "3          2          6             5     0.000       0      12.00      49.99   \n",
       "4          2          6             5    15.633       0      12.00      49.99   \n",
       "5          2          6             5    26.235       0      12.00      49.99   \n",
       "6          2          6             5    71.200       0      12.00      49.99   \n",
       "7          2          6             5    94.469       0      12.00      49.99   \n",
       "8          3          6             5   181.477       9      29.99      29.99   \n",
       "9          3          6             5   297.018      11       9.99      29.99   \n",
       "\n",
       "     cSumPrice  bCount  bMinPrice  bMaxPrice   bSumPrice  bStep onlineStatus  \\\n",
       "0    59.990000       1      59.99      59.99   59.990000    2.0            n   \n",
       "1    59.990000       1      59.99      59.99   59.990000    2.0            y   \n",
       "2    59.990000       1      59.99      59.99   59.990000    5.0            y   \n",
       "3  1189.248209       0      14.99      39.99  213.260809    2.0            y   \n",
       "4  1189.248209       0      14.99      39.99  213.260809    2.0            y   \n",
       "5  1189.248209       0      14.99      39.99  213.260809    4.0            y   \n",
       "6  1189.248209       0      14.99      39.99  213.260809    4.0            y   \n",
       "7  1189.248209       0      14.99      39.99  213.260809    4.0            y   \n",
       "8    89.970000       1      29.99      29.99   29.990000    2.0            n   \n",
       "9   109.950000       2       9.99      29.99   39.980000    1.0            y   \n",
       "\n",
       "           availability  accountLifetime  payments  lastOrder order  \n",
       "0                 mixed             21.0       1.0       49.0     y  \n",
       "1  completely orderable             21.0       1.0       49.0     y  \n",
       "2  completely orderable             21.0       1.0       49.0     y  \n",
       "3  completely orderable            109.0       8.0       34.0     y  \n",
       "4  completely orderable            109.0       8.0       34.0     y  \n",
       "5  completely orderable            109.0       8.0       34.0     y  \n",
       "6  completely orderable            109.0       8.0       34.0     y  \n",
       "7  completely orderable            109.0       8.0       34.0     y  \n",
       "8      mainly orderable            302.0      12.0       11.0     y  \n",
       "9  mainly not orderable            302.0      12.0       11.0     y  "
      ]
     },
     "execution_count": 11,
     "metadata": {},
     "output_type": "execute_result"
    }
   ],
   "source": [
    "dt.head(10)"
   ]
  },
  {
   "cell_type": "code",
   "execution_count": 12,
   "metadata": {
    "cell_id": "7fbb6767e3ec489e9efecb9f704552c4",
    "deepnote_app_block_visible": true,
    "deepnote_cell_type": "code",
    "execution_context_id": "84101a82-a4d1-4891-9ca1-15b33568b21c",
    "execution_millis": 52,
    "execution_start": 1731063184685,
    "source_hash": "9786be53"
   },
   "outputs": [
    {
     "data": {
      "application/vnd.deepnote.dataframe.v3+json": {
       "column_count": 18,
       "columns": [
        {
         "dtype": "int64",
         "name": "sessionNo",
         "stats": {
          "histogram": [
           {
            "bin_end": 1.1,
            "bin_start": 1,
            "count": 9
           },
           {
            "bin_end": 1.2,
            "bin_start": 1.1,
            "count": 0
           },
           {
            "bin_end": 1.3,
            "bin_start": 1.2,
            "count": 0
           },
           {
            "bin_end": 1.4,
            "bin_start": 1.3,
            "count": 0
           },
           {
            "bin_end": 1.5,
            "bin_start": 1.4,
            "count": 0
           },
           {
            "bin_end": 1.6,
            "bin_start": 1.5,
            "count": 0
           },
           {
            "bin_end": 1.7000000000000002,
            "bin_start": 1.6,
            "count": 0
           },
           {
            "bin_end": 1.8,
            "bin_start": 1.7000000000000002,
            "count": 0
           },
           {
            "bin_end": 1.9,
            "bin_start": 1.8,
            "count": 0
           },
           {
            "bin_end": 2,
            "bin_start": 1.9,
            "count": 1
           }
          ],
          "max": "2",
          "min": "1",
          "nan_count": 0,
          "unique_count": 2
         }
        },
        {
         "dtype": "int64",
         "name": "startHour",
         "stats": {
          "histogram": [
           {
            "bin_end": 17.6,
            "bin_start": 17.5,
            "count": 0
           },
           {
            "bin_end": 17.7,
            "bin_start": 17.6,
            "count": 0
           },
           {
            "bin_end": 17.8,
            "bin_start": 17.7,
            "count": 0
           },
           {
            "bin_end": 17.9,
            "bin_start": 17.8,
            "count": 0
           },
           {
            "bin_end": 18,
            "bin_start": 17.9,
            "count": 0
           },
           {
            "bin_end": 18.1,
            "bin_start": 18,
            "count": 10
           },
           {
            "bin_end": 18.2,
            "bin_start": 18.1,
            "count": 0
           },
           {
            "bin_end": 18.3,
            "bin_start": 18.2,
            "count": 0
           },
           {
            "bin_end": 18.4,
            "bin_start": 18.3,
            "count": 0
           },
           {
            "bin_end": 18.5,
            "bin_start": 18.4,
            "count": 0
           }
          ],
          "max": "18",
          "min": "18",
          "nan_count": 0,
          "unique_count": 1
         }
        },
        {
         "dtype": "int64",
         "name": "startWeekday",
         "stats": {
          "histogram": [
           {
            "bin_end": 6.6,
            "bin_start": 6.5,
            "count": 0
           },
           {
            "bin_end": 6.7,
            "bin_start": 6.6,
            "count": 0
           },
           {
            "bin_end": 6.8,
            "bin_start": 6.7,
            "count": 0
           },
           {
            "bin_end": 6.9,
            "bin_start": 6.8,
            "count": 0
           },
           {
            "bin_end": 7,
            "bin_start": 6.9,
            "count": 0
           },
           {
            "bin_end": 7.1,
            "bin_start": 7,
            "count": 10
           },
           {
            "bin_end": 7.2,
            "bin_start": 7.1,
            "count": 0
           },
           {
            "bin_end": 7.3,
            "bin_start": 7.2,
            "count": 0
           },
           {
            "bin_end": 7.4,
            "bin_start": 7.3,
            "count": 0
           },
           {
            "bin_end": 7.5,
            "bin_start": 7.4,
            "count": 0
           }
          ],
          "max": "7",
          "min": "7",
          "nan_count": 0,
          "unique_count": 1
         }
        },
        {
         "dtype": "float64",
         "name": "duration",
         "stats": {
          "histogram": [
           {
            "bin_end": 182.4495,
            "bin_start": 133.321,
            "count": 2
           },
           {
            "bin_end": 231.57799999999997,
            "bin_start": 182.4495,
            "count": 1
           },
           {
            "bin_end": 280.7065,
            "bin_start": 231.57799999999997,
            "count": 0
           },
           {
            "bin_end": 329.835,
            "bin_start": 280.7065,
            "count": 0
           },
           {
            "bin_end": 378.96349999999995,
            "bin_start": 329.835,
            "count": 1
           },
           {
            "bin_end": 428.092,
            "bin_start": 378.96349999999995,
            "count": 1
           },
           {
            "bin_end": 477.2205,
            "bin_start": 428.092,
            "count": 2
           },
           {
            "bin_end": 526.3489999999999,
            "bin_start": 477.2205,
            "count": 0
           },
           {
            "bin_end": 575.4775,
            "bin_start": 526.3489999999999,
            "count": 2
           },
           {
            "bin_end": 624.606,
            "bin_start": 575.4775,
            "count": 1
           }
          ],
          "max": "624.606",
          "min": "133.321",
          "nan_count": 0,
          "unique_count": 10
         }
        },
        {
         "dtype": "int64",
         "name": "cCount",
         "stats": {
          "histogram": [
           {
            "bin_end": 3.8,
            "bin_start": 3,
            "count": 2
           },
           {
            "bin_end": 4.6,
            "bin_start": 3.8,
            "count": 0
           },
           {
            "bin_end": 5.4,
            "bin_start": 4.6,
            "count": 0
           },
           {
            "bin_end": 6.2,
            "bin_start": 5.4,
            "count": 1
           },
           {
            "bin_end": 7,
            "bin_start": 6.2,
            "count": 0
           },
           {
            "bin_end": 7.800000000000001,
            "bin_start": 7,
            "count": 1
           },
           {
            "bin_end": 8.600000000000001,
            "bin_start": 7.800000000000001,
            "count": 1
           },
           {
            "bin_end": 9.4,
            "bin_start": 8.600000000000001,
            "count": 0
           },
           {
            "bin_end": 10.2,
            "bin_start": 9.4,
            "count": 2
           },
           {
            "bin_end": 11,
            "bin_start": 10.2,
            "count": 3
           }
          ],
          "max": "11",
          "min": "3",
          "nan_count": 0,
          "unique_count": 6
         }
        },
        {
         "dtype": "float64",
         "name": "cMinPrice",
         "stats": {
          "histogram": [
           {
            "bin_end": 19.29,
            "bin_start": 16.99,
            "count": 7
           },
           {
            "bin_end": 21.59,
            "bin_start": 19.29,
            "count": 0
           },
           {
            "bin_end": 23.89,
            "bin_start": 21.59,
            "count": 0
           },
           {
            "bin_end": 26.189999999999998,
            "bin_start": 23.89,
            "count": 0
           },
           {
            "bin_end": 28.490000000000002,
            "bin_start": 26.189999999999998,
            "count": 0
           },
           {
            "bin_end": 30.79,
            "bin_start": 28.490000000000002,
            "count": 0
           },
           {
            "bin_end": 33.09,
            "bin_start": 30.79,
            "count": 0
           },
           {
            "bin_end": 35.39,
            "bin_start": 33.09,
            "count": 1
           },
           {
            "bin_end": 37.69,
            "bin_start": 35.39,
            "count": 0
           },
           {
            "bin_end": 39.99,
            "bin_start": 37.69,
            "count": 2
           }
          ],
          "max": "39.99",
          "min": "16.99",
          "nan_count": 0,
          "unique_count": 3
         }
        },
        {
         "dtype": "float64",
         "name": "cMaxPrice",
         "stats": {
          "histogram": [
           {
            "bin_end": 35.49,
            "bin_start": 34.99,
            "count": 1
           },
           {
            "bin_end": 35.99,
            "bin_start": 35.49,
            "count": 0
           },
           {
            "bin_end": 36.49,
            "bin_start": 35.99,
            "count": 0
           },
           {
            "bin_end": 36.99,
            "bin_start": 36.49,
            "count": 0
           },
           {
            "bin_end": 37.49,
            "bin_start": 36.99,
            "count": 0
           },
           {
            "bin_end": 37.99,
            "bin_start": 37.49,
            "count": 0
           },
           {
            "bin_end": 38.49,
            "bin_start": 37.99,
            "count": 0
           },
           {
            "bin_end": 38.99,
            "bin_start": 38.49,
            "count": 0
           },
           {
            "bin_end": 39.49,
            "bin_start": 38.99,
            "count": 0
           },
           {
            "bin_end": 39.99,
            "bin_start": 39.49,
            "count": 9
           }
          ],
          "max": "39.99",
          "min": "34.99",
          "nan_count": 0,
          "unique_count": 2
         }
        },
        {
         "dtype": "float64",
         "name": "cSumPrice",
         "stats": {
          "histogram": [
           {
            "bin_end": 83.77300000000001,
            "bin_start": 69.98,
            "count": 3
           },
           {
            "bin_end": 97.566,
            "bin_start": 83.77300000000001,
            "count": 0
           },
           {
            "bin_end": 111.35900000000001,
            "bin_start": 97.566,
            "count": 0
           },
           {
            "bin_end": 125.15200000000002,
            "bin_start": 111.35900000000001,
            "count": 1
           },
           {
            "bin_end": 138.945,
            "bin_start": 125.15200000000002,
            "count": 0
           },
           {
            "bin_end": 152.738,
            "bin_start": 138.945,
            "count": 1
           },
           {
            "bin_end": 166.531,
            "bin_start": 152.738,
            "count": 0
           },
           {
            "bin_end": 180.324,
            "bin_start": 166.531,
            "count": 0
           },
           {
            "bin_end": 194.11700000000002,
            "bin_start": 180.324,
            "count": 2
           },
           {
            "bin_end": 207.91,
            "bin_start": 194.11700000000002,
            "count": 3
           }
          ],
          "max": "207.91",
          "min": "69.98",
          "nan_count": 0,
          "unique_count": 6
         }
        },
        {
         "dtype": "int64",
         "name": "bCount",
         "stats": {
          "histogram": [
           {
            "bin_end": 1.4,
            "bin_start": 1,
            "count": 3
           },
           {
            "bin_end": 1.8,
            "bin_start": 1.4,
            "count": 0
           },
           {
            "bin_end": 2.2,
            "bin_start": 1.8,
            "count": 1
           },
           {
            "bin_end": 2.6,
            "bin_start": 2.2,
            "count": 0
           },
           {
            "bin_end": 3,
            "bin_start": 2.6,
            "count": 0
           },
           {
            "bin_end": 3.4000000000000004,
            "bin_start": 3,
            "count": 1
           },
           {
            "bin_end": 3.8000000000000003,
            "bin_start": 3.4000000000000004,
            "count": 0
           },
           {
            "bin_end": 4.2,
            "bin_start": 3.8000000000000003,
            "count": 2
           },
           {
            "bin_end": 4.6,
            "bin_start": 4.2,
            "count": 0
           },
           {
            "bin_end": 5,
            "bin_start": 4.6,
            "count": 3
           }
          ],
          "max": "5",
          "min": "1",
          "nan_count": 0,
          "unique_count": 5
         }
        },
        {
         "dtype": "float64",
         "name": "bMinPrice",
         "stats": {
          "histogram": [
           {
            "bin_end": 19.29,
            "bin_start": 16.99,
            "count": 7
           },
           {
            "bin_end": 21.59,
            "bin_start": 19.29,
            "count": 0
           },
           {
            "bin_end": 23.89,
            "bin_start": 21.59,
            "count": 0
           },
           {
            "bin_end": 26.189999999999998,
            "bin_start": 23.89,
            "count": 0
           },
           {
            "bin_end": 28.490000000000002,
            "bin_start": 26.189999999999998,
            "count": 0
           },
           {
            "bin_end": 30.79,
            "bin_start": 28.490000000000002,
            "count": 0
           },
           {
            "bin_end": 33.09,
            "bin_start": 30.79,
            "count": 0
           },
           {
            "bin_end": 35.39,
            "bin_start": 33.09,
            "count": 1
           },
           {
            "bin_end": 37.69,
            "bin_start": 35.39,
            "count": 0
           },
           {
            "bin_end": 39.99,
            "bin_start": 37.69,
            "count": 2
           }
          ],
          "max": "39.99",
          "min": "16.99",
          "nan_count": 0,
          "unique_count": 3
         }
        },
        {
         "dtype": "float64",
         "name": "bMaxPrice",
         "stats": {
          "histogram": [
           {
            "bin_end": 35.49,
            "bin_start": 34.99,
            "count": 1
           },
           {
            "bin_end": 35.99,
            "bin_start": 35.49,
            "count": 0
           },
           {
            "bin_end": 36.49,
            "bin_start": 35.99,
            "count": 0
           },
           {
            "bin_end": 36.99,
            "bin_start": 36.49,
            "count": 0
           },
           {
            "bin_end": 37.49,
            "bin_start": 36.99,
            "count": 0
           },
           {
            "bin_end": 37.99,
            "bin_start": 37.49,
            "count": 0
           },
           {
            "bin_end": 38.49,
            "bin_start": 37.99,
            "count": 0
           },
           {
            "bin_end": 38.99,
            "bin_start": 38.49,
            "count": 0
           },
           {
            "bin_end": 39.49,
            "bin_start": 38.99,
            "count": 0
           },
           {
            "bin_end": 39.99,
            "bin_start": 39.49,
            "count": 9
           }
          ],
          "max": "39.99",
          "min": "34.99",
          "nan_count": 0,
          "unique_count": 2
         }
        },
        {
         "dtype": "float64",
         "name": "bSumPrice",
         "stats": {
          "histogram": [
           {
            "bin_end": 42.786,
            "bin_start": 34.99,
            "count": 3
           },
           {
            "bin_end": 50.58200000000001,
            "bin_start": 42.786,
            "count": 0
           },
           {
            "bin_end": 58.37800000000001,
            "bin_start": 50.58200000000001,
            "count": 1
           },
           {
            "bin_end": 66.174,
            "bin_start": 58.37800000000001,
            "count": 0
           },
           {
            "bin_end": 73.97,
            "bin_start": 66.174,
            "count": 0
           },
           {
            "bin_end": 81.76600000000002,
            "bin_start": 73.97,
            "count": 1
           },
           {
            "bin_end": 89.56200000000001,
            "bin_start": 81.76600000000002,
            "count": 0
           },
           {
            "bin_end": 97.358,
            "bin_start": 89.56200000000001,
            "count": 2
           },
           {
            "bin_end": 105.15400000000002,
            "bin_start": 97.358,
            "count": 0
           },
           {
            "bin_end": 112.95,
            "bin_start": 105.15400000000002,
            "count": 3
           }
          ],
          "max": "112.95",
          "min": "34.99",
          "nan_count": 0,
          "unique_count": 6
         }
        },
        {
         "dtype": "float64",
         "name": "bStep",
         "stats": {
          "histogram": [
           {
            "bin_end": 1.4,
            "bin_start": 1,
            "count": 3
           },
           {
            "bin_end": 1.8,
            "bin_start": 1.4,
            "count": 0
           },
           {
            "bin_end": 2.2,
            "bin_start": 1.8,
            "count": 2
           },
           {
            "bin_end": 2.6,
            "bin_start": 2.2,
            "count": 0
           },
           {
            "bin_end": 3,
            "bin_start": 2.6,
            "count": 0
           },
           {
            "bin_end": 3.4000000000000004,
            "bin_start": 3,
            "count": 2
           },
           {
            "bin_end": 3.8000000000000003,
            "bin_start": 3.4000000000000004,
            "count": 0
           },
           {
            "bin_end": 4.2,
            "bin_start": 3.8000000000000003,
            "count": 2
           },
           {
            "bin_end": 4.6,
            "bin_start": 4.2,
            "count": 0
           },
           {
            "bin_end": 5,
            "bin_start": 4.6,
            "count": 1
           }
          ],
          "max": "5.0",
          "min": "1.0",
          "nan_count": 0,
          "unique_count": 5
         }
        },
        {
         "dtype": "object",
         "name": "onlineStatus",
         "stats": {
          "categories": [
           {
            "count": 7,
            "name": "y"
           },
           {
            "count": 3,
            "name": "n"
           }
          ],
          "nan_count": 0,
          "unique_count": 2
         }
        },
        {
         "dtype": "object",
         "name": "availability",
         "stats": {
          "categories": [
           {
            "count": 5,
            "name": "completely orderable"
           },
           {
            "count": 2,
            "name": "mainly not orderable"
           },
           {
            "count": 3,
            "name": "3 others"
           }
          ],
          "nan_count": 0,
          "unique_count": 5
         }
        },
        {
         "dtype": "float64",
         "name": "accountLifetime",
         "stats": {
          "histogram": [
           {
            "bin_end": 57.5,
            "bin_start": 43,
            "count": 1
           },
           {
            "bin_end": 72,
            "bin_start": 57.5,
            "count": 0
           },
           {
            "bin_end": 86.5,
            "bin_start": 72,
            "count": 0
           },
           {
            "bin_end": 101,
            "bin_start": 86.5,
            "count": 0
           },
           {
            "bin_end": 115.5,
            "bin_start": 101,
            "count": 0
           },
           {
            "bin_end": 130,
            "bin_start": 115.5,
            "count": 0
           },
           {
            "bin_end": 144.5,
            "bin_start": 130,
            "count": 0
           },
           {
            "bin_end": 159,
            "bin_start": 144.5,
            "count": 0
           },
           {
            "bin_end": 173.5,
            "bin_start": 159,
            "count": 0
           },
           {
            "bin_end": 188,
            "bin_start": 173.5,
            "count": 9
           }
          ],
          "max": "188.0",
          "min": "43.0",
          "nan_count": 0,
          "unique_count": 2
         }
        },
        {
         "dtype": "float64",
         "name": "payments",
         "stats": {
          "histogram": [
           {
            "bin_end": 4.6,
            "bin_start": 4.5,
            "count": 0
           },
           {
            "bin_end": 4.7,
            "bin_start": 4.6,
            "count": 0
           },
           {
            "bin_end": 4.8,
            "bin_start": 4.7,
            "count": 0
           },
           {
            "bin_end": 4.9,
            "bin_start": 4.8,
            "count": 0
           },
           {
            "bin_end": 5,
            "bin_start": 4.9,
            "count": 0
           },
           {
            "bin_end": 5.1,
            "bin_start": 5,
            "count": 10
           },
           {
            "bin_end": 5.2,
            "bin_start": 5.1,
            "count": 0
           },
           {
            "bin_end": 5.3,
            "bin_start": 5.2,
            "count": 0
           },
           {
            "bin_end": 5.4,
            "bin_start": 5.3,
            "count": 0
           },
           {
            "bin_end": 5.5,
            "bin_start": 5.4,
            "count": 0
           }
          ],
          "max": "5.0",
          "min": "5.0",
          "nan_count": 0,
          "unique_count": 1
         }
        },
        {
         "dtype": "float64",
         "name": "lastOrder",
         "stats": {
          "histogram": [
           {
            "bin_end": 76.9,
            "bin_start": 65,
            "count": 9
           },
           {
            "bin_end": 88.8,
            "bin_start": 76.9,
            "count": 0
           },
           {
            "bin_end": 100.7,
            "bin_start": 88.8,
            "count": 0
           },
           {
            "bin_end": 112.6,
            "bin_start": 100.7,
            "count": 0
           },
           {
            "bin_end": 124.5,
            "bin_start": 112.6,
            "count": 0
           },
           {
            "bin_end": 136.4,
            "bin_start": 124.5,
            "count": 0
           },
           {
            "bin_end": 148.3,
            "bin_start": 136.4,
            "count": 0
           },
           {
            "bin_end": 160.2,
            "bin_start": 148.3,
            "count": 0
           },
           {
            "bin_end": 172.10000000000002,
            "bin_start": 160.2,
            "count": 0
           },
           {
            "bin_end": 184,
            "bin_start": 172.10000000000002,
            "count": 1
           }
          ],
          "max": "184.0",
          "min": "65.0",
          "nan_count": 0,
          "unique_count": 2
         }
        },
        {
         "dtype": "int64",
         "name": "_deepnote_index_column"
        }
       ],
       "row_count": 10,
       "rows": [
        {
         "_deepnote_index_column": 0,
         "accountLifetime": 188,
         "availability": "completely orderable",
         "bCount": 1,
         "bMaxPrice": 39.99,
         "bMinPrice": 39.99,
         "bStep": 2,
         "bSumPrice": 39.99,
         "cCount": 3,
         "cMaxPrice": 39.99,
         "cMinPrice": 39.99,
         "cSumPrice": 79.98,
         "duration": 136.833,
         "lastOrder": 65,
         "onlineStatus": "y",
         "payments": 5,
         "sessionNo": 1,
         "startHour": 18,
         "startWeekday": 7
        },
        {
         "_deepnote_index_column": 1,
         "accountLifetime": 188,
         "availability": "completely orderable",
         "bCount": 1,
         "bMaxPrice": 39.99,
         "bMinPrice": 39.99,
         "bStep": 2,
         "bSumPrice": 39.99,
         "cCount": 3,
         "cMaxPrice": 39.99,
         "cMinPrice": 39.99,
         "cSumPrice": 79.98,
         "duration": 189.984,
         "lastOrder": 65,
         "onlineStatus": "y",
         "payments": 5,
         "sessionNo": 1,
         "startHour": 18,
         "startWeekday": 7
        },
        {
         "_deepnote_index_column": 2,
         "accountLifetime": 188,
         "availability": "mixed",
         "bCount": 2,
         "bMaxPrice": 39.99,
         "bMinPrice": 16.99,
         "bStep": 1,
         "bSumPrice": 56.98,
         "cCount": 6,
         "cMaxPrice": 39.99,
         "cMinPrice": 16.99,
         "cSumPrice": 113.96,
         "duration": 342.894,
         "lastOrder": 65,
         "onlineStatus": "n",
         "payments": 5,
         "sessionNo": 1,
         "startHour": 18,
         "startWeekday": 7
        },
        {
         "_deepnote_index_column": 3,
         "accountLifetime": 188,
         "availability": "completely not orderable",
         "bCount": 3,
         "bMaxPrice": 39.99,
         "bMinPrice": 16.99,
         "bStep": 3,
         "bSumPrice": 74.97,
         "cCount": 8,
         "cMaxPrice": 39.99,
         "cMinPrice": 16.99,
         "cSumPrice": 149.94,
         "duration": 411.051,
         "lastOrder": 65,
         "onlineStatus": "n",
         "payments": 5,
         "sessionNo": 1,
         "startHour": 18,
         "startWeekday": 7
        },
        {
         "_deepnote_index_column": 4,
         "accountLifetime": 188,
         "availability": "mainly orderable",
         "bCount": 4,
         "bMaxPrice": 39.99,
         "bMinPrice": 16.99,
         "bStep": 4,
         "bSumPrice": 94.96,
         "cCount": 10,
         "cMaxPrice": 39.99,
         "cMinPrice": 16.99,
         "cSumPrice": 189.92,
         "duration": 460.049,
         "lastOrder": 65,
         "onlineStatus": "y",
         "payments": 5,
         "sessionNo": 1,
         "startHour": 18,
         "startWeekday": 7
        },
        {
         "_deepnote_index_column": 5,
         "accountLifetime": 188,
         "availability": "completely orderable",
         "bCount": 4,
         "bMaxPrice": 39.99,
         "bMinPrice": 16.99,
         "bStep": 1,
         "bSumPrice": 94.96,
         "cCount": 10,
         "cMaxPrice": 39.99,
         "cMinPrice": 16.99,
         "cSumPrice": 189.92,
         "duration": 471.502,
         "lastOrder": 65,
         "onlineStatus": "y",
         "payments": 5,
         "sessionNo": 1,
         "startHour": 18,
         "startWeekday": 7
        },
        {
         "_deepnote_index_column": 6,
         "accountLifetime": 188,
         "availability": "mainly not orderable",
         "bCount": 5,
         "bMaxPrice": 39.99,
         "bMinPrice": 16.99,
         "bStep": 3,
         "bSumPrice": 112.95,
         "cCount": 11,
         "cMaxPrice": 39.99,
         "cMinPrice": 16.99,
         "cSumPrice": 207.91,
         "duration": 560.026,
         "lastOrder": 65,
         "onlineStatus": "n",
         "payments": 5,
         "sessionNo": 1,
         "startHour": 18,
         "startWeekday": 7
        },
        {
         "_deepnote_index_column": 7,
         "accountLifetime": 188,
         "availability": "completely orderable",
         "bCount": 5,
         "bMaxPrice": 39.99,
         "bMinPrice": 16.99,
         "bStep": 1,
         "bSumPrice": 112.95,
         "cCount": 11,
         "cMaxPrice": 39.99,
         "cMinPrice": 16.99,
         "cSumPrice": 207.91,
         "duration": 564.597,
         "lastOrder": 65,
         "onlineStatus": "y",
         "payments": 5,
         "sessionNo": 1,
         "startHour": 18,
         "startWeekday": 7
        },
        {
         "_deepnote_index_column": 8,
         "accountLifetime": 188,
         "availability": "completely orderable",
         "bCount": 5,
         "bMaxPrice": 39.99,
         "bMinPrice": 16.99,
         "bStep": 4,
         "bSumPrice": 112.95,
         "cCount": 11,
         "cMaxPrice": 39.99,
         "cMinPrice": 16.99,
         "cSumPrice": 207.91,
         "duration": 624.606,
         "lastOrder": 65,
         "onlineStatus": "y",
         "payments": 5,
         "sessionNo": 1,
         "startHour": 18,
         "startWeekday": 7
        },
        {
         "_deepnote_index_column": 9,
         "accountLifetime": 43,
         "availability": "mainly not orderable",
         "bCount": 1,
         "bMaxPrice": 34.99,
         "bMinPrice": 34.99,
         "bStep": 5,
         "bSumPrice": 34.99,
         "cCount": 7,
         "cMaxPrice": 34.99,
         "cMinPrice": 34.99,
         "cSumPrice": 69.98,
         "duration": 133.321,
         "lastOrder": 184,
         "onlineStatus": "y",
         "payments": 5,
         "sessionNo": 2,
         "startHour": 18,
         "startWeekday": 7
        }
       ]
      },
      "text/html": [
       "<div>\n",
       "<style scoped>\n",
       "    .dataframe tbody tr th:only-of-type {\n",
       "        vertical-align: middle;\n",
       "    }\n",
       "\n",
       "    .dataframe tbody tr th {\n",
       "        vertical-align: top;\n",
       "    }\n",
       "\n",
       "    .dataframe thead th {\n",
       "        text-align: right;\n",
       "    }\n",
       "</style>\n",
       "<table border=\"1\" class=\"dataframe\">\n",
       "  <thead>\n",
       "    <tr style=\"text-align: right;\">\n",
       "      <th></th>\n",
       "      <th>sessionNo</th>\n",
       "      <th>startHour</th>\n",
       "      <th>startWeekday</th>\n",
       "      <th>duration</th>\n",
       "      <th>cCount</th>\n",
       "      <th>cMinPrice</th>\n",
       "      <th>cMaxPrice</th>\n",
       "      <th>cSumPrice</th>\n",
       "      <th>bCount</th>\n",
       "      <th>bMinPrice</th>\n",
       "      <th>bMaxPrice</th>\n",
       "      <th>bSumPrice</th>\n",
       "      <th>bStep</th>\n",
       "      <th>onlineStatus</th>\n",
       "      <th>availability</th>\n",
       "      <th>accountLifetime</th>\n",
       "      <th>payments</th>\n",
       "      <th>lastOrder</th>\n",
       "    </tr>\n",
       "  </thead>\n",
       "  <tbody>\n",
       "    <tr>\n",
       "      <th>0</th>\n",
       "      <td>1</td>\n",
       "      <td>18</td>\n",
       "      <td>7</td>\n",
       "      <td>136.833</td>\n",
       "      <td>3</td>\n",
       "      <td>39.99</td>\n",
       "      <td>39.99</td>\n",
       "      <td>79.98</td>\n",
       "      <td>1</td>\n",
       "      <td>39.99</td>\n",
       "      <td>39.99</td>\n",
       "      <td>39.99</td>\n",
       "      <td>2.0</td>\n",
       "      <td>y</td>\n",
       "      <td>completely orderable</td>\n",
       "      <td>188.0</td>\n",
       "      <td>5.0</td>\n",
       "      <td>65.0</td>\n",
       "    </tr>\n",
       "    <tr>\n",
       "      <th>1</th>\n",
       "      <td>1</td>\n",
       "      <td>18</td>\n",
       "      <td>7</td>\n",
       "      <td>189.984</td>\n",
       "      <td>3</td>\n",
       "      <td>39.99</td>\n",
       "      <td>39.99</td>\n",
       "      <td>79.98</td>\n",
       "      <td>1</td>\n",
       "      <td>39.99</td>\n",
       "      <td>39.99</td>\n",
       "      <td>39.99</td>\n",
       "      <td>2.0</td>\n",
       "      <td>y</td>\n",
       "      <td>completely orderable</td>\n",
       "      <td>188.0</td>\n",
       "      <td>5.0</td>\n",
       "      <td>65.0</td>\n",
       "    </tr>\n",
       "    <tr>\n",
       "      <th>2</th>\n",
       "      <td>1</td>\n",
       "      <td>18</td>\n",
       "      <td>7</td>\n",
       "      <td>342.894</td>\n",
       "      <td>6</td>\n",
       "      <td>16.99</td>\n",
       "      <td>39.99</td>\n",
       "      <td>113.96</td>\n",
       "      <td>2</td>\n",
       "      <td>16.99</td>\n",
       "      <td>39.99</td>\n",
       "      <td>56.98</td>\n",
       "      <td>1.0</td>\n",
       "      <td>n</td>\n",
       "      <td>mixed</td>\n",
       "      <td>188.0</td>\n",
       "      <td>5.0</td>\n",
       "      <td>65.0</td>\n",
       "    </tr>\n",
       "    <tr>\n",
       "      <th>3</th>\n",
       "      <td>1</td>\n",
       "      <td>18</td>\n",
       "      <td>7</td>\n",
       "      <td>411.051</td>\n",
       "      <td>8</td>\n",
       "      <td>16.99</td>\n",
       "      <td>39.99</td>\n",
       "      <td>149.94</td>\n",
       "      <td>3</td>\n",
       "      <td>16.99</td>\n",
       "      <td>39.99</td>\n",
       "      <td>74.97</td>\n",
       "      <td>3.0</td>\n",
       "      <td>n</td>\n",
       "      <td>completely not orderable</td>\n",
       "      <td>188.0</td>\n",
       "      <td>5.0</td>\n",
       "      <td>65.0</td>\n",
       "    </tr>\n",
       "    <tr>\n",
       "      <th>4</th>\n",
       "      <td>1</td>\n",
       "      <td>18</td>\n",
       "      <td>7</td>\n",
       "      <td>460.049</td>\n",
       "      <td>10</td>\n",
       "      <td>16.99</td>\n",
       "      <td>39.99</td>\n",
       "      <td>189.92</td>\n",
       "      <td>4</td>\n",
       "      <td>16.99</td>\n",
       "      <td>39.99</td>\n",
       "      <td>94.96</td>\n",
       "      <td>4.0</td>\n",
       "      <td>y</td>\n",
       "      <td>mainly orderable</td>\n",
       "      <td>188.0</td>\n",
       "      <td>5.0</td>\n",
       "      <td>65.0</td>\n",
       "    </tr>\n",
       "    <tr>\n",
       "      <th>5</th>\n",
       "      <td>1</td>\n",
       "      <td>18</td>\n",
       "      <td>7</td>\n",
       "      <td>471.502</td>\n",
       "      <td>10</td>\n",
       "      <td>16.99</td>\n",
       "      <td>39.99</td>\n",
       "      <td>189.92</td>\n",
       "      <td>4</td>\n",
       "      <td>16.99</td>\n",
       "      <td>39.99</td>\n",
       "      <td>94.96</td>\n",
       "      <td>1.0</td>\n",
       "      <td>y</td>\n",
       "      <td>completely orderable</td>\n",
       "      <td>188.0</td>\n",
       "      <td>5.0</td>\n",
       "      <td>65.0</td>\n",
       "    </tr>\n",
       "    <tr>\n",
       "      <th>6</th>\n",
       "      <td>1</td>\n",
       "      <td>18</td>\n",
       "      <td>7</td>\n",
       "      <td>560.026</td>\n",
       "      <td>11</td>\n",
       "      <td>16.99</td>\n",
       "      <td>39.99</td>\n",
       "      <td>207.91</td>\n",
       "      <td>5</td>\n",
       "      <td>16.99</td>\n",
       "      <td>39.99</td>\n",
       "      <td>112.95</td>\n",
       "      <td>3.0</td>\n",
       "      <td>n</td>\n",
       "      <td>mainly not orderable</td>\n",
       "      <td>188.0</td>\n",
       "      <td>5.0</td>\n",
       "      <td>65.0</td>\n",
       "    </tr>\n",
       "    <tr>\n",
       "      <th>7</th>\n",
       "      <td>1</td>\n",
       "      <td>18</td>\n",
       "      <td>7</td>\n",
       "      <td>564.597</td>\n",
       "      <td>11</td>\n",
       "      <td>16.99</td>\n",
       "      <td>39.99</td>\n",
       "      <td>207.91</td>\n",
       "      <td>5</td>\n",
       "      <td>16.99</td>\n",
       "      <td>39.99</td>\n",
       "      <td>112.95</td>\n",
       "      <td>1.0</td>\n",
       "      <td>y</td>\n",
       "      <td>completely orderable</td>\n",
       "      <td>188.0</td>\n",
       "      <td>5.0</td>\n",
       "      <td>65.0</td>\n",
       "    </tr>\n",
       "    <tr>\n",
       "      <th>8</th>\n",
       "      <td>1</td>\n",
       "      <td>18</td>\n",
       "      <td>7</td>\n",
       "      <td>624.606</td>\n",
       "      <td>11</td>\n",
       "      <td>16.99</td>\n",
       "      <td>39.99</td>\n",
       "      <td>207.91</td>\n",
       "      <td>5</td>\n",
       "      <td>16.99</td>\n",
       "      <td>39.99</td>\n",
       "      <td>112.95</td>\n",
       "      <td>4.0</td>\n",
       "      <td>y</td>\n",
       "      <td>completely orderable</td>\n",
       "      <td>188.0</td>\n",
       "      <td>5.0</td>\n",
       "      <td>65.0</td>\n",
       "    </tr>\n",
       "    <tr>\n",
       "      <th>9</th>\n",
       "      <td>2</td>\n",
       "      <td>18</td>\n",
       "      <td>7</td>\n",
       "      <td>133.321</td>\n",
       "      <td>7</td>\n",
       "      <td>34.99</td>\n",
       "      <td>34.99</td>\n",
       "      <td>69.98</td>\n",
       "      <td>1</td>\n",
       "      <td>34.99</td>\n",
       "      <td>34.99</td>\n",
       "      <td>34.99</td>\n",
       "      <td>5.0</td>\n",
       "      <td>y</td>\n",
       "      <td>mainly not orderable</td>\n",
       "      <td>43.0</td>\n",
       "      <td>5.0</td>\n",
       "      <td>184.0</td>\n",
       "    </tr>\n",
       "  </tbody>\n",
       "</table>\n",
       "</div>"
      ],
      "text/plain": [
       "   sessionNo  startHour  startWeekday  duration  cCount  cMinPrice  cMaxPrice  \\\n",
       "0          1         18             7   136.833       3      39.99      39.99   \n",
       "1          1         18             7   189.984       3      39.99      39.99   \n",
       "2          1         18             7   342.894       6      16.99      39.99   \n",
       "3          1         18             7   411.051       8      16.99      39.99   \n",
       "4          1         18             7   460.049      10      16.99      39.99   \n",
       "5          1         18             7   471.502      10      16.99      39.99   \n",
       "6          1         18             7   560.026      11      16.99      39.99   \n",
       "7          1         18             7   564.597      11      16.99      39.99   \n",
       "8          1         18             7   624.606      11      16.99      39.99   \n",
       "9          2         18             7   133.321       7      34.99      34.99   \n",
       "\n",
       "   cSumPrice  bCount  bMinPrice  bMaxPrice  bSumPrice  bStep onlineStatus  \\\n",
       "0      79.98       1      39.99      39.99      39.99    2.0            y   \n",
       "1      79.98       1      39.99      39.99      39.99    2.0            y   \n",
       "2     113.96       2      16.99      39.99      56.98    1.0            n   \n",
       "3     149.94       3      16.99      39.99      74.97    3.0            n   \n",
       "4     189.92       4      16.99      39.99      94.96    4.0            y   \n",
       "5     189.92       4      16.99      39.99      94.96    1.0            y   \n",
       "6     207.91       5      16.99      39.99     112.95    3.0            n   \n",
       "7     207.91       5      16.99      39.99     112.95    1.0            y   \n",
       "8     207.91       5      16.99      39.99     112.95    4.0            y   \n",
       "9      69.98       1      34.99      34.99      34.99    5.0            y   \n",
       "\n",
       "               availability  accountLifetime  payments  lastOrder  \n",
       "0      completely orderable            188.0       5.0       65.0  \n",
       "1      completely orderable            188.0       5.0       65.0  \n",
       "2                     mixed            188.0       5.0       65.0  \n",
       "3  completely not orderable            188.0       5.0       65.0  \n",
       "4          mainly orderable            188.0       5.0       65.0  \n",
       "5      completely orderable            188.0       5.0       65.0  \n",
       "6      mainly not orderable            188.0       5.0       65.0  \n",
       "7      completely orderable            188.0       5.0       65.0  \n",
       "8      completely orderable            188.0       5.0       65.0  \n",
       "9      mainly not orderable             43.0       5.0      184.0  "
      ]
     },
     "execution_count": 12,
     "metadata": {},
     "output_type": "execute_result"
    }
   ],
   "source": [
    "dc.head(10)"
   ]
  },
  {
   "cell_type": "markdown",
   "metadata": {
    "cell_id": "736b88b40bb74c2985c968fec254695f",
    "deepnote_app_block_visible": true,
    "deepnote_cell_type": "text-cell-h3",
    "formattedRanges": []
   },
   "source": [
    "### Grouping berdasarkan sessionNo dan Agregasi\n"
   ]
  },
  {
   "cell_type": "code",
   "execution_count": 13,
   "metadata": {
    "cell_id": "3aafe6068c3b4db1b13b5131c0d911c0",
    "deepnote_app_block_visible": true,
    "deepnote_cell_type": "code",
    "execution_context_id": "84101a82-a4d1-4891-9ca1-15b33568b21c",
    "execution_millis": 55908,
    "execution_start": 1731063184781,
    "source_hash": "2adb50b8"
   },
   "outputs": [],
   "source": [
    "# Mengelompokkan data berdasarkan 'sessionNo' dengan menjaga semua kolom awal, setiap kolom diagregasi sesuai dengan datanya\n",
    "dt = dt.groupby('sessionNo').agg({\n",
    "    'duration': 'sum',\n",
    "    'cCount': 'sum',\n",
    "    'cMinPrice': 'min',\n",
    "    'cMaxPrice': 'max',\n",
    "    'cSumPrice': 'sum',\n",
    "    'bCount': 'sum',\n",
    "    'bMinPrice': 'min',\n",
    "    'bMaxPrice': 'max',\n",
    "    'bSumPrice': 'sum',\n",
    "    'bStep': lambda x: x.mode()[0] if not x.mode().empty else np.nan,\n",
    "    'onlineStatus': lambda x: x.mode()[0] if not x.mode().empty else np.nan,\n",
    "    'availability': lambda x: x.mode()[0] if not x.mode().empty else np.nan,\n",
    "    'startHour': 'first',\n",
    "    'startWeekday': 'first',\n",
    "    'accountLifetime': 'first',\n",
    "    'payments': 'first',\n",
    "    'lastOrder': 'first',\n",
    "    'order': 'first'\n",
    "}).reset_index()\n",
    "\n",
    "dc = dc.groupby('sessionNo').agg({\n",
    "    'duration': 'sum',\n",
    "    'cCount': 'sum',\n",
    "    'cMinPrice': 'min',\n",
    "    'cMaxPrice': 'max',\n",
    "    'cSumPrice': 'sum',\n",
    "    'bCount': 'sum',\n",
    "    'bMinPrice': 'min',\n",
    "    'bMaxPrice': 'max',\n",
    "    'bSumPrice': 'sum',\n",
    "    'bStep': lambda x: x.mode()[0] if not x.mode().empty else np.nan,\n",
    "    'onlineStatus': lambda x: x.mode()[0] if not x.mode().empty else np.nan,\n",
    "    'availability': lambda x: x.mode()[0] if not x.mode().empty else np.nan,\n",
    "    'startHour': 'first',\n",
    "    'startWeekday': 'first',\n",
    "    'accountLifetime': 'first',\n",
    "    'payments': 'first',\n",
    "    'lastOrder': 'first'\n",
    "}).reset_index()"
   ]
  },
  {
   "cell_type": "code",
   "execution_count": 14,
   "metadata": {
    "cell_id": "6971f9a8818d4929a3ece28131437f85",
    "deepnote_app_block_visible": true,
    "deepnote_cell_type": "code",
    "execution_context_id": "84101a82-a4d1-4891-9ca1-15b33568b21c",
    "execution_millis": 0,
    "execution_start": 1731063240761,
    "source_hash": "c2393784"
   },
   "outputs": [
    {
     "data": {
      "application/vnd.deepnote.dataframe.v3+json": {
       "column_count": 19,
       "columns": [
        {
         "dtype": "int64",
         "name": "sessionNo",
         "stats": {
          "histogram": [
           {
            "bin_end": 1.9,
            "bin_start": 1,
            "count": 1
           },
           {
            "bin_end": 2.8,
            "bin_start": 1.9,
            "count": 1
           },
           {
            "bin_end": 3.7,
            "bin_start": 2.8,
            "count": 1
           },
           {
            "bin_end": 4.6,
            "bin_start": 3.7,
            "count": 1
           },
           {
            "bin_end": 5.5,
            "bin_start": 4.6,
            "count": 1
           },
           {
            "bin_end": 6.4,
            "bin_start": 5.5,
            "count": 1
           },
           {
            "bin_end": 7.3,
            "bin_start": 6.4,
            "count": 1
           },
           {
            "bin_end": 8.2,
            "bin_start": 7.3,
            "count": 1
           },
           {
            "bin_end": 9.1,
            "bin_start": 8.2,
            "count": 1
           },
           {
            "bin_end": 10,
            "bin_start": 9.1,
            "count": 1
           }
          ],
          "max": "10",
          "min": "1",
          "nan_count": 0,
          "unique_count": 10
         }
        },
        {
         "dtype": "float64",
         "name": "duration",
         "stats": {
          "histogram": [
           {
            "bin_end": 1231.033,
            "bin_start": 0,
            "count": 6
           },
           {
            "bin_end": 2462.066,
            "bin_start": 1231.033,
            "count": 2
           },
           {
            "bin_end": 3693.0989999999997,
            "bin_start": 2462.066,
            "count": 0
           },
           {
            "bin_end": 4924.132,
            "bin_start": 3693.0989999999997,
            "count": 0
           },
           {
            "bin_end": 6155.164999999999,
            "bin_start": 4924.132,
            "count": 0
           },
           {
            "bin_end": 7386.197999999999,
            "bin_start": 6155.164999999999,
            "count": 0
           },
           {
            "bin_end": 8617.231,
            "bin_start": 7386.197999999999,
            "count": 1
           },
           {
            "bin_end": 9848.264,
            "bin_start": 8617.231,
            "count": 0
           },
           {
            "bin_end": 11079.296999999999,
            "bin_start": 9848.264,
            "count": 0
           },
           {
            "bin_end": 12310.33,
            "bin_start": 11079.296999999999,
            "count": 1
           }
          ],
          "max": "12310.33",
          "min": "0.0",
          "nan_count": 0,
          "unique_count": 9
         }
        },
        {
         "dtype": "int64",
         "name": "cCount",
         "stats": {
          "histogram": [
           {
            "bin_end": 21.5,
            "bin_start": 0,
            "count": 6
           },
           {
            "bin_end": 43,
            "bin_start": 21.5,
            "count": 1
           },
           {
            "bin_end": 64.5,
            "bin_start": 43,
            "count": 1
           },
           {
            "bin_end": 86,
            "bin_start": 64.5,
            "count": 0
           },
           {
            "bin_end": 107.5,
            "bin_start": 86,
            "count": 0
           },
           {
            "bin_end": 129,
            "bin_start": 107.5,
            "count": 0
           },
           {
            "bin_end": 150.5,
            "bin_start": 129,
            "count": 1
           },
           {
            "bin_end": 172,
            "bin_start": 150.5,
            "count": 0
           },
           {
            "bin_end": 193.5,
            "bin_start": 172,
            "count": 0
           },
           {
            "bin_end": 215,
            "bin_start": 193.5,
            "count": 1
           }
          ],
          "max": "215",
          "min": "0",
          "nan_count": 0,
          "unique_count": 10
         }
        },
        {
         "dtype": "float64",
         "name": "cMinPrice",
         "stats": {
          "histogram": [
           {
            "bin_end": 52.699,
            "bin_start": 3,
            "count": 6
           },
           {
            "bin_end": 102.398,
            "bin_start": 52.699,
            "count": 3
           },
           {
            "bin_end": 152.09699999999998,
            "bin_start": 102.398,
            "count": 0
           },
           {
            "bin_end": 201.796,
            "bin_start": 152.09699999999998,
            "count": 0
           },
           {
            "bin_end": 251.495,
            "bin_start": 201.796,
            "count": 0
           },
           {
            "bin_end": 301.19399999999996,
            "bin_start": 251.495,
            "count": 0
           },
           {
            "bin_end": 350.893,
            "bin_start": 301.19399999999996,
            "count": 0
           },
           {
            "bin_end": 400.592,
            "bin_start": 350.893,
            "count": 0
           },
           {
            "bin_end": 450.291,
            "bin_start": 400.592,
            "count": 0
           },
           {
            "bin_end": 499.99,
            "bin_start": 450.291,
            "count": 1
           }
          ],
          "max": "499.99",
          "min": "3.0",
          "nan_count": 0,
          "unique_count": 9
         }
        },
        {
         "dtype": "float64",
         "name": "cMaxPrice",
         "stats": {
          "histogram": [
           {
            "bin_end": 54.49,
            "bin_start": 4.99,
            "count": 5
           },
           {
            "bin_end": 103.99,
            "bin_start": 54.49,
            "count": 2
           },
           {
            "bin_end": 153.49,
            "bin_start": 103.99,
            "count": 0
           },
           {
            "bin_end": 202.99,
            "bin_start": 153.49,
            "count": 2
           },
           {
            "bin_end": 252.49,
            "bin_start": 202.99,
            "count": 0
           },
           {
            "bin_end": 301.99,
            "bin_start": 252.49,
            "count": 0
           },
           {
            "bin_end": 351.49,
            "bin_start": 301.99,
            "count": 0
           },
           {
            "bin_end": 400.99,
            "bin_start": 351.49,
            "count": 0
           },
           {
            "bin_end": 450.49,
            "bin_start": 400.99,
            "count": 0
           },
           {
            "bin_end": 499.99,
            "bin_start": 450.49,
            "count": 1
           }
          ],
          "max": "499.99",
          "min": "4.99",
          "nan_count": 0,
          "unique_count": 9
         }
        },
        {
         "dtype": "float64",
         "name": "cSumPrice",
         "stats": {
          "histogram": [
           {
            "bin_end": 635.9159999999999,
            "bin_start": 39.92,
            "count": 5
           },
           {
            "bin_end": 1231.912,
            "bin_start": 635.9159999999999,
            "count": 1
           },
           {
            "bin_end": 1827.908,
            "bin_start": 1231.912,
            "count": 1
           },
           {
            "bin_end": 2423.904,
            "bin_start": 1827.908,
            "count": 0
           },
           {
            "bin_end": 3019.9,
            "bin_start": 2423.904,
            "count": 0
           },
           {
            "bin_end": 3615.8959999999997,
            "bin_start": 3019.9,
            "count": 0
           },
           {
            "bin_end": 4211.892,
            "bin_start": 3615.8959999999997,
            "count": 0
           },
           {
            "bin_end": 4807.888,
            "bin_start": 4211.892,
            "count": 0
           },
           {
            "bin_end": 5403.884,
            "bin_start": 4807.888,
            "count": 1
           },
           {
            "bin_end": 5999.88,
            "bin_start": 5403.884,
            "count": 2
           }
          ],
          "max": "5999.88",
          "min": "39.92",
          "nan_count": 0,
          "unique_count": 10
         }
        },
        {
         "dtype": "int64",
         "name": "bCount",
         "stats": {
          "histogram": [
           {
            "bin_end": 2.9,
            "bin_start": 0,
            "count": 3
           },
           {
            "bin_end": 5.8,
            "bin_start": 2.9,
            "count": 2
           },
           {
            "bin_end": 8.7,
            "bin_start": 5.8,
            "count": 2
           },
           {
            "bin_end": 11.6,
            "bin_start": 8.7,
            "count": 1
           },
           {
            "bin_end": 14.5,
            "bin_start": 11.6,
            "count": 0
           },
           {
            "bin_end": 17.4,
            "bin_start": 14.5,
            "count": 0
           },
           {
            "bin_end": 20.3,
            "bin_start": 17.4,
            "count": 0
           },
           {
            "bin_end": 23.2,
            "bin_start": 20.3,
            "count": 0
           },
           {
            "bin_end": 26.099999999999998,
            "bin_start": 23.2,
            "count": 1
           },
           {
            "bin_end": 29,
            "bin_start": 26.099999999999998,
            "count": 1
           }
          ],
          "max": "29",
          "min": "0",
          "nan_count": 0,
          "unique_count": 8
         }
        },
        {
         "dtype": "float64",
         "name": "bMinPrice",
         "stats": {
          "histogram": [
           {
            "bin_end": 52.699,
            "bin_start": 3,
            "count": 6
           },
           {
            "bin_end": 102.398,
            "bin_start": 52.699,
            "count": 3
           },
           {
            "bin_end": 152.09699999999998,
            "bin_start": 102.398,
            "count": 0
           },
           {
            "bin_end": 201.796,
            "bin_start": 152.09699999999998,
            "count": 0
           },
           {
            "bin_end": 251.495,
            "bin_start": 201.796,
            "count": 0
           },
           {
            "bin_end": 301.19399999999996,
            "bin_start": 251.495,
            "count": 0
           },
           {
            "bin_end": 350.893,
            "bin_start": 301.19399999999996,
            "count": 0
           },
           {
            "bin_end": 400.592,
            "bin_start": 350.893,
            "count": 0
           },
           {
            "bin_end": 450.291,
            "bin_start": 400.592,
            "count": 0
           },
           {
            "bin_end": 499.99,
            "bin_start": 450.291,
            "count": 1
           }
          ],
          "max": "499.99",
          "min": "3.0",
          "nan_count": 0,
          "unique_count": 9
         }
        },
        {
         "dtype": "float64",
         "name": "bMaxPrice",
         "stats": {
          "histogram": [
           {
            "bin_end": 52.699,
            "bin_start": 3,
            "count": 6
           },
           {
            "bin_end": 102.398,
            "bin_start": 52.699,
            "count": 2
           },
           {
            "bin_end": 152.09699999999998,
            "bin_start": 102.398,
            "count": 0
           },
           {
            "bin_end": 201.796,
            "bin_start": 152.09699999999998,
            "count": 1
           },
           {
            "bin_end": 251.495,
            "bin_start": 201.796,
            "count": 0
           },
           {
            "bin_end": 301.19399999999996,
            "bin_start": 251.495,
            "count": 0
           },
           {
            "bin_end": 350.893,
            "bin_start": 301.19399999999996,
            "count": 0
           },
           {
            "bin_end": 400.592,
            "bin_start": 350.893,
            "count": 0
           },
           {
            "bin_end": 450.291,
            "bin_start": 400.592,
            "count": 0
           },
           {
            "bin_end": 499.99,
            "bin_start": 450.291,
            "count": 1
           }
          ],
          "max": "499.99",
          "min": "3.0",
          "nan_count": 0,
          "unique_count": 9
         }
        },
        {
         "dtype": "float64",
         "name": "bSumPrice",
         "stats": {
          "histogram": [
           {
            "bin_end": 308.976,
            "bin_start": 9.98,
            "count": 6
           },
           {
            "bin_end": 607.972,
            "bin_start": 308.976,
            "count": 0
           },
           {
            "bin_end": 906.968,
            "bin_start": 607.972,
            "count": 2
           },
           {
            "bin_end": 1205.964,
            "bin_start": 906.968,
            "count": 1
           },
           {
            "bin_end": 1504.96,
            "bin_start": 1205.964,
            "count": 0
           },
           {
            "bin_end": 1803.956,
            "bin_start": 1504.96,
            "count": 0
           },
           {
            "bin_end": 2102.9519999999998,
            "bin_start": 1803.956,
            "count": 0
           },
           {
            "bin_end": 2401.948,
            "bin_start": 2102.9519999999998,
            "count": 0
           },
           {
            "bin_end": 2700.944,
            "bin_start": 2401.948,
            "count": 0
           },
           {
            "bin_end": 2999.94,
            "bin_start": 2700.944,
            "count": 1
           }
          ],
          "max": "2999.94",
          "min": "9.98",
          "nan_count": 0,
          "unique_count": 10
         }
        },
        {
         "dtype": "float64",
         "name": "bStep",
         "stats": {
          "histogram": [
           {
            "bin_end": 1.3,
            "bin_start": 1,
            "count": 3
           },
           {
            "bin_end": 1.6,
            "bin_start": 1.3,
            "count": 0
           },
           {
            "bin_end": 1.9,
            "bin_start": 1.6,
            "count": 0
           },
           {
            "bin_end": 2.2,
            "bin_start": 1.9,
            "count": 2
           },
           {
            "bin_end": 2.5,
            "bin_start": 2.2,
            "count": 0
           },
           {
            "bin_end": 2.8,
            "bin_start": 2.5,
            "count": 0
           },
           {
            "bin_end": 3.1,
            "bin_start": 2.8,
            "count": 1
           },
           {
            "bin_end": 3.4,
            "bin_start": 3.1,
            "count": 0
           },
           {
            "bin_end": 3.6999999999999997,
            "bin_start": 3.4,
            "count": 0
           },
           {
            "bin_end": 4,
            "bin_start": 3.6999999999999997,
            "count": 4
           }
          ],
          "max": "4.0",
          "min": "1.0",
          "nan_count": 0,
          "unique_count": 4
         }
        },
        {
         "dtype": "object",
         "name": "onlineStatus",
         "stats": {
          "categories": [
           {
            "count": 6,
            "name": "y"
           },
           {
            "count": 4,
            "name": "n"
           }
          ],
          "nan_count": 0,
          "unique_count": 2
         }
        },
        {
         "dtype": "object",
         "name": "availability",
         "stats": {
          "categories": [
           {
            "count": 6,
            "name": "completely orderable"
           },
           {
            "count": 2,
            "name": "completely not orderable"
           },
           {
            "count": 2,
            "name": "2 others"
           }
          ],
          "nan_count": 0,
          "unique_count": 4
         }
        },
        {
         "dtype": "int64",
         "name": "startHour",
         "stats": {
          "histogram": [
           {
            "bin_end": 5.6,
            "bin_start": 5.5,
            "count": 0
           },
           {
            "bin_end": 5.7,
            "bin_start": 5.6,
            "count": 0
           },
           {
            "bin_end": 5.8,
            "bin_start": 5.7,
            "count": 0
           },
           {
            "bin_end": 5.9,
            "bin_start": 5.8,
            "count": 0
           },
           {
            "bin_end": 6,
            "bin_start": 5.9,
            "count": 0
           },
           {
            "bin_end": 6.1,
            "bin_start": 6,
            "count": 10
           },
           {
            "bin_end": 6.2,
            "bin_start": 6.1,
            "count": 0
           },
           {
            "bin_end": 6.3,
            "bin_start": 6.2,
            "count": 0
           },
           {
            "bin_end": 6.4,
            "bin_start": 6.3,
            "count": 0
           },
           {
            "bin_end": 6.5,
            "bin_start": 6.4,
            "count": 0
           }
          ],
          "max": "6",
          "min": "6",
          "nan_count": 0,
          "unique_count": 1
         }
        },
        {
         "dtype": "int64",
         "name": "startWeekday",
         "stats": {
          "histogram": [
           {
            "bin_end": 4.6,
            "bin_start": 4.5,
            "count": 0
           },
           {
            "bin_end": 4.7,
            "bin_start": 4.6,
            "count": 0
           },
           {
            "bin_end": 4.8,
            "bin_start": 4.7,
            "count": 0
           },
           {
            "bin_end": 4.9,
            "bin_start": 4.8,
            "count": 0
           },
           {
            "bin_end": 5,
            "bin_start": 4.9,
            "count": 0
           },
           {
            "bin_end": 5.1,
            "bin_start": 5,
            "count": 10
           },
           {
            "bin_end": 5.2,
            "bin_start": 5.1,
            "count": 0
           },
           {
            "bin_end": 5.3,
            "bin_start": 5.2,
            "count": 0
           },
           {
            "bin_end": 5.4,
            "bin_start": 5.3,
            "count": 0
           },
           {
            "bin_end": 5.5,
            "bin_start": 5.4,
            "count": 0
           }
          ],
          "max": "5",
          "min": "5",
          "nan_count": 0,
          "unique_count": 1
         }
        },
        {
         "dtype": "float64",
         "name": "accountLifetime",
         "stats": {
          "histogram": [
           {
            "bin_end": 32.9,
            "bin_start": 3,
            "count": 3
           },
           {
            "bin_end": 62.8,
            "bin_start": 32.9,
            "count": 2
           },
           {
            "bin_end": 92.69999999999999,
            "bin_start": 62.8,
            "count": 0
           },
           {
            "bin_end": 122.6,
            "bin_start": 92.69999999999999,
            "count": 4
           },
           {
            "bin_end": 152.5,
            "bin_start": 122.6,
            "count": 0
           },
           {
            "bin_end": 182.39999999999998,
            "bin_start": 152.5,
            "count": 0
           },
           {
            "bin_end": 212.29999999999998,
            "bin_start": 182.39999999999998,
            "count": 0
           },
           {
            "bin_end": 242.2,
            "bin_start": 212.29999999999998,
            "count": 0
           },
           {
            "bin_end": 272.09999999999997,
            "bin_start": 242.2,
            "count": 0
           },
           {
            "bin_end": 302,
            "bin_start": 272.09999999999997,
            "count": 1
           }
          ],
          "max": "302.0",
          "min": "3.0",
          "nan_count": 0,
          "unique_count": 7
         }
        },
        {
         "dtype": "float64",
         "name": "payments",
         "stats": {
          "histogram": [
           {
            "bin_end": 3.2,
            "bin_start": 1,
            "count": 2
           },
           {
            "bin_end": 5.4,
            "bin_start": 3.2,
            "count": 0
           },
           {
            "bin_end": 7.6000000000000005,
            "bin_start": 5.4,
            "count": 0
           },
           {
            "bin_end": 9.8,
            "bin_start": 7.6000000000000005,
            "count": 4
           },
           {
            "bin_end": 12,
            "bin_start": 9.8,
            "count": 2
           },
           {
            "bin_end": 14.200000000000001,
            "bin_start": 12,
            "count": 1
           },
           {
            "bin_end": 16.400000000000002,
            "bin_start": 14.200000000000001,
            "count": 0
           },
           {
            "bin_end": 18.6,
            "bin_start": 16.400000000000002,
            "count": 0
           },
           {
            "bin_end": 20.8,
            "bin_start": 18.6,
            "count": 0
           },
           {
            "bin_end": 23,
            "bin_start": 20.8,
            "count": 1
           }
          ],
          "max": "23.0",
          "min": "1.0",
          "nan_count": 0,
          "unique_count": 5
         }
        },
        {
         "dtype": "float64",
         "name": "lastOrder",
         "stats": {
          "histogram": [
           {
            "bin_end": 14.7,
            "bin_start": 10,
            "count": 2
           },
           {
            "bin_end": 19.4,
            "bin_start": 14.7,
            "count": 0
           },
           {
            "bin_end": 24.1,
            "bin_start": 19.4,
            "count": 1
           },
           {
            "bin_end": 28.8,
            "bin_start": 24.1,
            "count": 0
           },
           {
            "bin_end": 33.5,
            "bin_start": 28.8,
            "count": 0
           },
           {
            "bin_end": 38.2,
            "bin_start": 33.5,
            "count": 4
           },
           {
            "bin_end": 42.9,
            "bin_start": 38.2,
            "count": 1
           },
           {
            "bin_end": 47.6,
            "bin_start": 42.9,
            "count": 0
           },
           {
            "bin_end": 52.300000000000004,
            "bin_start": 47.6,
            "count": 1
           },
           {
            "bin_end": 57,
            "bin_start": 52.300000000000004,
            "count": 1
           }
          ],
          "max": "57.0",
          "min": "10.0",
          "nan_count": 0,
          "unique_count": 7
         }
        },
        {
         "dtype": "object",
         "name": "order",
         "stats": {
          "categories": [
           {
            "count": 6,
            "name": "y"
           },
           {
            "count": 4,
            "name": "n"
           }
          ],
          "nan_count": 0,
          "unique_count": 2
         }
        },
        {
         "dtype": "int64",
         "name": "_deepnote_index_column"
        }
       ],
       "row_count": 10,
       "rows": [
        {
         "_deepnote_index_column": 0,
         "accountLifetime": 21,
         "availability": "completely orderable",
         "bCount": 3,
         "bMaxPrice": 59.99,
         "bMinPrice": 59.99,
         "bStep": 2,
         "bSumPrice": 179.97,
         "cCount": 3,
         "cMaxPrice": 59.99,
         "cMinPrice": 59.99,
         "cSumPrice": 179.97,
         "duration": 51.827,
         "lastOrder": 49,
         "onlineStatus": "y",
         "order": "y",
         "payments": 1,
         "sessionNo": 1,
         "startHour": 6,
         "startWeekday": 5
        },
        {
         "_deepnote_index_column": 1,
         "accountLifetime": 109,
         "availability": "completely orderable",
         "bCount": 0,
         "bMaxPrice": 39.99,
         "bMinPrice": 14.99,
         "bStep": 4,
         "bSumPrice": 1066.304047343253,
         "cCount": 0,
         "cMaxPrice": 49.99,
         "cMinPrice": 12,
         "cSumPrice": 5946.24104359434,
         "duration": 207.53699999999998,
         "lastOrder": 34,
         "onlineStatus": "y",
         "order": "y",
         "payments": 8,
         "sessionNo": 2,
         "startHour": 6,
         "startWeekday": 5
        },
        {
         "_deepnote_index_column": 2,
         "accountLifetime": 302,
         "availability": "completely orderable",
         "bCount": 9,
         "bMaxPrice": 29.99,
         "bMinPrice": 9.99,
         "bStep": 1,
         "bSumPrice": 189.90999999999997,
         "cCount": 53,
         "cMaxPrice": 29.99,
         "cMinPrice": 9.99,
         "cSumPrice": 529.77,
         "duration": 1455.353,
         "lastOrder": 11,
         "onlineStatus": "y",
         "order": "y",
         "payments": 12,
         "sessionNo": 3,
         "startHour": 6,
         "startWeekday": 5
        },
        {
         "_deepnote_index_column": 3,
         "accountLifetime": 109,
         "availability": "completely not orderable",
         "bCount": 2,
         "bMaxPrice": 4.99,
         "bMinPrice": 4.99,
         "bStep": 1,
         "bSumPrice": 9.98,
         "cCount": 8,
         "cMaxPrice": 4.99,
         "cMinPrice": 4.99,
         "cSumPrice": 39.92,
         "duration": 71.68299999999999,
         "lastOrder": 34,
         "onlineStatus": "n",
         "order": "n",
         "payments": 8,
         "sessionNo": 4,
         "startHour": 6,
         "startWeekday": 5
        },
        {
         "_deepnote_index_column": 4,
         "accountLifetime": 18,
         "availability": "completely orderable",
         "bCount": 26,
         "bMaxPrice": 27.85,
         "bMinPrice": 19.99,
         "bStep": 4,
         "bSumPrice": 684.8000000000001,
         "cCount": 215,
         "cMaxPrice": 179.95,
         "cMinPrice": 12.99,
         "cSumPrice": 4943.15,
         "duration": 12310.33,
         "lastOrder": 40,
         "onlineStatus": "y",
         "order": "y",
         "payments": 1,
         "sessionNo": 5,
         "startHour": 6,
         "startWeekday": 5
        },
        {
         "_deepnote_index_column": 5,
         "accountLifetime": 109,
         "availability": "mainly not orderable",
         "bCount": 6,
         "bMaxPrice": 169,
         "bMinPrice": 99.99,
         "bStep": 4,
         "bSumPrice": 758.95,
         "cCount": 6,
         "cMaxPrice": 169,
         "cMinPrice": 99.99,
         "cSumPrice": 758.95,
         "duration": 0,
         "lastOrder": 34,
         "onlineStatus": "n",
         "order": "n",
         "payments": 8,
         "sessionNo": 6,
         "startHour": 6,
         "startWeekday": 5
        },
        {
         "_deepnote_index_column": 6,
         "accountLifetime": 35,
         "availability": "completely orderable",
         "bCount": 29,
         "bMaxPrice": 3,
         "bMinPrice": 3,
         "bStep": 4,
         "bSumPrice": 87,
         "cCount": 149,
         "cMaxPrice": 40,
         "cMinPrice": 3,
         "cSumPrice": 1420,
         "duration": 8216.285,
         "lastOrder": 10,
         "onlineStatus": "y",
         "order": "y",
         "payments": 10,
         "sessionNo": 7,
         "startHour": 6,
         "startWeekday": 5
        },
        {
         "_deepnote_index_column": 7,
         "accountLifetime": 3,
         "availability": "completely not orderable",
         "bCount": 1,
         "bMaxPrice": 59.99,
         "bMinPrice": 59.99,
         "bStep": 3,
         "bSumPrice": 59.99,
         "cCount": 1,
         "cMaxPrice": 59.99,
         "cMinPrice": 59.99,
         "cSumPrice": 59.99,
         "duration": 0,
         "lastOrder": 57,
         "onlineStatus": "n",
         "order": "n",
         "payments": 10,
         "sessionNo": 8,
         "startHour": 6,
         "startWeekday": 5
        },
        {
         "_deepnote_index_column": 8,
         "accountLifetime": 109,
         "availability": "completely orderable",
         "bCount": 6,
         "bMaxPrice": 499.99,
         "bMinPrice": 499.99,
         "bStep": 2,
         "bSumPrice": 2999.94,
         "cCount": 12,
         "cMaxPrice": 499.99,
         "cMinPrice": 499.99,
         "cSumPrice": 5999.88,
         "duration": 1858.22,
         "lastOrder": 34,
         "onlineStatus": "y",
         "order": "y",
         "payments": 8,
         "sessionNo": 9,
         "startHour": 6,
         "startWeekday": 5
        },
        {
         "_deepnote_index_column": 9,
         "accountLifetime": 55,
         "availability": "completely not determinable",
         "bCount": 3,
         "bMaxPrice": 19.99,
         "bMinPrice": 12,
         "bStep": 1,
         "bSumPrice": 43.989999999999995,
         "cCount": 22,
         "cMaxPrice": 24.99,
         "cMinPrice": 5,
         "cSumPrice": 282.11,
         "duration": 1126.983,
         "lastOrder": 24,
         "onlineStatus": "n",
         "order": "n",
         "payments": 23,
         "sessionNo": 10,
         "startHour": 6,
         "startWeekday": 5
        }
       ]
      },
      "text/html": [
       "<div>\n",
       "<style scoped>\n",
       "    .dataframe tbody tr th:only-of-type {\n",
       "        vertical-align: middle;\n",
       "    }\n",
       "\n",
       "    .dataframe tbody tr th {\n",
       "        vertical-align: top;\n",
       "    }\n",
       "\n",
       "    .dataframe thead th {\n",
       "        text-align: right;\n",
       "    }\n",
       "</style>\n",
       "<table border=\"1\" class=\"dataframe\">\n",
       "  <thead>\n",
       "    <tr style=\"text-align: right;\">\n",
       "      <th></th>\n",
       "      <th>sessionNo</th>\n",
       "      <th>duration</th>\n",
       "      <th>cCount</th>\n",
       "      <th>cMinPrice</th>\n",
       "      <th>cMaxPrice</th>\n",
       "      <th>cSumPrice</th>\n",
       "      <th>bCount</th>\n",
       "      <th>bMinPrice</th>\n",
       "      <th>bMaxPrice</th>\n",
       "      <th>bSumPrice</th>\n",
       "      <th>bStep</th>\n",
       "      <th>onlineStatus</th>\n",
       "      <th>availability</th>\n",
       "      <th>startHour</th>\n",
       "      <th>startWeekday</th>\n",
       "      <th>accountLifetime</th>\n",
       "      <th>payments</th>\n",
       "      <th>lastOrder</th>\n",
       "      <th>order</th>\n",
       "    </tr>\n",
       "  </thead>\n",
       "  <tbody>\n",
       "    <tr>\n",
       "      <th>0</th>\n",
       "      <td>1</td>\n",
       "      <td>51.827</td>\n",
       "      <td>3</td>\n",
       "      <td>59.99</td>\n",
       "      <td>59.99</td>\n",
       "      <td>179.970000</td>\n",
       "      <td>3</td>\n",
       "      <td>59.99</td>\n",
       "      <td>59.99</td>\n",
       "      <td>179.970000</td>\n",
       "      <td>2.0</td>\n",
       "      <td>y</td>\n",
       "      <td>completely orderable</td>\n",
       "      <td>6</td>\n",
       "      <td>5</td>\n",
       "      <td>21.0</td>\n",
       "      <td>1.0</td>\n",
       "      <td>49.0</td>\n",
       "      <td>y</td>\n",
       "    </tr>\n",
       "    <tr>\n",
       "      <th>1</th>\n",
       "      <td>2</td>\n",
       "      <td>207.537</td>\n",
       "      <td>0</td>\n",
       "      <td>12.00</td>\n",
       "      <td>49.99</td>\n",
       "      <td>5946.241044</td>\n",
       "      <td>0</td>\n",
       "      <td>14.99</td>\n",
       "      <td>39.99</td>\n",
       "      <td>1066.304047</td>\n",
       "      <td>4.0</td>\n",
       "      <td>y</td>\n",
       "      <td>completely orderable</td>\n",
       "      <td>6</td>\n",
       "      <td>5</td>\n",
       "      <td>109.0</td>\n",
       "      <td>8.0</td>\n",
       "      <td>34.0</td>\n",
       "      <td>y</td>\n",
       "    </tr>\n",
       "    <tr>\n",
       "      <th>2</th>\n",
       "      <td>3</td>\n",
       "      <td>1455.353</td>\n",
       "      <td>53</td>\n",
       "      <td>9.99</td>\n",
       "      <td>29.99</td>\n",
       "      <td>529.770000</td>\n",
       "      <td>9</td>\n",
       "      <td>9.99</td>\n",
       "      <td>29.99</td>\n",
       "      <td>189.910000</td>\n",
       "      <td>1.0</td>\n",
       "      <td>y</td>\n",
       "      <td>completely orderable</td>\n",
       "      <td>6</td>\n",
       "      <td>5</td>\n",
       "      <td>302.0</td>\n",
       "      <td>12.0</td>\n",
       "      <td>11.0</td>\n",
       "      <td>y</td>\n",
       "    </tr>\n",
       "    <tr>\n",
       "      <th>3</th>\n",
       "      <td>4</td>\n",
       "      <td>71.683</td>\n",
       "      <td>8</td>\n",
       "      <td>4.99</td>\n",
       "      <td>4.99</td>\n",
       "      <td>39.920000</td>\n",
       "      <td>2</td>\n",
       "      <td>4.99</td>\n",
       "      <td>4.99</td>\n",
       "      <td>9.980000</td>\n",
       "      <td>1.0</td>\n",
       "      <td>n</td>\n",
       "      <td>completely not orderable</td>\n",
       "      <td>6</td>\n",
       "      <td>5</td>\n",
       "      <td>109.0</td>\n",
       "      <td>8.0</td>\n",
       "      <td>34.0</td>\n",
       "      <td>n</td>\n",
       "    </tr>\n",
       "    <tr>\n",
       "      <th>4</th>\n",
       "      <td>5</td>\n",
       "      <td>12310.330</td>\n",
       "      <td>215</td>\n",
       "      <td>12.99</td>\n",
       "      <td>179.95</td>\n",
       "      <td>4943.150000</td>\n",
       "      <td>26</td>\n",
       "      <td>19.99</td>\n",
       "      <td>27.85</td>\n",
       "      <td>684.800000</td>\n",
       "      <td>4.0</td>\n",
       "      <td>y</td>\n",
       "      <td>completely orderable</td>\n",
       "      <td>6</td>\n",
       "      <td>5</td>\n",
       "      <td>18.0</td>\n",
       "      <td>1.0</td>\n",
       "      <td>40.0</td>\n",
       "      <td>y</td>\n",
       "    </tr>\n",
       "    <tr>\n",
       "      <th>5</th>\n",
       "      <td>6</td>\n",
       "      <td>0.000</td>\n",
       "      <td>6</td>\n",
       "      <td>99.99</td>\n",
       "      <td>169.00</td>\n",
       "      <td>758.950000</td>\n",
       "      <td>6</td>\n",
       "      <td>99.99</td>\n",
       "      <td>169.00</td>\n",
       "      <td>758.950000</td>\n",
       "      <td>4.0</td>\n",
       "      <td>n</td>\n",
       "      <td>mainly not orderable</td>\n",
       "      <td>6</td>\n",
       "      <td>5</td>\n",
       "      <td>109.0</td>\n",
       "      <td>8.0</td>\n",
       "      <td>34.0</td>\n",
       "      <td>n</td>\n",
       "    </tr>\n",
       "    <tr>\n",
       "      <th>6</th>\n",
       "      <td>7</td>\n",
       "      <td>8216.285</td>\n",
       "      <td>149</td>\n",
       "      <td>3.00</td>\n",
       "      <td>40.00</td>\n",
       "      <td>1420.000000</td>\n",
       "      <td>29</td>\n",
       "      <td>3.00</td>\n",
       "      <td>3.00</td>\n",
       "      <td>87.000000</td>\n",
       "      <td>4.0</td>\n",
       "      <td>y</td>\n",
       "      <td>completely orderable</td>\n",
       "      <td>6</td>\n",
       "      <td>5</td>\n",
       "      <td>35.0</td>\n",
       "      <td>10.0</td>\n",
       "      <td>10.0</td>\n",
       "      <td>y</td>\n",
       "    </tr>\n",
       "    <tr>\n",
       "      <th>7</th>\n",
       "      <td>8</td>\n",
       "      <td>0.000</td>\n",
       "      <td>1</td>\n",
       "      <td>59.99</td>\n",
       "      <td>59.99</td>\n",
       "      <td>59.990000</td>\n",
       "      <td>1</td>\n",
       "      <td>59.99</td>\n",
       "      <td>59.99</td>\n",
       "      <td>59.990000</td>\n",
       "      <td>3.0</td>\n",
       "      <td>n</td>\n",
       "      <td>completely not orderable</td>\n",
       "      <td>6</td>\n",
       "      <td>5</td>\n",
       "      <td>3.0</td>\n",
       "      <td>10.0</td>\n",
       "      <td>57.0</td>\n",
       "      <td>n</td>\n",
       "    </tr>\n",
       "    <tr>\n",
       "      <th>8</th>\n",
       "      <td>9</td>\n",
       "      <td>1858.220</td>\n",
       "      <td>12</td>\n",
       "      <td>499.99</td>\n",
       "      <td>499.99</td>\n",
       "      <td>5999.880000</td>\n",
       "      <td>6</td>\n",
       "      <td>499.99</td>\n",
       "      <td>499.99</td>\n",
       "      <td>2999.940000</td>\n",
       "      <td>2.0</td>\n",
       "      <td>y</td>\n",
       "      <td>completely orderable</td>\n",
       "      <td>6</td>\n",
       "      <td>5</td>\n",
       "      <td>109.0</td>\n",
       "      <td>8.0</td>\n",
       "      <td>34.0</td>\n",
       "      <td>y</td>\n",
       "    </tr>\n",
       "    <tr>\n",
       "      <th>9</th>\n",
       "      <td>10</td>\n",
       "      <td>1126.983</td>\n",
       "      <td>22</td>\n",
       "      <td>5.00</td>\n",
       "      <td>24.99</td>\n",
       "      <td>282.110000</td>\n",
       "      <td>3</td>\n",
       "      <td>12.00</td>\n",
       "      <td>19.99</td>\n",
       "      <td>43.990000</td>\n",
       "      <td>1.0</td>\n",
       "      <td>n</td>\n",
       "      <td>completely not determinable</td>\n",
       "      <td>6</td>\n",
       "      <td>5</td>\n",
       "      <td>55.0</td>\n",
       "      <td>23.0</td>\n",
       "      <td>24.0</td>\n",
       "      <td>n</td>\n",
       "    </tr>\n",
       "  </tbody>\n",
       "</table>\n",
       "</div>"
      ],
      "text/plain": [
       "   sessionNo   duration  cCount  cMinPrice  cMaxPrice    cSumPrice  bCount  \\\n",
       "0          1     51.827       3      59.99      59.99   179.970000       3   \n",
       "1          2    207.537       0      12.00      49.99  5946.241044       0   \n",
       "2          3   1455.353      53       9.99      29.99   529.770000       9   \n",
       "3          4     71.683       8       4.99       4.99    39.920000       2   \n",
       "4          5  12310.330     215      12.99     179.95  4943.150000      26   \n",
       "5          6      0.000       6      99.99     169.00   758.950000       6   \n",
       "6          7   8216.285     149       3.00      40.00  1420.000000      29   \n",
       "7          8      0.000       1      59.99      59.99    59.990000       1   \n",
       "8          9   1858.220      12     499.99     499.99  5999.880000       6   \n",
       "9         10   1126.983      22       5.00      24.99   282.110000       3   \n",
       "\n",
       "   bMinPrice  bMaxPrice    bSumPrice  bStep onlineStatus  \\\n",
       "0      59.99      59.99   179.970000    2.0            y   \n",
       "1      14.99      39.99  1066.304047    4.0            y   \n",
       "2       9.99      29.99   189.910000    1.0            y   \n",
       "3       4.99       4.99     9.980000    1.0            n   \n",
       "4      19.99      27.85   684.800000    4.0            y   \n",
       "5      99.99     169.00   758.950000    4.0            n   \n",
       "6       3.00       3.00    87.000000    4.0            y   \n",
       "7      59.99      59.99    59.990000    3.0            n   \n",
       "8     499.99     499.99  2999.940000    2.0            y   \n",
       "9      12.00      19.99    43.990000    1.0            n   \n",
       "\n",
       "                  availability  startHour  startWeekday  accountLifetime  \\\n",
       "0         completely orderable          6             5             21.0   \n",
       "1         completely orderable          6             5            109.0   \n",
       "2         completely orderable          6             5            302.0   \n",
       "3     completely not orderable          6             5            109.0   \n",
       "4         completely orderable          6             5             18.0   \n",
       "5         mainly not orderable          6             5            109.0   \n",
       "6         completely orderable          6             5             35.0   \n",
       "7     completely not orderable          6             5              3.0   \n",
       "8         completely orderable          6             5            109.0   \n",
       "9  completely not determinable          6             5             55.0   \n",
       "\n",
       "   payments  lastOrder order  \n",
       "0       1.0       49.0     y  \n",
       "1       8.0       34.0     y  \n",
       "2      12.0       11.0     y  \n",
       "3       8.0       34.0     n  \n",
       "4       1.0       40.0     y  \n",
       "5       8.0       34.0     n  \n",
       "6      10.0       10.0     y  \n",
       "7      10.0       57.0     n  \n",
       "8       8.0       34.0     y  \n",
       "9      23.0       24.0     n  "
      ]
     },
     "execution_count": 14,
     "metadata": {},
     "output_type": "execute_result"
    }
   ],
   "source": [
    "dt.head(10)"
   ]
  },
  {
   "cell_type": "code",
   "execution_count": 15,
   "metadata": {
    "cell_id": "a3c8a58e73bb42049cd91d66ddf02bb7",
    "deepnote_app_block_visible": true,
    "deepnote_cell_type": "code",
    "execution_context_id": "84101a82-a4d1-4891-9ca1-15b33568b21c",
    "execution_millis": 0,
    "execution_start": 1731063240885,
    "source_hash": "9786be53"
   },
   "outputs": [
    {
     "data": {
      "application/vnd.deepnote.dataframe.v3+json": {
       "column_count": 18,
       "columns": [
        {
         "dtype": "int64",
         "name": "sessionNo",
         "stats": {
          "histogram": [
           {
            "bin_end": 1.9,
            "bin_start": 1,
            "count": 1
           },
           {
            "bin_end": 2.8,
            "bin_start": 1.9,
            "count": 1
           },
           {
            "bin_end": 3.7,
            "bin_start": 2.8,
            "count": 1
           },
           {
            "bin_end": 4.6,
            "bin_start": 3.7,
            "count": 1
           },
           {
            "bin_end": 5.5,
            "bin_start": 4.6,
            "count": 1
           },
           {
            "bin_end": 6.4,
            "bin_start": 5.5,
            "count": 1
           },
           {
            "bin_end": 7.3,
            "bin_start": 6.4,
            "count": 1
           },
           {
            "bin_end": 8.2,
            "bin_start": 7.3,
            "count": 1
           },
           {
            "bin_end": 9.1,
            "bin_start": 8.2,
            "count": 1
           },
           {
            "bin_end": 10,
            "bin_start": 9.1,
            "count": 1
           }
          ],
          "max": "10",
          "min": "1",
          "nan_count": 0,
          "unique_count": 10
         }
        },
        {
         "dtype": "float64",
         "name": "duration",
         "stats": {
          "histogram": [
           {
            "bin_end": 10761.9307,
            "bin_start": 63.261,
            "count": 6
           },
           {
            "bin_end": 21460.6004,
            "bin_start": 10761.9307,
            "count": 2
           },
           {
            "bin_end": 32159.2701,
            "bin_start": 21460.6004,
            "count": 0
           },
           {
            "bin_end": 42857.9398,
            "bin_start": 32159.2701,
            "count": 0
           },
           {
            "bin_end": 53556.6095,
            "bin_start": 42857.9398,
            "count": 0
           },
           {
            "bin_end": 64255.279200000004,
            "bin_start": 53556.6095,
            "count": 0
           },
           {
            "bin_end": 74953.9489,
            "bin_start": 64255.279200000004,
            "count": 0
           },
           {
            "bin_end": 85652.6186,
            "bin_start": 74953.9489,
            "count": 1
           },
           {
            "bin_end": 96351.2883,
            "bin_start": 85652.6186,
            "count": 0
           },
           {
            "bin_end": 107049.958,
            "bin_start": 96351.2883,
            "count": 1
           }
          ],
          "max": "107049.958",
          "min": "63.261",
          "nan_count": 0,
          "unique_count": 10
         }
        },
        {
         "dtype": "int64",
         "name": "cCount",
         "stats": {
          "histogram": [
           {
            "bin_end": 233.6,
            "bin_start": 4,
            "count": 7
           },
           {
            "bin_end": 463.2,
            "bin_start": 233.6,
            "count": 0
           },
           {
            "bin_end": 692.8,
            "bin_start": 463.2,
            "count": 0
           },
           {
            "bin_end": 922.4,
            "bin_start": 692.8,
            "count": 1
           },
           {
            "bin_end": 1152,
            "bin_start": 922.4,
            "count": 0
           },
           {
            "bin_end": 1381.6,
            "bin_start": 1152,
            "count": 0
           },
           {
            "bin_end": 1611.2,
            "bin_start": 1381.6,
            "count": 0
           },
           {
            "bin_end": 1840.8,
            "bin_start": 1611.2,
            "count": 1
           },
           {
            "bin_end": 2070.4,
            "bin_start": 1840.8,
            "count": 0
           },
           {
            "bin_end": 2300,
            "bin_start": 2070.4,
            "count": 1
           }
          ],
          "max": "2300",
          "min": "4",
          "nan_count": 0,
          "unique_count": 9
         }
        },
        {
         "dtype": "float64",
         "name": "cMinPrice",
         "stats": {
          "histogram": [
           {
            "bin_end": 9.59,
            "bin_start": 3.99,
            "count": 5
           },
           {
            "bin_end": 15.19,
            "bin_start": 9.59,
            "count": 1
           },
           {
            "bin_end": 20.79,
            "bin_start": 15.19,
            "count": 1
           },
           {
            "bin_end": 26.39,
            "bin_start": 20.79,
            "count": 0
           },
           {
            "bin_end": 31.990000000000002,
            "bin_start": 26.39,
            "count": 1
           },
           {
            "bin_end": 37.589999999999996,
            "bin_start": 31.990000000000002,
            "count": 1
           },
           {
            "bin_end": 43.19,
            "bin_start": 37.589999999999996,
            "count": 0
           },
           {
            "bin_end": 48.79,
            "bin_start": 43.19,
            "count": 0
           },
           {
            "bin_end": 54.39,
            "bin_start": 48.79,
            "count": 0
           },
           {
            "bin_end": 59.99,
            "bin_start": 54.39,
            "count": 1
           }
          ],
          "max": "59.99",
          "min": "3.99",
          "nan_count": 0,
          "unique_count": 9
         }
        },
        {
         "dtype": "float64",
         "name": "cMaxPrice",
         "stats": {
          "histogram": [
           {
            "bin_end": 41.989999999999995,
            "bin_start": 19.99,
            "count": 6
           },
           {
            "bin_end": 63.989999999999995,
            "bin_start": 41.989999999999995,
            "count": 1
           },
           {
            "bin_end": 85.99,
            "bin_start": 63.989999999999995,
            "count": 1
           },
           {
            "bin_end": 107.99,
            "bin_start": 85.99,
            "count": 1
           },
           {
            "bin_end": 129.99,
            "bin_start": 107.99,
            "count": 0
           },
           {
            "bin_end": 151.99,
            "bin_start": 129.99,
            "count": 0
           },
           {
            "bin_end": 173.99,
            "bin_start": 151.99,
            "count": 0
           },
           {
            "bin_end": 195.99,
            "bin_start": 173.99,
            "count": 0
           },
           {
            "bin_end": 217.99,
            "bin_start": 195.99,
            "count": 0
           },
           {
            "bin_end": 239.99,
            "bin_start": 217.99,
            "count": 1
           }
          ],
          "max": "239.99",
          "min": "19.99",
          "nan_count": 0,
          "unique_count": 8
         }
        },
        {
         "dtype": "float64",
         "name": "cSumPrice",
         "stats": {
          "histogram": [
           {
            "bin_end": 5073.901000000001,
            "bin_start": 119.96,
            "count": 7
           },
           {
            "bin_end": 10027.842,
            "bin_start": 5073.901000000001,
            "count": 0
           },
           {
            "bin_end": 14981.783000000001,
            "bin_start": 10027.842,
            "count": 1
           },
           {
            "bin_end": 19935.724000000002,
            "bin_start": 14981.783000000001,
            "count": 0
           },
           {
            "bin_end": 24889.665,
            "bin_start": 19935.724000000002,
            "count": 0
           },
           {
            "bin_end": 29843.606000000003,
            "bin_start": 24889.665,
            "count": 0
           },
           {
            "bin_end": 34797.547000000006,
            "bin_start": 29843.606000000003,
            "count": 1
           },
           {
            "bin_end": 39751.488000000005,
            "bin_start": 34797.547000000006,
            "count": 0
           },
           {
            "bin_end": 44705.429000000004,
            "bin_start": 39751.488000000005,
            "count": 0
           },
           {
            "bin_end": 49659.37,
            "bin_start": 44705.429000000004,
            "count": 1
           }
          ],
          "max": "49659.37",
          "min": "119.96",
          "nan_count": 0,
          "unique_count": 10
         }
        },
        {
         "dtype": "int64",
         "name": "bCount",
         "stats": {
          "histogram": [
           {
            "bin_end": 21,
            "bin_start": 1,
            "count": 7
           },
           {
            "bin_end": 41,
            "bin_start": 21,
            "count": 1
           },
           {
            "bin_end": 61,
            "bin_start": 41,
            "count": 0
           },
           {
            "bin_end": 81,
            "bin_start": 61,
            "count": 1
           },
           {
            "bin_end": 101,
            "bin_start": 81,
            "count": 0
           },
           {
            "bin_end": 121,
            "bin_start": 101,
            "count": 0
           },
           {
            "bin_end": 141,
            "bin_start": 121,
            "count": 0
           },
           {
            "bin_end": 161,
            "bin_start": 141,
            "count": 0
           },
           {
            "bin_end": 181,
            "bin_start": 161,
            "count": 0
           },
           {
            "bin_end": 201,
            "bin_start": 181,
            "count": 1
           }
          ],
          "max": "201",
          "min": "1",
          "nan_count": 0,
          "unique_count": 10
         }
        },
        {
         "dtype": "float64",
         "name": "bMinPrice",
         "stats": {
          "histogram": [
           {
            "bin_end": 15.190000000000001,
            "bin_start": 7.99,
            "count": 6
           },
           {
            "bin_end": 22.39,
            "bin_start": 15.190000000000001,
            "count": 1
           },
           {
            "bin_end": 29.590000000000003,
            "bin_start": 22.39,
            "count": 0
           },
           {
            "bin_end": 36.79,
            "bin_start": 29.590000000000003,
            "count": 2
           },
           {
            "bin_end": 43.99,
            "bin_start": 36.79,
            "count": 0
           },
           {
            "bin_end": 51.190000000000005,
            "bin_start": 43.99,
            "count": 0
           },
           {
            "bin_end": 58.39,
            "bin_start": 51.190000000000005,
            "count": 0
           },
           {
            "bin_end": 65.59,
            "bin_start": 58.39,
            "count": 0
           },
           {
            "bin_end": 72.78999999999999,
            "bin_start": 65.59,
            "count": 0
           },
           {
            "bin_end": 79.99,
            "bin_start": 72.78999999999999,
            "count": 1
           }
          ],
          "max": "79.99",
          "min": "7.99",
          "nan_count": 0,
          "unique_count": 9
         }
        },
        {
         "dtype": "float64",
         "name": "bMaxPrice",
         "stats": {
          "histogram": [
           {
            "bin_end": 17.89,
            "bin_start": 10.99,
            "count": 4
           },
           {
            "bin_end": 24.79,
            "bin_start": 17.89,
            "count": 1
           },
           {
            "bin_end": 31.690000000000005,
            "bin_start": 24.79,
            "count": 1
           },
           {
            "bin_end": 38.59,
            "bin_start": 31.690000000000005,
            "count": 1
           },
           {
            "bin_end": 45.49,
            "bin_start": 38.59,
            "count": 2
           },
           {
            "bin_end": 52.39000000000001,
            "bin_start": 45.49,
            "count": 0
           },
           {
            "bin_end": 59.290000000000006,
            "bin_start": 52.39000000000001,
            "count": 0
           },
           {
            "bin_end": 66.19,
            "bin_start": 59.290000000000006,
            "count": 0
           },
           {
            "bin_end": 73.09,
            "bin_start": 66.19,
            "count": 0
           },
           {
            "bin_end": 79.99,
            "bin_start": 73.09,
            "count": 1
           }
          ],
          "max": "79.99",
          "min": "10.99",
          "nan_count": 0,
          "unique_count": 8
         }
        },
        {
         "dtype": "float64",
         "name": "bSumPrice",
         "stats": {
          "histogram": [
           {
            "bin_end": 624.259,
            "bin_start": 42.97,
            "count": 7
           },
           {
            "bin_end": 1205.548,
            "bin_start": 624.259,
            "count": 2
           },
           {
            "bin_end": 1786.837,
            "bin_start": 1205.548,
            "count": 0
           },
           {
            "bin_end": 2368.1259999999997,
            "bin_start": 1786.837,
            "count": 0
           },
           {
            "bin_end": 2949.4149999999995,
            "bin_start": 2368.1259999999997,
            "count": 0
           },
           {
            "bin_end": 3530.7039999999997,
            "bin_start": 2949.4149999999995,
            "count": 0
           },
           {
            "bin_end": 4111.993,
            "bin_start": 3530.7039999999997,
            "count": 0
           },
           {
            "bin_end": 4693.282,
            "bin_start": 4111.993,
            "count": 0
           },
           {
            "bin_end": 5274.571,
            "bin_start": 4693.282,
            "count": 0
           },
           {
            "bin_end": 5855.86,
            "bin_start": 5274.571,
            "count": 1
           }
          ],
          "max": "5855.86",
          "min": "42.97",
          "nan_count": 0,
          "unique_count": 10
         }
        },
        {
         "dtype": "float64",
         "name": "bStep",
         "stats": {
          "histogram": [
           {
            "bin_end": 1.2,
            "bin_start": 1,
            "count": 3
           },
           {
            "bin_end": 1.4,
            "bin_start": 1.2,
            "count": 0
           },
           {
            "bin_end": 1.6,
            "bin_start": 1.4,
            "count": 0
           },
           {
            "bin_end": 1.8,
            "bin_start": 1.6,
            "count": 0
           },
           {
            "bin_end": 2,
            "bin_start": 1.8,
            "count": 0
           },
           {
            "bin_end": 2.2,
            "bin_start": 2,
            "count": 6
           },
           {
            "bin_end": 2.4000000000000004,
            "bin_start": 2.2,
            "count": 0
           },
           {
            "bin_end": 2.6,
            "bin_start": 2.4000000000000004,
            "count": 0
           },
           {
            "bin_end": 2.8,
            "bin_start": 2.6,
            "count": 0
           },
           {
            "bin_end": 3,
            "bin_start": 2.8,
            "count": 1
           }
          ],
          "max": "3.0",
          "min": "1.0",
          "nan_count": 0,
          "unique_count": 3
         }
        },
        {
         "dtype": "object",
         "name": "onlineStatus",
         "stats": {
          "categories": [
           {
            "count": 6,
            "name": "y"
           },
           {
            "count": 4,
            "name": "n"
           }
          ],
          "nan_count": 0,
          "unique_count": 2
         }
        },
        {
         "dtype": "object",
         "name": "availability",
         "stats": {
          "categories": [
           {
            "count": 6,
            "name": "completely orderable"
           },
           {
            "count": 2,
            "name": "completely not orderable"
           },
           {
            "count": 2,
            "name": "2 others"
           }
          ],
          "nan_count": 0,
          "unique_count": 4
         }
        },
        {
         "dtype": "int64",
         "name": "startHour",
         "stats": {
          "histogram": [
           {
            "bin_end": 17.6,
            "bin_start": 17.5,
            "count": 0
           },
           {
            "bin_end": 17.7,
            "bin_start": 17.6,
            "count": 0
           },
           {
            "bin_end": 17.8,
            "bin_start": 17.7,
            "count": 0
           },
           {
            "bin_end": 17.9,
            "bin_start": 17.8,
            "count": 0
           },
           {
            "bin_end": 18,
            "bin_start": 17.9,
            "count": 0
           },
           {
            "bin_end": 18.1,
            "bin_start": 18,
            "count": 10
           },
           {
            "bin_end": 18.2,
            "bin_start": 18.1,
            "count": 0
           },
           {
            "bin_end": 18.3,
            "bin_start": 18.2,
            "count": 0
           },
           {
            "bin_end": 18.4,
            "bin_start": 18.3,
            "count": 0
           },
           {
            "bin_end": 18.5,
            "bin_start": 18.4,
            "count": 0
           }
          ],
          "max": "18",
          "min": "18",
          "nan_count": 0,
          "unique_count": 1
         }
        },
        {
         "dtype": "int64",
         "name": "startWeekday",
         "stats": {
          "histogram": [
           {
            "bin_end": 6.6,
            "bin_start": 6.5,
            "count": 0
           },
           {
            "bin_end": 6.7,
            "bin_start": 6.6,
            "count": 0
           },
           {
            "bin_end": 6.8,
            "bin_start": 6.7,
            "count": 0
           },
           {
            "bin_end": 6.9,
            "bin_start": 6.8,
            "count": 0
           },
           {
            "bin_end": 7,
            "bin_start": 6.9,
            "count": 0
           },
           {
            "bin_end": 7.1,
            "bin_start": 7,
            "count": 10
           },
           {
            "bin_end": 7.2,
            "bin_start": 7.1,
            "count": 0
           },
           {
            "bin_end": 7.3,
            "bin_start": 7.2,
            "count": 0
           },
           {
            "bin_end": 7.4,
            "bin_start": 7.3,
            "count": 0
           },
           {
            "bin_end": 7.5,
            "bin_start": 7.4,
            "count": 0
           }
          ],
          "max": "7",
          "min": "7",
          "nan_count": 0,
          "unique_count": 1
         }
        },
        {
         "dtype": "float64",
         "name": "accountLifetime",
         "stats": {
          "histogram": [
           {
            "bin_end": 50.5,
            "bin_start": 17,
            "count": 3
           },
           {
            "bin_end": 84,
            "bin_start": 50.5,
            "count": 1
           },
           {
            "bin_end": 117.5,
            "bin_start": 84,
            "count": 3
           },
           {
            "bin_end": 151,
            "bin_start": 117.5,
            "count": 0
           },
           {
            "bin_end": 184.5,
            "bin_start": 151,
            "count": 0
           },
           {
            "bin_end": 218,
            "bin_start": 184.5,
            "count": 1
           },
           {
            "bin_end": 251.5,
            "bin_start": 218,
            "count": 1
           },
           {
            "bin_end": 285,
            "bin_start": 251.5,
            "count": 0
           },
           {
            "bin_end": 318.5,
            "bin_start": 285,
            "count": 0
           },
           {
            "bin_end": 352,
            "bin_start": 318.5,
            "count": 1
           }
          ],
          "max": "352.0",
          "min": "17.0",
          "nan_count": 0,
          "unique_count": 8
         }
        },
        {
         "dtype": "float64",
         "name": "payments",
         "stats": {
          "histogram": [
           {
            "bin_end": 3.7,
            "bin_start": 2,
            "count": 1
           },
           {
            "bin_end": 5.4,
            "bin_start": 3.7,
            "count": 3
           },
           {
            "bin_end": 7.1,
            "bin_start": 5.4,
            "count": 3
           },
           {
            "bin_end": 8.8,
            "bin_start": 7.1,
            "count": 0
           },
           {
            "bin_end": 10.5,
            "bin_start": 8.8,
            "count": 1
           },
           {
            "bin_end": 12.2,
            "bin_start": 10.5,
            "count": 0
           },
           {
            "bin_end": 13.9,
            "bin_start": 12.2,
            "count": 0
           },
           {
            "bin_end": 15.6,
            "bin_start": 13.9,
            "count": 1
           },
           {
            "bin_end": 17.299999999999997,
            "bin_start": 15.6,
            "count": 0
           },
           {
            "bin_end": 19,
            "bin_start": 17.299999999999997,
            "count": 1
           }
          ],
          "max": "19.0",
          "min": "2.0",
          "nan_count": 0,
          "unique_count": 7
         }
        },
        {
         "dtype": "float64",
         "name": "lastOrder",
         "stats": {
          "histogram": [
           {
            "bin_end": 27,
            "bin_start": 4,
            "count": 2
           },
           {
            "bin_end": 50,
            "bin_start": 27,
            "count": 4
           },
           {
            "bin_end": 73,
            "bin_start": 50,
            "count": 1
           },
           {
            "bin_end": 96,
            "bin_start": 73,
            "count": 0
           },
           {
            "bin_end": 119,
            "bin_start": 96,
            "count": 1
           },
           {
            "bin_end": 142,
            "bin_start": 119,
            "count": 0
           },
           {
            "bin_end": 165,
            "bin_start": 142,
            "count": 0
           },
           {
            "bin_end": 188,
            "bin_start": 165,
            "count": 1
           },
           {
            "bin_end": 211,
            "bin_start": 188,
            "count": 0
           },
           {
            "bin_end": 234,
            "bin_start": 211,
            "count": 1
           }
          ],
          "max": "234.0",
          "min": "4.0",
          "nan_count": 0,
          "unique_count": 8
         }
        },
        {
         "dtype": "int64",
         "name": "_deepnote_index_column"
        }
       ],
       "row_count": 10,
       "rows": [
        {
         "_deepnote_index_column": 0,
         "accountLifetime": 188,
         "availability": "completely orderable",
         "bCount": 30,
         "bMaxPrice": 39.99,
         "bMinPrice": 16.99,
         "bStep": 1,
         "bSumPrice": 740.7,
         "cCount": 73,
         "cMaxPrice": 39.99,
         "cMinPrice": 16.99,
         "cSumPrice": 1427.43,
         "duration": 3761.542,
         "lastOrder": 65,
         "onlineStatus": "y",
         "payments": 5,
         "sessionNo": 1,
         "startHour": 18,
         "startWeekday": 7
        },
        {
         "_deepnote_index_column": 1,
         "accountLifetime": 43,
         "availability": "completely orderable",
         "bCount": 15,
         "bMaxPrice": 34.99,
         "bMinPrice": 34.99,
         "bStep": 2,
         "bSumPrice": 524.85,
         "cCount": 113,
         "cMaxPrice": 34.99,
         "cMinPrice": 34.99,
         "cSumPrice": 1189.6599999999999,
         "duration": 14046.089,
         "lastOrder": 184,
         "onlineStatus": "y",
         "payments": 5,
         "sessionNo": 2,
         "startHour": 18,
         "startWeekday": 7
        },
        {
         "_deepnote_index_column": 2,
         "accountLifetime": 17,
         "availability": "completely orderable",
         "bCount": 201,
         "bMaxPrice": 39.95,
         "bMinPrice": 12.49,
         "bStep": 2,
         "bSumPrice": 5855.86,
         "cCount": 1815,
         "cMaxPrice": 59.95,
         "cMinPrice": 7.99,
         "cSumPrice": 49659.37,
         "duration": 107049.958,
         "lastOrder": 107,
         "onlineStatus": "y",
         "payments": 4,
         "sessionNo": 3,
         "startHour": 18,
         "startWeekday": 7
        },
        {
         "_deepnote_index_column": 3,
         "accountLifetime": 226,
         "availability": "completely orderable",
         "bCount": 16,
         "bMaxPrice": 14.99,
         "bMinPrice": 9.99,
         "bStep": 1,
         "bSumPrice": 179.84,
         "cCount": 868,
         "cMaxPrice": 239.99,
         "cMinPrice": 3.99,
         "cSumPrice": 33385.44,
         "duration": 16223.585000000001,
         "lastOrder": 17,
         "onlineStatus": "y",
         "payments": 19,
         "sessionNo": 4,
         "startHour": 18,
         "startWeekday": 7
        },
        {
         "_deepnote_index_column": 4,
         "accountLifetime": 39,
         "availability": "completely orderable",
         "bCount": 2,
         "bMaxPrice": 29.99,
         "bMinPrice": 29.99,
         "bStep": 2,
         "bSumPrice": 59.98,
         "cCount": 4,
         "cMaxPrice": 29.99,
         "cMinPrice": 29.99,
         "cSumPrice": 119.96,
         "duration": 63.261,
         "lastOrder": 234,
         "onlineStatus": "n",
         "payments": 2,
         "sessionNo": 5,
         "startHour": 18,
         "startWeekday": 7
        },
        {
         "_deepnote_index_column": 5,
         "accountLifetime": 352,
         "availability": "completely not determinable",
         "bCount": 6,
         "bMaxPrice": 10.99,
         "bMinPrice": 7.99,
         "bStep": 2,
         "bSumPrice": 60.94,
         "cCount": 131,
         "cMaxPrice": 39.99,
         "cMinPrice": 7.99,
         "cSumPrice": 1160.18,
         "duration": 9203.161,
         "lastOrder": 28,
         "onlineStatus": "y",
         "payments": 9,
         "sessionNo": 6,
         "startHour": 18,
         "startWeekday": 7
        },
        {
         "_deepnote_index_column": 6,
         "accountLifetime": 102,
         "availability": "completely not orderable",
         "bCount": 5,
         "bMaxPrice": 14.99,
         "bMinPrice": 14.99,
         "bStep": 1,
         "bSumPrice": 74.95,
         "cCount": 11,
         "cMaxPrice": 19.99,
         "cMinPrice": 14.99,
         "cSumPrice": 174.89,
         "duration": 493.223,
         "lastOrder": 42,
         "onlineStatus": "n",
         "payments": 7,
         "sessionNo": 7,
         "startHour": 18,
         "startWeekday": 7
        },
        {
         "_deepnote_index_column": 7,
         "accountLifetime": 102,
         "availability": "mainly orderable",
         "bCount": 3,
         "bMaxPrice": 14.99,
         "bMinPrice": 12.99,
         "bStep": 2,
         "bSumPrice": 42.97,
         "cCount": 74,
         "cMaxPrice": 99.99,
         "cMinPrice": 8.99,
         "cSumPrice": 1219.54,
         "duration": 3525.261,
         "lastOrder": 42,
         "onlineStatus": "n",
         "payments": 7,
         "sessionNo": 8,
         "startHour": 18,
         "startWeekday": 7
        },
        {
         "_deepnote_index_column": 8,
         "accountLifetime": 73,
         "availability": "completely not orderable",
         "bCount": 1,
         "bMaxPrice": 79.99,
         "bMinPrice": 79.99,
         "bStep": 3,
         "bSumPrice": 79.99,
         "cCount": 4,
         "cMaxPrice": 79.99,
         "cMinPrice": 59.99,
         "cSumPrice": 299.96,
         "duration": 68.599,
         "lastOrder": 4,
         "onlineStatus": "n",
         "payments": 14,
         "sessionNo": 9,
         "startHour": 18,
         "startWeekday": 7
        },
        {
         "_deepnote_index_column": 9,
         "accountLifetime": 102,
         "availability": "completely orderable",
         "bCount": 69,
         "bMaxPrice": 19.99,
         "bMinPrice": 7.99,
         "bStep": 2,
         "bSumPrice": 843.3100000000001,
         "cCount": 2300,
         "cMaxPrice": 39.99,
         "cMinPrice": 5,
         "cSumPrice": 14038.42,
         "duration": 81071.954,
         "lastOrder": 42,
         "onlineStatus": "y",
         "payments": 7,
         "sessionNo": 10,
         "startHour": 18,
         "startWeekday": 7
        }
       ]
      },
      "text/html": [
       "<div>\n",
       "<style scoped>\n",
       "    .dataframe tbody tr th:only-of-type {\n",
       "        vertical-align: middle;\n",
       "    }\n",
       "\n",
       "    .dataframe tbody tr th {\n",
       "        vertical-align: top;\n",
       "    }\n",
       "\n",
       "    .dataframe thead th {\n",
       "        text-align: right;\n",
       "    }\n",
       "</style>\n",
       "<table border=\"1\" class=\"dataframe\">\n",
       "  <thead>\n",
       "    <tr style=\"text-align: right;\">\n",
       "      <th></th>\n",
       "      <th>sessionNo</th>\n",
       "      <th>duration</th>\n",
       "      <th>cCount</th>\n",
       "      <th>cMinPrice</th>\n",
       "      <th>cMaxPrice</th>\n",
       "      <th>cSumPrice</th>\n",
       "      <th>bCount</th>\n",
       "      <th>bMinPrice</th>\n",
       "      <th>bMaxPrice</th>\n",
       "      <th>bSumPrice</th>\n",
       "      <th>bStep</th>\n",
       "      <th>onlineStatus</th>\n",
       "      <th>availability</th>\n",
       "      <th>startHour</th>\n",
       "      <th>startWeekday</th>\n",
       "      <th>accountLifetime</th>\n",
       "      <th>payments</th>\n",
       "      <th>lastOrder</th>\n",
       "    </tr>\n",
       "  </thead>\n",
       "  <tbody>\n",
       "    <tr>\n",
       "      <th>0</th>\n",
       "      <td>1</td>\n",
       "      <td>3761.542</td>\n",
       "      <td>73</td>\n",
       "      <td>16.99</td>\n",
       "      <td>39.99</td>\n",
       "      <td>1427.43</td>\n",
       "      <td>30</td>\n",
       "      <td>16.99</td>\n",
       "      <td>39.99</td>\n",
       "      <td>740.70</td>\n",
       "      <td>1.0</td>\n",
       "      <td>y</td>\n",
       "      <td>completely orderable</td>\n",
       "      <td>18</td>\n",
       "      <td>7</td>\n",
       "      <td>188.0</td>\n",
       "      <td>5.0</td>\n",
       "      <td>65.0</td>\n",
       "    </tr>\n",
       "    <tr>\n",
       "      <th>1</th>\n",
       "      <td>2</td>\n",
       "      <td>14046.089</td>\n",
       "      <td>113</td>\n",
       "      <td>34.99</td>\n",
       "      <td>34.99</td>\n",
       "      <td>1189.66</td>\n",
       "      <td>15</td>\n",
       "      <td>34.99</td>\n",
       "      <td>34.99</td>\n",
       "      <td>524.85</td>\n",
       "      <td>2.0</td>\n",
       "      <td>y</td>\n",
       "      <td>completely orderable</td>\n",
       "      <td>18</td>\n",
       "      <td>7</td>\n",
       "      <td>43.0</td>\n",
       "      <td>5.0</td>\n",
       "      <td>184.0</td>\n",
       "    </tr>\n",
       "    <tr>\n",
       "      <th>2</th>\n",
       "      <td>3</td>\n",
       "      <td>107049.958</td>\n",
       "      <td>1815</td>\n",
       "      <td>7.99</td>\n",
       "      <td>59.95</td>\n",
       "      <td>49659.37</td>\n",
       "      <td>201</td>\n",
       "      <td>12.49</td>\n",
       "      <td>39.95</td>\n",
       "      <td>5855.86</td>\n",
       "      <td>2.0</td>\n",
       "      <td>y</td>\n",
       "      <td>completely orderable</td>\n",
       "      <td>18</td>\n",
       "      <td>7</td>\n",
       "      <td>17.0</td>\n",
       "      <td>4.0</td>\n",
       "      <td>107.0</td>\n",
       "    </tr>\n",
       "    <tr>\n",
       "      <th>3</th>\n",
       "      <td>4</td>\n",
       "      <td>16223.585</td>\n",
       "      <td>868</td>\n",
       "      <td>3.99</td>\n",
       "      <td>239.99</td>\n",
       "      <td>33385.44</td>\n",
       "      <td>16</td>\n",
       "      <td>9.99</td>\n",
       "      <td>14.99</td>\n",
       "      <td>179.84</td>\n",
       "      <td>1.0</td>\n",
       "      <td>y</td>\n",
       "      <td>completely orderable</td>\n",
       "      <td>18</td>\n",
       "      <td>7</td>\n",
       "      <td>226.0</td>\n",
       "      <td>19.0</td>\n",
       "      <td>17.0</td>\n",
       "    </tr>\n",
       "    <tr>\n",
       "      <th>4</th>\n",
       "      <td>5</td>\n",
       "      <td>63.261</td>\n",
       "      <td>4</td>\n",
       "      <td>29.99</td>\n",
       "      <td>29.99</td>\n",
       "      <td>119.96</td>\n",
       "      <td>2</td>\n",
       "      <td>29.99</td>\n",
       "      <td>29.99</td>\n",
       "      <td>59.98</td>\n",
       "      <td>2.0</td>\n",
       "      <td>n</td>\n",
       "      <td>completely orderable</td>\n",
       "      <td>18</td>\n",
       "      <td>7</td>\n",
       "      <td>39.0</td>\n",
       "      <td>2.0</td>\n",
       "      <td>234.0</td>\n",
       "    </tr>\n",
       "    <tr>\n",
       "      <th>5</th>\n",
       "      <td>6</td>\n",
       "      <td>9203.161</td>\n",
       "      <td>131</td>\n",
       "      <td>7.99</td>\n",
       "      <td>39.99</td>\n",
       "      <td>1160.18</td>\n",
       "      <td>6</td>\n",
       "      <td>7.99</td>\n",
       "      <td>10.99</td>\n",
       "      <td>60.94</td>\n",
       "      <td>2.0</td>\n",
       "      <td>y</td>\n",
       "      <td>completely not determinable</td>\n",
       "      <td>18</td>\n",
       "      <td>7</td>\n",
       "      <td>352.0</td>\n",
       "      <td>9.0</td>\n",
       "      <td>28.0</td>\n",
       "    </tr>\n",
       "    <tr>\n",
       "      <th>6</th>\n",
       "      <td>7</td>\n",
       "      <td>493.223</td>\n",
       "      <td>11</td>\n",
       "      <td>14.99</td>\n",
       "      <td>19.99</td>\n",
       "      <td>174.89</td>\n",
       "      <td>5</td>\n",
       "      <td>14.99</td>\n",
       "      <td>14.99</td>\n",
       "      <td>74.95</td>\n",
       "      <td>1.0</td>\n",
       "      <td>n</td>\n",
       "      <td>completely not orderable</td>\n",
       "      <td>18</td>\n",
       "      <td>7</td>\n",
       "      <td>102.0</td>\n",
       "      <td>7.0</td>\n",
       "      <td>42.0</td>\n",
       "    </tr>\n",
       "    <tr>\n",
       "      <th>7</th>\n",
       "      <td>8</td>\n",
       "      <td>3525.261</td>\n",
       "      <td>74</td>\n",
       "      <td>8.99</td>\n",
       "      <td>99.99</td>\n",
       "      <td>1219.54</td>\n",
       "      <td>3</td>\n",
       "      <td>12.99</td>\n",
       "      <td>14.99</td>\n",
       "      <td>42.97</td>\n",
       "      <td>2.0</td>\n",
       "      <td>n</td>\n",
       "      <td>mainly orderable</td>\n",
       "      <td>18</td>\n",
       "      <td>7</td>\n",
       "      <td>102.0</td>\n",
       "      <td>7.0</td>\n",
       "      <td>42.0</td>\n",
       "    </tr>\n",
       "    <tr>\n",
       "      <th>8</th>\n",
       "      <td>9</td>\n",
       "      <td>68.599</td>\n",
       "      <td>4</td>\n",
       "      <td>59.99</td>\n",
       "      <td>79.99</td>\n",
       "      <td>299.96</td>\n",
       "      <td>1</td>\n",
       "      <td>79.99</td>\n",
       "      <td>79.99</td>\n",
       "      <td>79.99</td>\n",
       "      <td>3.0</td>\n",
       "      <td>n</td>\n",
       "      <td>completely not orderable</td>\n",
       "      <td>18</td>\n",
       "      <td>7</td>\n",
       "      <td>73.0</td>\n",
       "      <td>14.0</td>\n",
       "      <td>4.0</td>\n",
       "    </tr>\n",
       "    <tr>\n",
       "      <th>9</th>\n",
       "      <td>10</td>\n",
       "      <td>81071.954</td>\n",
       "      <td>2300</td>\n",
       "      <td>5.00</td>\n",
       "      <td>39.99</td>\n",
       "      <td>14038.42</td>\n",
       "      <td>69</td>\n",
       "      <td>7.99</td>\n",
       "      <td>19.99</td>\n",
       "      <td>843.31</td>\n",
       "      <td>2.0</td>\n",
       "      <td>y</td>\n",
       "      <td>completely orderable</td>\n",
       "      <td>18</td>\n",
       "      <td>7</td>\n",
       "      <td>102.0</td>\n",
       "      <td>7.0</td>\n",
       "      <td>42.0</td>\n",
       "    </tr>\n",
       "  </tbody>\n",
       "</table>\n",
       "</div>"
      ],
      "text/plain": [
       "   sessionNo    duration  cCount  cMinPrice  cMaxPrice  cSumPrice  bCount  \\\n",
       "0          1    3761.542      73      16.99      39.99    1427.43      30   \n",
       "1          2   14046.089     113      34.99      34.99    1189.66      15   \n",
       "2          3  107049.958    1815       7.99      59.95   49659.37     201   \n",
       "3          4   16223.585     868       3.99     239.99   33385.44      16   \n",
       "4          5      63.261       4      29.99      29.99     119.96       2   \n",
       "5          6    9203.161     131       7.99      39.99    1160.18       6   \n",
       "6          7     493.223      11      14.99      19.99     174.89       5   \n",
       "7          8    3525.261      74       8.99      99.99    1219.54       3   \n",
       "8          9      68.599       4      59.99      79.99     299.96       1   \n",
       "9         10   81071.954    2300       5.00      39.99   14038.42      69   \n",
       "\n",
       "   bMinPrice  bMaxPrice  bSumPrice  bStep onlineStatus  \\\n",
       "0      16.99      39.99     740.70    1.0            y   \n",
       "1      34.99      34.99     524.85    2.0            y   \n",
       "2      12.49      39.95    5855.86    2.0            y   \n",
       "3       9.99      14.99     179.84    1.0            y   \n",
       "4      29.99      29.99      59.98    2.0            n   \n",
       "5       7.99      10.99      60.94    2.0            y   \n",
       "6      14.99      14.99      74.95    1.0            n   \n",
       "7      12.99      14.99      42.97    2.0            n   \n",
       "8      79.99      79.99      79.99    3.0            n   \n",
       "9       7.99      19.99     843.31    2.0            y   \n",
       "\n",
       "                  availability  startHour  startWeekday  accountLifetime  \\\n",
       "0         completely orderable         18             7            188.0   \n",
       "1         completely orderable         18             7             43.0   \n",
       "2         completely orderable         18             7             17.0   \n",
       "3         completely orderable         18             7            226.0   \n",
       "4         completely orderable         18             7             39.0   \n",
       "5  completely not determinable         18             7            352.0   \n",
       "6     completely not orderable         18             7            102.0   \n",
       "7             mainly orderable         18             7            102.0   \n",
       "8     completely not orderable         18             7             73.0   \n",
       "9         completely orderable         18             7            102.0   \n",
       "\n",
       "   payments  lastOrder  \n",
       "0       5.0       65.0  \n",
       "1       5.0      184.0  \n",
       "2       4.0      107.0  \n",
       "3      19.0       17.0  \n",
       "4       2.0      234.0  \n",
       "5       9.0       28.0  \n",
       "6       7.0       42.0  \n",
       "7       7.0       42.0  \n",
       "8      14.0        4.0  \n",
       "9       7.0       42.0  "
      ]
     },
     "execution_count": 15,
     "metadata": {},
     "output_type": "execute_result"
    }
   ],
   "source": [
    "dc.head(10)"
   ]
  },
  {
   "cell_type": "markdown",
   "metadata": {
    "cell_id": "ba848c4188e1497197c4ee54f592a404",
    "deepnote_app_block_visible": true,
    "deepnote_cell_type": "text-cell-h3",
    "formattedRanges": []
   },
   "source": [
    "### One-hot Encoding\n"
   ]
  },
  {
   "cell_type": "code",
   "execution_count": 16,
   "metadata": {
    "cell_id": "ad0f959502a14aa3ba9809787c04fe0f",
    "deepnote_app_block_visible": true,
    "deepnote_cell_type": "code",
    "execution_context_id": "84101a82-a4d1-4891-9ca1-15b33568b21c",
    "execution_millis": 0,
    "execution_start": 1731063240957,
    "source_hash": "c25576ee"
   },
   "outputs": [],
   "source": [
    "# one-hot encoding untuk tipe kategori\n",
    "dt = pd.get_dummies(data=dt, columns=['onlineStatus','availability'])\n",
    "dc = pd.get_dummies(data=dc, columns=['onlineStatus','availability'])"
   ]
  },
  {
   "cell_type": "markdown",
   "metadata": {
    "cell_id": "b119f56dfe7c472cb3a40be74afe31f9",
    "deepnote_app_block_visible": true,
    "deepnote_cell_type": "markdown"
   },
   "source": [
    "Di kode ini, kami melakukan one-hot encoding pada kolom-kolom kategori, yaitu 'onlineStatus' dan 'availability' yang hasilnya adalah DataFrame yang memiliki kolom-kolom baru yang menggantikan kolom kategori dengan representasi numerik biner.\n"
   ]
  },
  {
   "cell_type": "code",
   "execution_count": 17,
   "metadata": {
    "cell_id": "af7d07dc187f452eaf31380c588a0543",
    "deepnote_app_block_visible": true,
    "deepnote_cell_type": "code",
    "execution_context_id": "84101a82-a4d1-4891-9ca1-15b33568b21c",
    "execution_millis": 1,
    "execution_start": 1731063241004,
    "source_hash": "dd5b3fb5"
   },
   "outputs": [
    {
     "data": {
      "text/plain": [
       "(50000, 26)"
      ]
     },
     "execution_count": 17,
     "metadata": {},
     "output_type": "execute_result"
    }
   ],
   "source": [
    "dt.shape"
   ]
  },
  {
   "cell_type": "code",
   "execution_count": 18,
   "metadata": {
    "cell_id": "a0750b2f28434904a10a951d2c45c6a0",
    "deepnote_app_block_visible": true,
    "deepnote_cell_type": "code",
    "execution_context_id": "84101a82-a4d1-4891-9ca1-15b33568b21c",
    "execution_millis": 1,
    "execution_start": 1731063241052,
    "source_hash": "fd469a63"
   },
   "outputs": [
    {
     "data": {
      "text/plain": [
       "(5111, 25)"
      ]
     },
     "execution_count": 18,
     "metadata": {},
     "output_type": "execute_result"
    }
   ],
   "source": [
    "dc.shape"
   ]
  },
  {
   "cell_type": "markdown",
   "metadata": {
    "cell_id": "25a09685c4e94e1da4fc8fab9c647173",
    "deepnote_app_block_visible": true,
    "deepnote_cell_type": "text-cell-h2",
    "formattedRanges": []
   },
   "source": [
    "## Proses Pembuatan Model\n"
   ]
  },
  {
   "cell_type": "markdown",
   "metadata": {
    "cell_id": "139259fafeae4ba7a608abcfa8fd0fc5",
    "deepnote_app_block_visible": true,
    "deepnote_cell_type": "text-cell-h3",
    "formattedRanges": []
   },
   "source": [
    "### Menggunakan Data Training\n"
   ]
  },
  {
   "cell_type": "code",
   "execution_count": 19,
   "metadata": {
    "cell_id": "5252afe0cf6f4a2fbce00a89b5fa5e57",
    "deepnote_app_block_visible": true,
    "deepnote_cell_type": "code",
    "execution_context_id": "84101a82-a4d1-4891-9ca1-15b33568b21c",
    "execution_millis": 648,
    "execution_start": 1731063241105,
    "source_hash": "a5a808c2"
   },
   "outputs": [],
   "source": [
    "# ubah atribut yang akan menjadi label menggunakan LabelEncoder\n",
    "from sklearn import preprocessing\n",
    "le = preprocessing.LabelEncoder()\n",
    "le.fit(dt['order'])\n",
    "Y = le.transform(dt['order'])"
   ]
  },
  {
   "cell_type": "markdown",
   "metadata": {
    "cell_id": "57e2ed64eaed4058956bf1a61e35e8c6",
    "deepnote_app_block_visible": true,
    "deepnote_cell_type": "markdown"
   },
   "source": [
    "Di kode ini, kami menggunakan **LabelEncoder** dari pustaka `sklearn` untuk mengubah kolom `'order'`, yang berisi label kategorikal, menjadi angka.\n",
    "\n",
    "- **`from sklearn import preprocessing`**: Mengimpor modul `preprocessing` dari `sklearn`, yang menyediakan berbagai alat untuk praproses data, termasuk `LabelEncoder`.\n",
    "- **`le = preprocessing.LabelEncoder()`**: Membuat objek `LabelEncoder` yang akan digunakan untuk mengubah label menjadi angka.\n",
    "- **`le.fit(dt['order'])`**: Fungsi ini digunakan untuk \"melatih\" `LabelEncoder` dengan data dari kolom `'order'`. Di sini, `LabelEncoder` mempelajari semua nilai unik yang ada di kolom tersebut.\n",
    "- **`Y = le.transform(dt['order'])`**: Fungsi ini mengubah nilai kategorikal pada kolom `'order'` menjadi angka, berdasarkan label yang telah dipelajari sebelumnya. Hasilnya adalah array `Y`, yang berisi representasi numerik dari nilai-nilai di kolom `'order'`.\n",
    "\n",
    "Dengan cara ini, kolom `'order'` yang sebelumnya berisi data kategori kini diubah menjadi data numerik yang bisa digunakan dalam model machine learning.\n"
   ]
  },
  {
   "cell_type": "code",
   "execution_count": 20,
   "metadata": {
    "cell_id": "2515dd5731544debb2b452aad2d8c50b",
    "deepnote_app_block_visible": true,
    "deepnote_cell_type": "code",
    "execution_context_id": "84101a82-a4d1-4891-9ca1-15b33568b21c",
    "execution_millis": 1,
    "execution_start": 1731063241852,
    "source_hash": "55bdab29"
   },
   "outputs": [],
   "source": [
    "# siapkan atribut training dengan membuang kelas label\n",
    "X = dt.drop(\"order\", axis = 1)"
   ]
  },
  {
   "cell_type": "markdown",
   "metadata": {
    "cell_id": "d1c36d35ee9f420eb59a0cf06a22329d",
    "deepnote_app_block_visible": true,
    "deepnote_cell_type": "markdown"
   },
   "source": [
    "Di kode ini, kami mempersiapkan data untuk pelatihan (training) dengan membuang kolom kelas label `'order'`, yang sudah diubah menjadi numerik (dengan `LabelEncoder`).\n",
    "\n",
    "- **`X = dt.drop(\"order\", axis=1)`**: Fungsi **`drop()`** digunakan untuk menghapus kolom dari DataFrame.\n",
    "  - **`\"order\"`**: Ini adalah nama kolom yang akan dihapus, yang berisi label kelas.\n",
    "  - **`axis=1`**: Menyatakan bahwa kolom yang dihapus (bukan baris) adalah yang dimaksud.\n",
    "\n",
    "Hasil dari **`X`** adalah DataFrame yang hanya berisi atribut (fitur) atau kolom input, tanpa kolom `'order'` yang menjadi label target.\n",
    "\n",
    "Dengan kata lain, kami memisahkan atribut (fitur) yang digunakan untuk pelatihan (`X`) dan label kelas (`Y`, yang sudah diubah dengan `LabelEncoder`) untuk digunakan dalam model machine learning.\n"
   ]
  },
  {
   "cell_type": "markdown",
   "metadata": {
    "cell_id": "5c09e8ae3cfd4f9f90530007c9f3a3e9",
    "deepnote_app_block_visible": true,
    "deepnote_cell_type": "text-cell-h3",
    "formattedRanges": []
   },
   "source": [
    "### Split Dataset\n"
   ]
  },
  {
   "cell_type": "code",
   "execution_count": 21,
   "metadata": {
    "cell_id": "fe33ac1dbad84bb798571e7c97a2de80",
    "deepnote_app_block_visible": true,
    "deepnote_cell_type": "code",
    "execution_context_id": "84101a82-a4d1-4891-9ca1-15b33568b21c",
    "execution_millis": 250,
    "execution_start": 1731063241905,
    "source_hash": "c445e508"
   },
   "outputs": [],
   "source": [
    "from sklearn.model_selection import train_test_split\n",
    "X_train,X_test,Y_train,Y_test=train_test_split(X,Y,test_size=0.2,random_state=123)\n",
    "\n",
    "\n",
    "# simpan nama kolom untuk keperluan prediksi nanti\n",
    "# pickle adalah library untuk menyimpan file\n",
    "import pickle\n",
    "with(open('transact_train.pickle', 'wb')) as fp:\n",
    "    pickle.dump(X_train.columns, fp)"
   ]
  },
  {
   "cell_type": "markdown",
   "metadata": {
    "cell_id": "fcb88345bf124477aae2d729be95022b",
    "deepnote_app_block_visible": true,
    "deepnote_cell_type": "markdown"
   },
   "source": [
    "Di kode ini, kami membagi data menjadi set pelatihan dan set pengujian, serta menyimpan nama kolom dari data pelatihan untuk keperluan prediksi di masa depan.\n",
    "\n",
    "1. **Membagi data menjadi pelatihan dan pengujian**:\n",
    "\n",
    "   - **`train_test_split(X, Y, test_size=0.2, random_state=123)`**: Fungsi ini digunakan untuk membagi dataset menjadi dua bagian: data pelatihan (`X_train`, `Y_train`) dan data pengujian (`X_test`, `Y_test`).\n",
    "     - **`X`** adalah fitur atau atribut, sedangkan **`Y`** adalah label yang ingin diprediksi.\n",
    "     - **`test_size=0.2`**: Ini berarti 20% dari data akan digunakan untuk pengujian, sementara 80% lainnya untuk pelatihan.\n",
    "     - **`random_state=123`**: Menetapkan nilai acak untuk memastikan pembagian data yang konsisten setiap kali kode dijalankan.\n",
    "\n",
    "2. **Menyimpan nama kolom untuk prediksi**:\n",
    "   - **`import pickle`**: Mengimpor pustaka `pickle`, yang digunakan untuk menyimpan dan memuat objek Python ke dalam file, seperti nama kolom di sini.\n",
    "   - **`with open('transact_train.pickle', 'wb') as fp:`**: Membuka file bernama `'transact_train.pickle'` dalam mode tulis biner (`wb`).\n",
    "   - **`pickle.dump(X_train.columns, fp)`**: Menyimpan nama kolom dari data pelatihan (`X_train.columns`) ke dalam file `'transact_train.pickle'`. Nama kolom ini akan berguna nanti ketika kita perlu melakukan prediksi menggunakan model, agar kita bisa mengetahui kolom mana yang digunakan.\n",
    "\n",
    "Dengan kode ini, kami memastikan bahwa data telah dibagi untuk pelatihan dan pengujian, serta nama kolom yang digunakan untuk pelatihan disimpan untuk referensi di masa depan.\n"
   ]
  },
  {
   "cell_type": "markdown",
   "metadata": {
    "cell_id": "f253e2769a1d450097601b871739a033",
    "deepnote_app_block_visible": true,
    "deepnote_cell_type": "text-cell-h3",
    "formattedRanges": []
   },
   "source": [
    "### Random Forest\n"
   ]
  },
  {
   "cell_type": "code",
   "execution_count": 22,
   "metadata": {
    "cell_id": "15305918a62c487d9d15ea344b945fa1",
    "deepnote_app_block_visible": true,
    "deepnote_cell_type": "code",
    "execution_context_id": "84101a82-a4d1-4891-9ca1-15b33568b21c",
    "execution_millis": 8315,
    "execution_start": 1731063242205,
    "source_hash": "8b9dd1d"
   },
   "outputs": [],
   "source": [
    "from sklearn.ensemble import RandomForestClassifier\n",
    "from sklearn.metrics import classification_report\n",
    "from sklearn.metrics import accuracy_score\n",
    "# tampilkan confusion matrix\n",
    "from sklearn.metrics import confusion_matrix\n",
    "\n",
    "clf = RandomForestClassifier(n_estimators=50, random_state=123)\n",
    "clf.fit(X_train, Y_train)\n",
    "\n",
    "# Make predictions on the test set\n",
    "Y_pred = clf.predict(X_test)\n",
    "\n",
    "# Save the trained model for later use\n",
    "with open('random_forest_model.pickle', 'wb') as f:\n",
    "    pickle.dump(clf, f)\n"
   ]
  },
  {
   "cell_type": "markdown",
   "metadata": {
    "cell_id": "4c23d65d46764261993ec38ef5c1259a",
    "deepnote_app_block_visible": true,
    "deepnote_cell_type": "markdown"
   },
   "source": [
    "Di kode ini, kami melatih model **RandomForestClassifier** untuk memprediksi kolom `'order'` (yang telah diubah menjadi nilai numerik) dan mengevaluasi kinerjanya.\n",
    "\n",
    "1. **Mengimpor pustaka yang diperlukan**:\n",
    "\n",
    "   - **`RandomForestClassifier`** dari `sklearn.ensemble`: Digunakan untuk membuat model Random Forest, yang merupakan salah satu algoritma pembelajaran mesin yang populer untuk klasifikasi.\n",
    "   - **`classification_report`** dan **`accuracy_score`** dari `sklearn.metrics`: Digunakan untuk mengevaluasi kinerja model dengan melihat akurasi dan laporan klasifikasi.\n",
    "\n",
    "2. **Membangun dan melatih model**:\n",
    "\n",
    "   - **`clf = RandomForestClassifier(n_estimators=50, random_state=123)`**: Membuat objek `RandomForestClassifier` dengan 50 pohon keputusan (estimators), yang berarti model akan membuat 50 pohon keputusan dalam proses pelatihan.\n",
    "   - **`clf.fit(X_train, Y_train)`**: Melatih model menggunakan data pelatihan (`X_train` dan `Y_train`).\n",
    "\n",
    "3. **Memprediksi**:\n",
    "   - **`Y_pred = clf.predict(X_test)`**: Menggunakan model yang telah dilatih untuk memprediksi label pada data uji (`X_test`).\n"
   ]
  },
  {
   "cell_type": "markdown",
   "metadata": {
    "cell_id": "f148accf3b0347b5aca23be9e518e661",
    "deepnote_app_block_visible": true,
    "deepnote_cell_type": "text-cell-h3",
    "formattedRanges": []
   },
   "source": [
    "### Menampilkan Akurasi, Classification Report, Confusion Matrix, dan Fitur Penting\n"
   ]
  },
  {
   "cell_type": "code",
   "execution_count": 23,
   "metadata": {
    "cell_id": "d517fee2247644b7b8120f5cbb8ba497",
    "deepnote_app_block_visible": true,
    "deepnote_cell_type": "code",
    "execution_context_id": "84101a82-a4d1-4891-9ca1-15b33568b21c",
    "execution_millis": 0,
    "execution_start": 1731063250573,
    "source_hash": "876bd47"
   },
   "outputs": [
    {
     "name": "stdout",
     "output_type": "stream",
     "text": [
      "Akurasi 0.8316\n",
      "              precision    recall  f1-score   support\n",
      "\n",
      "           0       0.89      0.79      0.84      5419\n",
      "           1       0.78      0.88      0.83      4581\n",
      "\n",
      "    accuracy                           0.83     10000\n",
      "   macro avg       0.83      0.84      0.83     10000\n",
      "weighted avg       0.84      0.83      0.83     10000\n",
      "\n",
      "[[4271 1148]\n",
      " [ 536 4045]]\n",
      "                                          importance\n",
      "bCount                                      0.186349\n",
      "availability_completely orderable           0.095447\n",
      "duration                                    0.085836\n",
      "bSumPrice                                   0.076482\n",
      "cCount                                      0.067239\n",
      "cSumPrice                                   0.051207\n",
      "sessionNo                                   0.044632\n",
      "accountLifetime                             0.042996\n",
      "payments                                    0.038973\n",
      "lastOrder                                   0.038226\n",
      "bMinPrice                                   0.036700\n",
      "cMaxPrice                                   0.036303\n",
      "cMinPrice                                   0.035153\n",
      "bMaxPrice                                   0.034449\n",
      "startHour                                   0.031805\n",
      "onlineStatus_n                              0.025890\n",
      "bStep                                       0.025715\n",
      "onlineStatus_y                              0.021424\n",
      "startWeekday                                0.008681\n",
      "availability_completely not orderable       0.007909\n",
      "availability_completely not determinable    0.006317\n",
      "availability_mainly not determinable        0.000757\n",
      "availability_mainly orderable               0.000668\n",
      "availability_mixed                          0.000450\n",
      "availability_mainly not orderable           0.000393\n"
     ]
    }
   ],
   "source": [
    "# Calculate accuracy\n",
    "acc = accuracy_score(Y_test, Y_pred)\n",
    "print(\"Akurasi {}\".format(acc))\n",
    "\n",
    "# Print detailed classification report\n",
    "print(classification_report(Y_test, Y_pred))\n",
    "\n",
    "print(confusion_matrix(Y_test, Y_pred))\n",
    "\n",
    "feature_importances = pd.DataFrame(clf.feature_importances_,index = X_train.columns, columns=['importance']).sort_values('importance',ascending=False)\n",
    "print(feature_importances)"
   ]
  },
  {
   "cell_type": "markdown",
   "metadata": {
    "cell_id": "761b028ad2fc4d3fb7f060a22e348c13",
    "deepnote_app_block_visible": true,
    "deepnote_cell_type": "text-cell-h3",
    "formattedRanges": []
   },
   "source": [
    "### Hasil yang didapat\n"
   ]
  },
  {
   "cell_type": "markdown",
   "metadata": {
    "cell_id": "a9a8bfc3c50346b79f06ed04caccfb3d",
    "deepnote_app_block_visible": true,
    "deepnote_cell_type": "text-cell-bullet",
    "formattedRanges": [
     {
      "fromCodePoint": 0,
      "marks": {
       "bold": true
      },
      "toCodePoint": 20,
      "type": "marks"
     }
    ]
   },
   "source": [
    "- Akurasi: 0.8311, yang berarti model berhasil memprediksi label dengan tingkat akurasi sekitar 83.1%. Ini menunjukkan bahwa model cukup baik dalam memprediksi kelas.\n",
    "- Precision: Pada kelas 0, precision 0.89 atau 89% prediksi kelas 0 adalah benar. Sementara pada kelas 1, precision 0.78 atau 78% prediksi kelas 1 adalah benar.\n",
    "- Recall: Pada kelas 0, recall 0.79 atau 79% data kelas 0 berhasil terdeteksi model. Sementara pada kelas 1, recall 0.88 atau 88% data kelas 1 berhasil terdeteksi model.\n",
    "- F1-Score: Pada kelas 0 adalah 0.84 dan kelas 1 adalah 0.83\n",
    "- Confusion Matrix: Model berhasil memprediksi kelas 1 dengan benar sebanyak 4029 prediksi dan 4282 prediksi untuk kelas 0. Sementara terdapat 1137 prediksi kelas 0 yang salah dan 552 prediksi kelas 1 yang salah.\n",
    "- Feature Importance: bCount, availability_completely, orderable, duration adalah beberapa fitur yang memiliki pengaruh tertinggi pada model.\n"
   ]
  },
  {
   "cell_type": "markdown",
   "metadata": {
    "cell_id": "ffd66383746c4915aae1855d4349a3da",
    "deepnote_app_block_visible": true,
    "deepnote_cell_type": "text-cell-h2",
    "formattedRanges": []
   },
   "source": [
    "## Prediksi Data Class Menggunakan Trained Model\n"
   ]
  },
  {
   "cell_type": "markdown",
   "metadata": {
    "cell_id": "4519df65cdef438b94cc12af88fe949d",
    "deepnote_app_block_visible": true,
    "deepnote_cell_type": "text-cell-h3",
    "formattedRanges": []
   },
   "source": [
    "### Import Data Real Class dan Pisahkan Real Prediction\n"
   ]
  },
  {
   "cell_type": "code",
   "execution_count": 24,
   "metadata": {
    "cell_id": "f483968b0b1440a3b2b8a29ea557cb32",
    "deepnote_app_block_visible": true,
    "deepnote_cell_type": "code",
    "execution_context_id": "84101a82-a4d1-4891-9ca1-15b33568b21c",
    "execution_millis": 39,
    "execution_start": 1731063250656,
    "source_hash": "a602d3b7"
   },
   "outputs": [
    {
     "name": "stdout",
     "output_type": "stream",
     "text": [
      "<class 'pandas.core.frame.DataFrame'>\n",
      "RangeIndex: 5111 entries, 0 to 5110\n",
      "Data columns (total 2 columns):\n",
      " #   Column      Non-Null Count  Dtype\n",
      "---  ------      --------------  -----\n",
      " 0   sessionNo   5111 non-null   int64\n",
      " 1   prediction  5111 non-null   int64\n",
      "dtypes: int64(2)\n",
      "memory usage: 80.0 KB\n"
     ]
    }
   ],
   "source": [
    "rc = pd.read_csv('realclass_t1.txt', sep='|', na_values='?')\n",
    "rc.info()\n",
    "\n",
    "\n",
    "real_pred = rc['prediction'].values"
   ]
  },
  {
   "cell_type": "markdown",
   "metadata": {
    "cell_id": "7238815930664a59a6202d3d84479889",
    "deepnote_app_block_visible": true,
    "deepnote_cell_type": "text-cell-h3",
    "formattedRanges": []
   },
   "source": [
    "### Load Kembali Trained Model dan Lakukan Prediksi pada Data Class\n"
   ]
  },
  {
   "cell_type": "code",
   "execution_count": 25,
   "metadata": {
    "cell_id": "d9e74e9b3bab425ba4c1b29ce7fe5885",
    "deepnote_app_block_visible": true,
    "deepnote_cell_type": "code",
    "execution_context_id": "84101a82-a4d1-4891-9ca1-15b33568b21c",
    "execution_millis": 310,
    "execution_start": 1731063250740,
    "source_hash": "e12889e1"
   },
   "outputs": [],
   "source": [
    "# Load the trained model from the pickle file\n",
    "with open('random_forest_model.pickle', 'rb') as f:\n",
    "    clf = pickle.load(f)\n",
    "\n",
    "# Load the column names for features from the pickle file\n",
    "with open('transact_train.pickle', 'rb') as fp:\n",
    "    feature_columns = pickle.load(fp)\n",
    "\n",
    "# Ensure dc (data_class) has the same columns as data_train (excluding the 'order' column)\n",
    "# Assuming that dc has the same columns as data_train, except for 'order'\n",
    "X_dc = dc[feature_columns]\n",
    "\n",
    "# Predict using the model\n",
    "Y_dc_pred = clf.predict(X_dc)"
   ]
  },
  {
   "cell_type": "code",
   "execution_count": 26,
   "metadata": {
    "cell_id": "132f99e2822c42648ca9291d006f2452",
    "deepnote_app_block_visible": true,
    "deepnote_cell_type": "code",
    "execution_context_id": "84101a82-a4d1-4891-9ca1-15b33568b21c",
    "execution_millis": 12,
    "execution_start": 1731063251097,
    "source_hash": "51c1cfb6"
   },
   "outputs": [
    {
     "data": {
      "text/plain": [
       "array([1, 1, 1, ..., 0, 0, 0])"
      ]
     },
     "execution_count": 26,
     "metadata": {},
     "output_type": "execute_result"
    }
   ],
   "source": [
    "Y_dc_pred"
   ]
  },
  {
   "cell_type": "markdown",
   "metadata": {
    "cell_id": "b3383926a02a40e39c054b4d724ddd0f",
    "deepnote_app_block_visible": true,
    "deepnote_cell_type": "text-cell-h3",
    "formattedRanges": []
   },
   "source": [
    "### Tampilkan Akurasi dan Confusion Matrix\n"
   ]
  },
  {
   "cell_type": "code",
   "execution_count": 27,
   "metadata": {
    "cell_id": "befa47269ff44a7fba9f9c01441839fb",
    "deepnote_app_block_visible": true,
    "deepnote_cell_type": "code",
    "execution_context_id": "84101a82-a4d1-4891-9ca1-15b33568b21c",
    "execution_millis": 0,
    "execution_start": 1731063251153,
    "source_hash": "8f00a27b"
   },
   "outputs": [
    {
     "name": "stdout",
     "output_type": "stream",
     "text": [
      "Akurasi 0.8215613382899628\n",
      "              precision    recall  f1-score   support\n",
      "\n",
      "           0       0.92      0.73      0.82      2786\n",
      "           1       0.74      0.93      0.83      2325\n",
      "\n",
      "    accuracy                           0.82      5111\n",
      "   macro avg       0.83      0.83      0.82      5111\n",
      "weighted avg       0.84      0.82      0.82      5111\n",
      "\n",
      "[[4271 1148]\n",
      " [ 536 4045]]\n"
     ]
    }
   ],
   "source": [
    "# Calculate accuracy\n",
    "acc = accuracy_score(real_pred, Y_dc_pred)\n",
    "print(\"Akurasi {}\".format(acc))\n",
    "\n",
    "# Print detailed classification report\n",
    "print(classification_report(real_pred, Y_dc_pred))\n",
    "\n",
    "# tampilkan confusion matrix\n",
    "print(confusion_matrix(Y_test, Y_pred))"
   ]
  }
 ],
 "metadata": {
  "deepnote_app_comments_enabled": false,
  "deepnote_app_layout": "powerful-article",
  "deepnote_app_reactivity_enabled": true,
  "deepnote_notebook_id": "eed2ffc32b694e5a958053ac43c51f1d",
  "deepnote_persisted_session": {
   "createdAt": "2024-11-08T07:51:19.644Z"
  },
  "language_info": {
   "name": "python"
  }
 },
 "nbformat": 4,
 "nbformat_minor": 0
}
